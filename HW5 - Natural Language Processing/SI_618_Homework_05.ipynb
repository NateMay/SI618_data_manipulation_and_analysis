{
 "cells": [
  {
   "cell_type": "markdown",
   "metadata": {},
   "source": [
    "# SI 618 Homework 5 - Natural Language Processing"
   ]
  },
  {
   "cell_type": "markdown",
   "metadata": {},
   "source": [
    "### The total score for this assignment will be 100 points, consisting of:\n",
    "- 10 pt: Overall quality of spelling, grammar, punctuation, etc. of written sentences.\n",
    "- 10 pt: Code is written in [PEP 8](https://www.python.org/dev/peps/pep-0008/) style.\n",
    "- 80 pt: Homework questions. Questions 1 through 6 are worth 10 points each; Question 7 is worth 20 points."
   ]
  },
  {
   "cell_type": "markdown",
   "metadata": {},
   "source": [
    "## Background\n",
    "\n",
    "(From https://www.kaggle.com/headsortails/us-election-2020-presidential-debates.)\n",
    "\n",
    "The US 2020 election saw the incumbent Republican president Donald Trump facing off against his Democrat challenger Joe Biden. Both candidates agreed to debate their political stances in the lead-up to the vote on November 3rd.\n",
    "\n",
    "The 1st debate took place on September 29th at Case Western Reserve University in Cleveland, Ohio. It was moderated by Fox News anchor Chris Wallace. \n",
    "\n",
    "After Donald Trump tested positive for Covid-19 after his first debate and subsequently recovered, the 2nd presidential debate was initially converted into a virtual event. However, Trump declined to participate in a virtual debate and the event was transformed into a (socially distanced) town hall with Joe Biden alone. This event was moderated by George Stephanopoulos on the ABC network and took place on October 15th. Donald Trump then decided to hold a town hall of his own, which took place at the same day and time as the Biden town hall and was aired on NBC. This event was moderated by Savannah Guthrie.\n",
    "\n",
    "The actual 2nd, and final, presidential debate between Biden and Trump took place on October 22nd at Belmont University, Nashville, Tennessee and was moderated by NBC News' Kristen Welker. This debate implemented stricter conditions on the candidates' speaking times to limit the frequent interruptions that had characterised the 1st debate.\n",
    "\n",
    "The goal of this homework assignment is to investigate the transcripts of those events.\n",
    "\n",
    "The data files are available via https://github.com/umsi-data-science/data/tree/main/us_election_2020.  Note that each file is available in two formats: CSV and TXT. You can work from either format -- the content of the corresponding CSV and TXT files is the same.\n",
    "\n",
    "You can either use the correct URLs to the Raw version of the data files like we've done with other data files in the course so far, you can fork the repo if you're comfortable with ```git```, or you can click on each file and then view the \"Raw\" format and download the resulting file.  You do not need the us_election_2020_vice_presidential_debate files as we are only concerned with the presidential debates and town halls for this assignment."
   ]
  },
  {
   "cell_type": "markdown",
   "metadata": {},
   "source": [
    "Note that *you* will need to make decisions about how you\n",
    "proceed with the analysis.  For example, you will need to \n",
    "decide whether you include or omit stopwords, whether you stem or lemmatize words before analysis, and how you handle weird situations.\n",
    "\n",
    "You will need to decide when to exclude speech from the moderators and when to include it (note that in most cases, the assignment asks about the candidates, which means Trump and Biden and not the moderators)."
   ]
  },
  {
   "cell_type": "markdown",
   "metadata": {},
   "source": [
    "Please fill in your uniqname in the next code cell:"
   ]
  },
  {
   "cell_type": "code",
   "execution_count": 79,
   "metadata": {},
   "outputs": [],
   "source": [
    "MY_UNIQNAME = \"natmay\""
   ]
  },
  {
   "cell_type": "markdown",
   "metadata": {},
   "source": [
    "Answer each of the questions below.  You are encouraged to use as many code and markdown cells as you need for each question.\n",
    "\n",
    "We **strongly** suggest running all cells from top to bottom before you submit your notebook."
   ]
  },
  {
   "cell_type": "code",
   "execution_count": 80,
   "metadata": {},
   "outputs": [],
   "source": [
    "import pandas as pd\n",
    "import numpy as np\n",
    "import re\n",
    "import seaborn as sns\n",
    "import matplotlib.pyplot as plt\n",
    "%matplotlib inline\n",
    "import os\n",
    "from collections import Counter\n",
    "import spacy\n",
    "nlp = spacy.load('en_core_web_sm')"
   ]
  },
  {
   "cell_type": "code",
   "execution_count": 81,
   "metadata": {},
   "outputs": [],
   "source": [
    "base = 'https://raw.githubusercontent.com/umsi-data-science/data/main/us_election_2020/'"
   ]
  },
  {
   "cell_type": "markdown",
   "metadata": {},
   "source": [
    "## 1. How many words did each candidate (Trump & Biden) use in each debate?"
   ]
  },
  {
   "cell_type": "code",
   "execution_count": 82,
   "metadata": {},
   "outputs": [
    {
     "data": {
      "text/html": [
       "<div>\n",
       "<style scoped>\n",
       "    .dataframe tbody tr th:only-of-type {\n",
       "        vertical-align: middle;\n",
       "    }\n",
       "\n",
       "    .dataframe tbody tr th {\n",
       "        vertical-align: top;\n",
       "    }\n",
       "\n",
       "    .dataframe thead th {\n",
       "        text-align: right;\n",
       "    }\n",
       "</style>\n",
       "<table border=\"1\" class=\"dataframe\">\n",
       "  <thead>\n",
       "    <tr style=\"text-align: right;\">\n",
       "      <th></th>\n",
       "      <th>speaker</th>\n",
       "      <th>minute</th>\n",
       "      <th>text</th>\n",
       "    </tr>\n",
       "  </thead>\n",
       "  <tbody>\n",
       "    <tr>\n",
       "      <th>0</th>\n",
       "      <td>Chris Wallace</td>\n",
       "      <td>01:20</td>\n",
       "      <td>Good evening from the Health Education Campus ...</td>\n",
       "    </tr>\n",
       "    <tr>\n",
       "      <th>1</th>\n",
       "      <td>Chris Wallace</td>\n",
       "      <td>02:10</td>\n",
       "      <td>This debate is being conducted under health an...</td>\n",
       "    </tr>\n",
       "    <tr>\n",
       "      <th>2</th>\n",
       "      <td>Vice President Joe Biden</td>\n",
       "      <td>02:49</td>\n",
       "      <td>How you doing, man?</td>\n",
       "    </tr>\n",
       "  </tbody>\n",
       "</table>\n",
       "</div>"
      ],
      "text/plain": [
       "                    speaker minute  \\\n",
       "0             Chris Wallace  01:20   \n",
       "1             Chris Wallace  02:10   \n",
       "2  Vice President Joe Biden  02:49   \n",
       "\n",
       "                                                text  \n",
       "0  Good evening from the Health Education Campus ...  \n",
       "1  This debate is being conducted under health an...  \n",
       "2                                How you doing, man?  "
      ]
     },
     "execution_count": 82,
     "metadata": {},
     "output_type": "execute_result"
    }
   ],
   "source": [
    "first = pd.read_csv(base + 'us_election_2020_1st_presidential_debate.csv')\n",
    "second = pd.read_csv(base + 'us_election_2020_2nd_presidential_debate.csv')\n",
    "first.head(3)"
   ]
  },
  {
   "cell_type": "code",
   "execution_count": 83,
   "metadata": {},
   "outputs": [
    {
     "data": {
      "text/plain": [
       "array(['Chris Wallace', 'Vice President Joe Biden',\n",
       "       'President Donald J. Trump', 'Chris Wallace:', 'Kristen Welker',\n",
       "       'Donald Trump', 'Joe Biden'], dtype=object)"
      ]
     },
     "execution_count": 83,
     "metadata": {},
     "output_type": "execute_result"
    }
   ],
   "source": [
    "debates = pd.concat([first, second])\n",
    "debates.speaker.unique()"
   ]
  },
  {
   "cell_type": "code",
   "execution_count": 84,
   "metadata": {},
   "outputs": [],
   "source": [
    "trump = debates[debates.speaker.str.contains('Trump')]\n",
    "biden = debates[debates.speaker.str.contains('Biden')]"
   ]
  },
  {
   "cell_type": "code",
   "execution_count": 85,
   "metadata": {},
   "outputs": [],
   "source": [
    "trump_text = trump.text.str.cat(sep=' ').lower()\n",
    "biden_text = biden.text.str.cat(sep=' ').lower()"
   ]
  },
  {
   "cell_type": "code",
   "execution_count": 86,
   "metadata": {},
   "outputs": [],
   "source": [
    "def remove_puc(text):\n",
    "    result = ''\n",
    "    for char in text:\n",
    "        if char not in '''!()-[]{};:'\"\\,<>./?@#$%^&*_~‘’''':\n",
    "            result = result + char\n",
    "    return result.replace(os.linesep, \" \")\n",
    "\n",
    "\n",
    "biden_text = remove_puc(biden_text)"
   ]
  },
  {
   "cell_type": "code",
   "execution_count": 87,
   "metadata": {},
   "outputs": [
    {
     "name": "stdout",
     "output_type": "stream",
     "text": [
      "Trump used 14836 total words, 1803 of which were unique\n"
     ]
    }
   ],
   "source": [
    "trump_text = remove_puc(trump_text)\n",
    "trump_words = trump_text.split(' ')\n",
    "len(trump_words)\n",
    "print('Trump used', len(trump_words), 'total words,', len(set(trump_words)), 'of which were unique')"
   ]
  },
  {
   "cell_type": "code",
   "execution_count": 88,
   "metadata": {},
   "outputs": [
    {
     "name": "stdout",
     "output_type": "stream",
     "text": [
      "Biden used 13788 total words, 2002 of which were unique\n"
     ]
    }
   ],
   "source": [
    "biden_text = remove_puc(biden_text)\n",
    "biden_words = biden_text.split(' ')\n",
    "print('Biden used', len(biden_words), 'total words,', len(set(biden_words)), 'of which were unique')"
   ]
  },
  {
   "cell_type": "markdown",
   "metadata": {},
   "source": [
    "Assumptions: \n",
    "\n",
    "1. I did not include the town halls since they are not considered a 'debate' according to the paragraph above\n",
    "2. I included stop words\n",
    "3. I calculated both the total instances of words as well as the number of unique words.\n",
    "\n",
    "Answer: \n",
    "\n",
    "- Trump used 14836 total words, 1803 of which were unique\n",
    "- Biden used 13788 total words, 2002 of which were unique\n"
   ]
  },
  {
   "cell_type": "markdown",
   "metadata": {},
   "source": [
    "## 2. How many turns speaking did each candidate (Trump & Biden) take during each of the debates?\n",
    "\n",
    "A \"turn\" is an uninterrupted period of speech.  For example, consider the following exchange:\n",
    "\n",
    ">Chris: Big data is really interesting.\n",
    "\n",
    ">Colleague: Actually, it's a bit boring.\n",
    "\n",
    ">Chris: Really? Why would you say that?\n",
    "\n",
    ">Colleague: Your choice of tools is really limited.\n",
    "\n",
    ">Colleague: I mean, you're basically stuck with Spark, right?\n",
    "\n",
    ">Chris: Yeah, but Spark provides most of the functionality you need to do really cool data science work.\n",
    "\n",
    "In it, Chris had 3 turns, while his colleague had 2.\n",
    "\n",
    "You answer should include a dataframe that looks like (with the real values instead of $__$:"
   ]
  },
  {
   "cell_type": "markdown",
   "metadata": {},
   "source": [
    "<div>\n",
    "<style scoped=\"\">\n",
    "    .dataframe tbody tr th:only-of-type {\n",
    "        vertical-align: middle;\n",
    "    }\n",
    "\n",
    "    .dataframe tbody tr th {\n",
    "        vertical-align: top;\n",
    "    }\n",
    "\n",
    "    .dataframe thead th {\n",
    "        text-align: right;\n",
    "    }\n",
    "</style>\n",
    "<table border=\"1\" class=\"dataframe\">\n",
    "  <thead>\n",
    "    <tr style=\"text-align: right;\">\n",
    "      <th></th>\n",
    "      <th>First Debate</th>\n",
    "      <th>Second Debate</th>\n",
    "    </tr>\n",
    "    <tr>\n",
    "      <th>Candidate</th>\n",
    "      <th></th>\n",
    "      <th></th>\n",
    "    </tr>\n",
    "  </thead>\n",
    "  <tbody>\n",
    "    <tr>\n",
    "      <th>Trump</th>\n",
    "      <td>__</td>\n",
    "      <td>__</td>\n",
    "    </tr>\n",
    "    <tr>\n",
    "      <th>Biden</th>\n",
    "      <td>__</td>\n",
    "      <td>__</td>\n",
    "    </tr>\n",
    "  </tbody>\n",
    "</table>\n",
    "</div>"
   ]
  },
  {
   "cell_type": "code",
   "execution_count": 89,
   "metadata": {},
   "outputs": [],
   "source": [
    "# drop na values\n",
    "times1 = first.dropna(subset=['minute']).copy()\n",
    "times2 = second.dropna(subset=['minute']).copy()"
   ]
  },
  {
   "cell_type": "code",
   "execution_count": 90,
   "metadata": {},
   "outputs": [],
   "source": [
    "# ensure the hour is represented\n",
    "times1.loc[times1['minute'].str.len() < 6, 'minute'] = '00:' + times1['minute']\n",
    "times2.loc[times2['minute'].str.len() < 6, 'minute'] = '00:' + times2['minute']"
   ]
  },
  {
   "cell_type": "code",
   "execution_count": 91,
   "metadata": {},
   "outputs": [
    {
     "data": {
      "text/html": [
       "<div>\n",
       "<style scoped>\n",
       "    .dataframe tbody tr th:only-of-type {\n",
       "        vertical-align: middle;\n",
       "    }\n",
       "\n",
       "    .dataframe tbody tr th {\n",
       "        vertical-align: top;\n",
       "    }\n",
       "\n",
       "    .dataframe thead th {\n",
       "        text-align: right;\n",
       "    }\n",
       "</style>\n",
       "<table border=\"1\" class=\"dataframe\">\n",
       "  <thead>\n",
       "    <tr style=\"text-align: right;\">\n",
       "      <th></th>\n",
       "      <th>speaker</th>\n",
       "      <th>minute</th>\n",
       "      <th>text</th>\n",
       "      <th>h</th>\n",
       "      <th>m</th>\n",
       "      <th>s</th>\n",
       "    </tr>\n",
       "  </thead>\n",
       "  <tbody>\n",
       "    <tr>\n",
       "      <th>0</th>\n",
       "      <td>President Donald J. Trump</td>\n",
       "      <td>00:00:15</td>\n",
       "      <td>Well, I’ve spoken to the companies and we can ...</td>\n",
       "      <td>00</td>\n",
       "      <td>00</td>\n",
       "      <td>15</td>\n",
       "    </tr>\n",
       "    <tr>\n",
       "      <th>1</th>\n",
       "      <td>Vice President Joe Biden</td>\n",
       "      <td>00:00:22</td>\n",
       "      <td>God.</td>\n",
       "      <td>00</td>\n",
       "      <td>00</td>\n",
       "      <td>22</td>\n",
       "    </tr>\n",
       "    <tr>\n",
       "      <th>2</th>\n",
       "      <td>President Donald J. Trump</td>\n",
       "      <td>00:00:23</td>\n",
       "      <td>It is a very political thing. I’ve spoken to P...</td>\n",
       "      <td>00</td>\n",
       "      <td>00</td>\n",
       "      <td>23</td>\n",
       "    </tr>\n",
       "    <tr>\n",
       "      <th>3</th>\n",
       "      <td>Chris Wallace</td>\n",
       "      <td>00:00:38</td>\n",
       "      <td>So you’re suggesting that the head of your Ope...</td>\n",
       "      <td>00</td>\n",
       "      <td>00</td>\n",
       "      <td>38</td>\n",
       "    </tr>\n",
       "    <tr>\n",
       "      <th>4</th>\n",
       "      <td>President Donald J. Trump</td>\n",
       "      <td>00:00:42</td>\n",
       "      <td>I disagree with him. No, I disagree with both ...</td>\n",
       "      <td>00</td>\n",
       "      <td>00</td>\n",
       "      <td>42</td>\n",
       "    </tr>\n",
       "    <tr>\n",
       "      <th>...</th>\n",
       "      <td>...</td>\n",
       "      <td>...</td>\n",
       "      <td>...</td>\n",
       "      <td>...</td>\n",
       "      <td>...</td>\n",
       "      <td>...</td>\n",
       "    </tr>\n",
       "    <tr>\n",
       "      <th>783</th>\n",
       "      <td>Chris Wallace</td>\n",
       "      <td>01:10:43</td>\n",
       "      <td>Gentlemen, just say that’s the end of it [cros...</td>\n",
       "      <td>01</td>\n",
       "      <td>10</td>\n",
       "      <td>43</td>\n",
       "    </tr>\n",
       "    <tr>\n",
       "      <th>784</th>\n",
       "      <td>President Donald J. Trump</td>\n",
       "      <td>01:10:47</td>\n",
       "      <td>I want to see an honest ballot count.</td>\n",
       "      <td>01</td>\n",
       "      <td>10</td>\n",
       "      <td>47</td>\n",
       "    </tr>\n",
       "    <tr>\n",
       "      <th>785</th>\n",
       "      <td>Chris Wallace</td>\n",
       "      <td>01:10:48</td>\n",
       "      <td>We’re going to leave it there-</td>\n",
       "      <td>01</td>\n",
       "      <td>10</td>\n",
       "      <td>48</td>\n",
       "    </tr>\n",
       "    <tr>\n",
       "      <th>786</th>\n",
       "      <td>President Donald J. Trump</td>\n",
       "      <td>01:10:49</td>\n",
       "      <td>And I think he does too-</td>\n",
       "      <td>01</td>\n",
       "      <td>10</td>\n",
       "      <td>49</td>\n",
       "    </tr>\n",
       "    <tr>\n",
       "      <th>787</th>\n",
       "      <td>Chris Wallace</td>\n",
       "      <td>01:10:50</td>\n",
       "      <td>… to be continued in more debates as we go on....</td>\n",
       "      <td>01</td>\n",
       "      <td>10</td>\n",
       "      <td>50</td>\n",
       "    </tr>\n",
       "  </tbody>\n",
       "</table>\n",
       "<p>788 rows × 6 columns</p>\n",
       "</div>"
      ],
      "text/plain": [
       "                       speaker    minute  \\\n",
       "0    President Donald J. Trump  00:00:15   \n",
       "1     Vice President Joe Biden  00:00:22   \n",
       "2    President Donald J. Trump  00:00:23   \n",
       "3                Chris Wallace  00:00:38   \n",
       "4    President Donald J. Trump  00:00:42   \n",
       "..                         ...       ...   \n",
       "783              Chris Wallace  01:10:43   \n",
       "784  President Donald J. Trump  01:10:47   \n",
       "785              Chris Wallace  01:10:48   \n",
       "786  President Donald J. Trump  01:10:49   \n",
       "787              Chris Wallace  01:10:50   \n",
       "\n",
       "                                                  text   h   m   s  \n",
       "0    Well, I’ve spoken to the companies and we can ...  00  00  15  \n",
       "1                                                 God.  00  00  22  \n",
       "2    It is a very political thing. I’ve spoken to P...  00  00  23  \n",
       "3    So you’re suggesting that the head of your Ope...  00  00  38  \n",
       "4    I disagree with him. No, I disagree with both ...  00  00  42  \n",
       "..                                                 ...  ..  ..  ..  \n",
       "783  Gentlemen, just say that’s the end of it [cros...  01  10  43  \n",
       "784              I want to see an honest ballot count.  01  10  47  \n",
       "785                     We’re going to leave it there-  01  10  48  \n",
       "786                           And I think he does too-  01  10  49  \n",
       "787  … to be continued in more debates as we go on....  01  10  50  \n",
       "\n",
       "[788 rows x 6 columns]"
      ]
     },
     "execution_count": 91,
     "metadata": {},
     "output_type": "execute_result"
    }
   ],
   "source": [
    "# create columns for sorting\n",
    "times1['h'] = times1['minute'].str[:2]\n",
    "times1['m'] = times1['minute'].str[3:5]\n",
    "times1['s'] = times1['minute'].str[6:]\n",
    "\n",
    "times1 = times1.sort_values(by=['h', 'm', 's']).reset_index(drop=True)\n",
    "times1"
   ]
  },
  {
   "cell_type": "code",
   "execution_count": 92,
   "metadata": {},
   "outputs": [
    {
     "data": {
      "text/html": [
       "<div>\n",
       "<style scoped>\n",
       "    .dataframe tbody tr th:only-of-type {\n",
       "        vertical-align: middle;\n",
       "    }\n",
       "\n",
       "    .dataframe tbody tr th {\n",
       "        vertical-align: top;\n",
       "    }\n",
       "\n",
       "    .dataframe thead th {\n",
       "        text-align: right;\n",
       "    }\n",
       "</style>\n",
       "<table border=\"1\" class=\"dataframe\">\n",
       "  <thead>\n",
       "    <tr style=\"text-align: right;\">\n",
       "      <th></th>\n",
       "      <th>speaker</th>\n",
       "      <th>minute</th>\n",
       "      <th>text</th>\n",
       "      <th>h</th>\n",
       "      <th>m</th>\n",
       "      <th>s</th>\n",
       "    </tr>\n",
       "  </thead>\n",
       "  <tbody>\n",
       "    <tr>\n",
       "      <th>0</th>\n",
       "      <td>Donald Trump</td>\n",
       "      <td>00:00:00</td>\n",
       "      <td>They both want you to lose because there has b...</td>\n",
       "      <td>00</td>\n",
       "      <td>00</td>\n",
       "      <td>00</td>\n",
       "    </tr>\n",
       "    <tr>\n",
       "      <th>1</th>\n",
       "      <td>Joe Biden</td>\n",
       "      <td>00:00:00</td>\n",
       "      <td>Making sure that you, in fact, if you get pull...</td>\n",
       "      <td>00</td>\n",
       "      <td>00</td>\n",
       "      <td>00</td>\n",
       "    </tr>\n",
       "    <tr>\n",
       "      <th>2</th>\n",
       "      <td>Kristen Welker</td>\n",
       "      <td>00:00:18</td>\n",
       "      <td>Good evening, everyone. Good evening. Thank yo...</td>\n",
       "      <td>00</td>\n",
       "      <td>00</td>\n",
       "      <td>18</td>\n",
       "    </tr>\n",
       "    <tr>\n",
       "      <th>3</th>\n",
       "      <td>Donald Trump</td>\n",
       "      <td>00:00:33</td>\n",
       "      <td>And I’ll tell you, they were so bad. They took...</td>\n",
       "      <td>00</td>\n",
       "      <td>00</td>\n",
       "      <td>33</td>\n",
       "    </tr>\n",
       "    <tr>\n",
       "      <th>4</th>\n",
       "      <td>Kristen Welker</td>\n",
       "      <td>00:01:06</td>\n",
       "      <td>President Trump, same question to you, and let...</td>\n",
       "      <td>00</td>\n",
       "      <td>01</td>\n",
       "      <td>06</td>\n",
       "    </tr>\n",
       "    <tr>\n",
       "      <th>...</th>\n",
       "      <td>...</td>\n",
       "      <td>...</td>\n",
       "      <td>...</td>\n",
       "      <td>...</td>\n",
       "      <td>...</td>\n",
       "      <td>...</td>\n",
       "    </tr>\n",
       "    <tr>\n",
       "      <th>507</th>\n",
       "      <td>Kristen Welker</td>\n",
       "      <td>00:38:30</td>\n",
       "      <td>Let’s move on to the next section.</td>\n",
       "      <td>00</td>\n",
       "      <td>38</td>\n",
       "      <td>30</td>\n",
       "    </tr>\n",
       "    <tr>\n",
       "      <th>508</th>\n",
       "      <td>Joe Biden</td>\n",
       "      <td>00:38:32</td>\n",
       "      <td>That’s right. And you 525 kids not knowing whe...</td>\n",
       "      <td>00</td>\n",
       "      <td>38</td>\n",
       "      <td>32</td>\n",
       "    </tr>\n",
       "    <tr>\n",
       "      <th>509</th>\n",
       "      <td>Donald Trump</td>\n",
       "      <td>00:38:36</td>\n",
       "      <td>Go ahead.</td>\n",
       "      <td>00</td>\n",
       "      <td>38</td>\n",
       "      <td>36</td>\n",
       "    </tr>\n",
       "    <tr>\n",
       "      <th>510</th>\n",
       "      <td>Kristen Welker</td>\n",
       "      <td>00:38:37</td>\n",
       "      <td>All right. Let’s talk about our next section, ...</td>\n",
       "      <td>00</td>\n",
       "      <td>38</td>\n",
       "      <td>37</td>\n",
       "    </tr>\n",
       "    <tr>\n",
       "      <th>511</th>\n",
       "      <td>Joe Biden</td>\n",
       "      <td>00:39:14</td>\n",
       "      <td>I do. I do. My daughter is a social worker and...</td>\n",
       "      <td>00</td>\n",
       "      <td>39</td>\n",
       "      <td>14</td>\n",
       "    </tr>\n",
       "  </tbody>\n",
       "</table>\n",
       "<p>512 rows × 6 columns</p>\n",
       "</div>"
      ],
      "text/plain": [
       "            speaker    minute  \\\n",
       "0      Donald Trump  00:00:00   \n",
       "1         Joe Biden  00:00:00   \n",
       "2    Kristen Welker  00:00:18   \n",
       "3      Donald Trump  00:00:33   \n",
       "4    Kristen Welker  00:01:06   \n",
       "..              ...       ...   \n",
       "507  Kristen Welker  00:38:30   \n",
       "508       Joe Biden  00:38:32   \n",
       "509    Donald Trump  00:38:36   \n",
       "510  Kristen Welker  00:38:37   \n",
       "511       Joe Biden  00:39:14   \n",
       "\n",
       "                                                  text   h   m   s  \n",
       "0    They both want you to lose because there has b...  00  00  00  \n",
       "1    Making sure that you, in fact, if you get pull...  00  00  00  \n",
       "2    Good evening, everyone. Good evening. Thank yo...  00  00  18  \n",
       "3    And I’ll tell you, they were so bad. They took...  00  00  33  \n",
       "4    President Trump, same question to you, and let...  00  01  06  \n",
       "..                                                 ...  ..  ..  ..  \n",
       "507                 Let’s move on to the next section.  00  38  30  \n",
       "508  That’s right. And you 525 kids not knowing whe...  00  38  32  \n",
       "509                                          Go ahead.  00  38  36  \n",
       "510  All right. Let’s talk about our next section, ...  00  38  37  \n",
       "511  I do. I do. My daughter is a social worker and...  00  39  14  \n",
       "\n",
       "[512 rows x 6 columns]"
      ]
     },
     "execution_count": 92,
     "metadata": {},
     "output_type": "execute_result"
    }
   ],
   "source": [
    "times2['h'] = times2['minute'].str[:2]\n",
    "times2['m'] = times2['minute'].str[3:5]\n",
    "times2['s'] = times2['minute'].str[6:]\n",
    "times2 = times2.sort_values(by=['h', 'm', 's']).reset_index(drop=True)\n",
    "times2"
   ]
  },
  {
   "cell_type": "markdown",
   "metadata": {},
   "source": [
    "Having sorted by time, I don't think that the dialog is correct leading me to think that the times were recorded incorrectly. However, the rows seem to be ordered correctly after manually investigating. I will assume that the rows are in the correct order moving forward. "
   ]
  },
  {
   "cell_type": "code",
   "execution_count": 93,
   "metadata": {},
   "outputs": [
    {
     "data": {
      "text/plain": [
       "array(['Chris Wallace', 'Vice President Joe Biden',\n",
       "       'President Donald J. Trump', 'Chris Wallace:'], dtype=object)"
      ]
     },
     "execution_count": 93,
     "metadata": {},
     "output_type": "execute_result"
    }
   ],
   "source": [
    "first.speaker.unique()"
   ]
  },
  {
   "cell_type": "code",
   "execution_count": 94,
   "metadata": {},
   "outputs": [],
   "source": [
    "# correcting data entry issue\n",
    "first.loc[first.speaker == 'Chris Wallace:', 'speaker'] = 'Chris Wallace'"
   ]
  },
  {
   "cell_type": "code",
   "execution_count": 95,
   "metadata": {},
   "outputs": [
    {
     "data": {
      "text/html": [
       "<div>\n",
       "<style scoped>\n",
       "    .dataframe tbody tr th:only-of-type {\n",
       "        vertical-align: middle;\n",
       "    }\n",
       "\n",
       "    .dataframe tbody tr th {\n",
       "        vertical-align: top;\n",
       "    }\n",
       "\n",
       "    .dataframe thead th {\n",
       "        text-align: right;\n",
       "    }\n",
       "</style>\n",
       "<table border=\"1\" class=\"dataframe\">\n",
       "  <thead>\n",
       "    <tr style=\"text-align: right;\">\n",
       "      <th></th>\n",
       "      <th>0</th>\n",
       "      <th>1</th>\n",
       "      <th>Debate</th>\n",
       "    </tr>\n",
       "  </thead>\n",
       "  <tbody>\n",
       "    <tr>\n",
       "      <th>0</th>\n",
       "      <td>Chris Wallace</td>\n",
       "      <td>223</td>\n",
       "      <td>First Debate</td>\n",
       "    </tr>\n",
       "    <tr>\n",
       "      <th>1</th>\n",
       "      <td>Vice President Joe Biden</td>\n",
       "      <td>240</td>\n",
       "      <td>First Debate</td>\n",
       "    </tr>\n",
       "    <tr>\n",
       "      <th>2</th>\n",
       "      <td>President Donald J. Trump</td>\n",
       "      <td>305</td>\n",
       "      <td>First Debate</td>\n",
       "    </tr>\n",
       "  </tbody>\n",
       "</table>\n",
       "</div>"
      ],
      "text/plain": [
       "                           0    1        Debate\n",
       "0              Chris Wallace  223  First Debate\n",
       "1   Vice President Joe Biden  240  First Debate\n",
       "2  President Donald J. Trump  305  First Debate"
      ]
     },
     "execution_count": 95,
     "metadata": {},
     "output_type": "execute_result"
    }
   ],
   "source": [
    "turns1 = {\n",
    "    'Chris Wallace': 0, \n",
    "    'Vice President Joe Biden': 0,\n",
    "    'President Donald J. Trump': 0,\n",
    "}\n",
    "previous = ''\n",
    "for index, row in first.iterrows():\n",
    "    current = row['speaker']\n",
    "    if not current == previous:\n",
    "        turns1[current] = turns1[current] + 1\n",
    "        previous = current\n",
    "\n",
    "df_first = pd.DataFrame(data=turns1.items())\n",
    "df_first['Debate'] = 'First Debate'\n",
    "df_first"
   ]
  },
  {
   "cell_type": "code",
   "execution_count": 96,
   "metadata": {},
   "outputs": [
    {
     "data": {
      "text/plain": [
       "array(['Kristen Welker', 'Donald Trump', 'Joe Biden'], dtype=object)"
      ]
     },
     "execution_count": 96,
     "metadata": {},
     "output_type": "execute_result"
    }
   ],
   "source": [
    "second.speaker.unique()"
   ]
  },
  {
   "cell_type": "code",
   "execution_count": 97,
   "metadata": {},
   "outputs": [
    {
     "data": {
      "text/html": [
       "<div>\n",
       "<style scoped>\n",
       "    .dataframe tbody tr th:only-of-type {\n",
       "        vertical-align: middle;\n",
       "    }\n",
       "\n",
       "    .dataframe tbody tr th {\n",
       "        vertical-align: top;\n",
       "    }\n",
       "\n",
       "    .dataframe thead th {\n",
       "        text-align: right;\n",
       "    }\n",
       "</style>\n",
       "<table border=\"1\" class=\"dataframe\">\n",
       "  <thead>\n",
       "    <tr style=\"text-align: right;\">\n",
       "      <th></th>\n",
       "      <th>0</th>\n",
       "      <th>1</th>\n",
       "      <th>Debate</th>\n",
       "    </tr>\n",
       "  </thead>\n",
       "  <tbody>\n",
       "    <tr>\n",
       "      <th>0</th>\n",
       "      <td>Kristen Welker</td>\n",
       "      <td>185</td>\n",
       "      <td>Second Debate</td>\n",
       "    </tr>\n",
       "    <tr>\n",
       "      <th>1</th>\n",
       "      <td>Donald Trump</td>\n",
       "      <td>169</td>\n",
       "      <td>Second Debate</td>\n",
       "    </tr>\n",
       "    <tr>\n",
       "      <th>2</th>\n",
       "      <td>Joe Biden</td>\n",
       "      <td>113</td>\n",
       "      <td>Second Debate</td>\n",
       "    </tr>\n",
       "  </tbody>\n",
       "</table>\n",
       "</div>"
      ],
      "text/plain": [
       "                0    1         Debate\n",
       "0  Kristen Welker  185  Second Debate\n",
       "1    Donald Trump  169  Second Debate\n",
       "2       Joe Biden  113  Second Debate"
      ]
     },
     "execution_count": 97,
     "metadata": {},
     "output_type": "execute_result"
    }
   ],
   "source": [
    "turns2 = {\n",
    "    'Kristen Welker': 0, \n",
    "    'Donald Trump': 0,\n",
    "    'Joe Biden': 0, \n",
    "}\n",
    "previous = ''\n",
    "for index, row in second.iterrows():\n",
    "    current = row['speaker']\n",
    "    if not current == previous:\n",
    "        turns2[current] = turns2[current] + 1\n",
    "        previous = current\n",
    "        \n",
    "df_second = pd.DataFrame(data=turns2.items())\n",
    "df_second['Debate'] = 'Second Debate'\n",
    "df_second"
   ]
  },
  {
   "cell_type": "code",
   "execution_count": 98,
   "metadata": {},
   "outputs": [
    {
     "data": {
      "text/html": [
       "<div>\n",
       "<style scoped>\n",
       "    .dataframe tbody tr th:only-of-type {\n",
       "        vertical-align: middle;\n",
       "    }\n",
       "\n",
       "    .dataframe tbody tr th {\n",
       "        vertical-align: top;\n",
       "    }\n",
       "\n",
       "    .dataframe thead tr th {\n",
       "        text-align: left;\n",
       "    }\n",
       "\n",
       "    .dataframe thead tr:last-of-type th {\n",
       "        text-align: right;\n",
       "    }\n",
       "</style>\n",
       "<table border=\"1\" class=\"dataframe\">\n",
       "  <thead>\n",
       "    <tr>\n",
       "      <th></th>\n",
       "      <th colspan=\"2\" halign=\"left\">1</th>\n",
       "    </tr>\n",
       "    <tr>\n",
       "      <th>Debate</th>\n",
       "      <th>First Debate</th>\n",
       "      <th>Second Debate</th>\n",
       "    </tr>\n",
       "    <tr>\n",
       "      <th>Candidate</th>\n",
       "      <th></th>\n",
       "      <th></th>\n",
       "    </tr>\n",
       "  </thead>\n",
       "  <tbody>\n",
       "    <tr>\n",
       "      <th>Biden</th>\n",
       "      <td>240</td>\n",
       "      <td>113</td>\n",
       "    </tr>\n",
       "    <tr>\n",
       "      <th>Trump</th>\n",
       "      <td>305</td>\n",
       "      <td>169</td>\n",
       "    </tr>\n",
       "  </tbody>\n",
       "</table>\n",
       "</div>"
      ],
      "text/plain": [
       "                     1              \n",
       "Debate    First Debate Second Debate\n",
       "Candidate                           \n",
       "Biden              240           113\n",
       "Trump              305           169"
      ]
     },
     "execution_count": 98,
     "metadata": {},
     "output_type": "execute_result"
    }
   ],
   "source": [
    "df_turns = pd.concat([df_first, df_second])\n",
    "df_turns['Candidate'] = df_turns[0].str[-5:]\n",
    "df_turns.drop(columns=[0], inplace=True)\n",
    "df_turns = df_turns[(df_turns['Candidate'] == 'Biden') | (df_turns['Candidate'] == 'Trump')]\n",
    "df_turns.set_index(['Candidate', 'Debate']).unstack()"
   ]
  },
  {
   "cell_type": "markdown",
   "metadata": {},
   "source": [
    "I'm not 100% confident about the order of the statements. The best I can tell, the time into the debates (the minute column) was reset at some point in each. When I reordered by the state time, the conversation was clearly out of order. Instead, I operated with the assumption that the order given by the index was the order in which the statements were made.\n",
    "\n",
    "With this, I calculated that Biden spoke 240 times uninterrupted times, and Trump spoke 305 times.\n",
    "\n",
    "The second debate data set seemed to be much shorter, and perhaps in complete, leaving Biden with only 113 speaking instances to Trump's 169."
   ]
  },
  {
   "cell_type": "markdown",
   "metadata": {},
   "source": [
    "## 3. How many different nouns did each candidate (Trump & Biden) use in each of the debates?  \n",
    "\n",
    "Present your results using a visualization (hint: a simple bar chart, with one bar per candidate per debate would be a good choice; you should decide whether you want to somehow stack or group the bars in your bar chart, or just leave them all side by side). You do not need to report **which** nouns were used.  Provide a written interpretation of your visualization."
   ]
  },
  {
   "cell_type": "code",
   "execution_count": 99,
   "metadata": {},
   "outputs": [],
   "source": [
    "def concat_text(df):\n",
    "    return remove_puc(df.text.str.cat(sep=' ').lower())\n",
    "    \n",
    "def create_token_df(df):\n",
    "    # concat all in text column and remove punctuation\n",
    "    text = concat_text(df)\n",
    "\n",
    "    # use spacy to get token data and store in dataframe\n",
    "    doc = nlp(text)\n",
    "    tokens = []\n",
    "\n",
    "    for token in doc:\n",
    "        if not token.is_space:\n",
    "            tokens.append([token.text, token.lemma_, token.pos_])\n",
    "            \n",
    "    return pd.DataFrame(np.array(tokens), columns=['text', 'lemma', 'POS'])\n",
    "    \n",
    "    \n",
    "def count_unique_nouns(df):\n",
    "    return len(df[df['POS'].isin(['NOUN', 'PROPN'])].text.unique())\n",
    "    \n",
    "    \n",
    "def noun_pipeline(df):\n",
    "    tokens = create_token_df(df)\n",
    "    return count_unique_nouns(tokens)\n"
   ]
  },
  {
   "cell_type": "code",
   "execution_count": 100,
   "metadata": {},
   "outputs": [
    {
     "data": {
      "text/html": [
       "<div>\n",
       "<style scoped>\n",
       "    .dataframe tbody tr th:only-of-type {\n",
       "        vertical-align: middle;\n",
       "    }\n",
       "\n",
       "    .dataframe tbody tr th {\n",
       "        vertical-align: top;\n",
       "    }\n",
       "\n",
       "    .dataframe thead th {\n",
       "        text-align: right;\n",
       "    }\n",
       "</style>\n",
       "<table border=\"1\" class=\"dataframe\">\n",
       "  <thead>\n",
       "    <tr style=\"text-align: right;\">\n",
       "      <th></th>\n",
       "      <th>Candidate</th>\n",
       "      <th>debate</th>\n",
       "      <th>noun_count</th>\n",
       "    </tr>\n",
       "  </thead>\n",
       "  <tbody>\n",
       "    <tr>\n",
       "      <th>0</th>\n",
       "      <td>Biden</td>\n",
       "      <td>first</td>\n",
       "      <td>497</td>\n",
       "    </tr>\n",
       "    <tr>\n",
       "      <th>1</th>\n",
       "      <td>Trump</td>\n",
       "      <td>first</td>\n",
       "      <td>461</td>\n",
       "    </tr>\n",
       "    <tr>\n",
       "      <th>2</th>\n",
       "      <td>Biden</td>\n",
       "      <td>second</td>\n",
       "      <td>569</td>\n",
       "    </tr>\n",
       "    <tr>\n",
       "      <th>3</th>\n",
       "      <td>Trump</td>\n",
       "      <td>second</td>\n",
       "      <td>481</td>\n",
       "    </tr>\n",
       "  </tbody>\n",
       "</table>\n",
       "</div>"
      ],
      "text/plain": [
       "  Candidate  debate noun_count\n",
       "0     Biden   first        497\n",
       "1     Trump   first        461\n",
       "2     Biden  second        569\n",
       "3     Trump  second        481"
      ]
     },
     "execution_count": 100,
     "metadata": {},
     "output_type": "execute_result"
    }
   ],
   "source": [
    "biden_first = first[first.speaker == 'Vice President Joe Biden']\n",
    "trump_first = first[first.speaker == 'President Donald J. Trump']\n",
    "\n",
    "biden_second = second[second.speaker == 'Joe Biden']\n",
    "trump_second = second[second.speaker == 'Donald Trump']\n",
    "\n",
    "nouns_use = pd.DataFrame(np.array([\n",
    "    ['Biden', 'first', noun_pipeline(biden_first)],\n",
    "    ['Trump', 'first', noun_pipeline(trump_first)],\n",
    "    ['Biden', 'second', noun_pipeline(biden_second)],\n",
    "    ['Trump', 'second', noun_pipeline(trump_second)]\n",
    "]), columns=['Candidate', 'debate', 'noun_count'])\n",
    "nouns_use"
   ]
  },
  {
   "cell_type": "code",
   "execution_count": 101,
   "metadata": {},
   "outputs": [
    {
     "data": {
      "image/png": "[encoded data removed]",
      "text/plain": [
       "<Figure size 432x288 with 1 Axes>"
      ]
     },
     "metadata": {
      "needs_background": "light"
     },
     "output_type": "display_data"
    }
   ],
   "source": [
    "nouns_use.groupby([\"Candidate\", 'debate']).sum().astype(int).unstack().plot(kind = \"bar\", stacked = True);\n",
    "plt.legend(bbox_to_anchor=(1.05, 1), loc=2, borderaxespad=0.);"
   ]
  },
  {
   "cell_type": "markdown",
   "metadata": {},
   "source": [
    "Biden uses a broader set of nouns than trump. Including Pronouns and regular nouns, Biden used 497 and 569 nouns in the first and second debates respectively compared to Trump's 461 and 481."
   ]
  },
  {
   "cell_type": "markdown",
   "metadata": {},
   "source": [
    "## 4. Report the type-token ratio for each of the candidates (Trump & Biden), based on pooling the data from the two debates, and interpret the differences between the two candidates.\n",
    "\n",
    "In text analysis, a 'type' is a unique word, whereas a 'token' is any word.  For example, the sentence\n",
    "\n",
    "\"One fish, two fish, red fish, blue fish\"\n",
    "\n",
    "contains 8 tokens, but 5 types (one, two, red, blue, fish).\n",
    "\n",
    "Interestingly, the type-token ratio can be used to monitor changes in the use of vocabulary items in children with under-developed vocabulary and/or word finding difficulties and, for example, in adults who have suffered a stroke and who consequently exhibit word retrieval difficulties and naming difficulties. [Ref](https://www.sltinfo.com/type-token-ratio/)"
   ]
  },
  {
   "cell_type": "code",
   "execution_count": 102,
   "metadata": {},
   "outputs": [],
   "source": [
    "def token_count(df):\n",
    "    token_df = create_token_df(df)\n",
    "    return len(token_df.text)\n",
    "\n",
    "def type_count(df):\n",
    "    token_df = create_token_df(df)\n",
    "    return len(token_df.text.unique())"
   ]
  },
  {
   "cell_type": "code",
   "execution_count": 103,
   "metadata": {},
   "outputs": [
    {
     "data": {
      "text/html": [
       "<div>\n",
       "<style scoped>\n",
       "    .dataframe tbody tr th:only-of-type {\n",
       "        vertical-align: middle;\n",
       "    }\n",
       "\n",
       "    .dataframe tbody tr th {\n",
       "        vertical-align: top;\n",
       "    }\n",
       "\n",
       "    .dataframe thead th {\n",
       "        text-align: right;\n",
       "    }\n",
       "</style>\n",
       "<table border=\"1\" class=\"dataframe\">\n",
       "  <thead>\n",
       "    <tr style=\"text-align: right;\">\n",
       "      <th></th>\n",
       "      <th>Candidate</th>\n",
       "      <th>debate</th>\n",
       "      <th>token_count</th>\n",
       "      <th>type_count</th>\n",
       "    </tr>\n",
       "  </thead>\n",
       "  <tbody>\n",
       "    <tr>\n",
       "      <th>0</th>\n",
       "      <td>Biden</td>\n",
       "      <td>first</td>\n",
       "      <td>6857</td>\n",
       "      <td>1218</td>\n",
       "    </tr>\n",
       "    <tr>\n",
       "      <th>1</th>\n",
       "      <td>Trump</td>\n",
       "      <td>first</td>\n",
       "      <td>7583</td>\n",
       "      <td>1134</td>\n",
       "    </tr>\n",
       "    <tr>\n",
       "      <th>2</th>\n",
       "      <td>Biden</td>\n",
       "      <td>second</td>\n",
       "      <td>7497</td>\n",
       "      <td>1347</td>\n",
       "    </tr>\n",
       "    <tr>\n",
       "      <th>3</th>\n",
       "      <td>Trump</td>\n",
       "      <td>second</td>\n",
       "      <td>7935</td>\n",
       "      <td>1183</td>\n",
       "    </tr>\n",
       "  </tbody>\n",
       "</table>\n",
       "</div>"
      ],
      "text/plain": [
       "  Candidate  debate token_count type_count\n",
       "0     Biden   first        6857       1218\n",
       "1     Trump   first        7583       1134\n",
       "2     Biden  second        7497       1347\n",
       "3     Trump  second        7935       1183"
      ]
     },
     "execution_count": 103,
     "metadata": {},
     "output_type": "execute_result"
    }
   ],
   "source": [
    "type_token = pd.DataFrame(np.array([\n",
    "    ['Biden', 'first', token_count(biden_first), type_count(biden_first)],\n",
    "    ['Trump', 'first', token_count(trump_first), type_count(trump_first)],\n",
    "    ['Biden', 'second', token_count(biden_second), type_count(biden_second)],\n",
    "    ['Trump', 'second', token_count(trump_second), type_count(trump_second)]\n",
    "]), columns=['Candidate', 'debate', 'token_count', 'type_count'])\n",
    "type_token"
   ]
  },
  {
   "cell_type": "code",
   "execution_count": 104,
   "metadata": {},
   "outputs": [
    {
     "data": {
      "text/html": [
       "<div>\n",
       "<style scoped>\n",
       "    .dataframe tbody tr th:only-of-type {\n",
       "        vertical-align: middle;\n",
       "    }\n",
       "\n",
       "    .dataframe tbody tr th {\n",
       "        vertical-align: top;\n",
       "    }\n",
       "\n",
       "    .dataframe thead th {\n",
       "        text-align: right;\n",
       "    }\n",
       "</style>\n",
       "<table border=\"1\" class=\"dataframe\">\n",
       "  <thead>\n",
       "    <tr style=\"text-align: right;\">\n",
       "      <th></th>\n",
       "      <th>Candidate</th>\n",
       "      <th>debate</th>\n",
       "      <th>token_count</th>\n",
       "      <th>type_count</th>\n",
       "      <th>ratio</th>\n",
       "    </tr>\n",
       "  </thead>\n",
       "  <tbody>\n",
       "    <tr>\n",
       "      <th>0</th>\n",
       "      <td>Biden</td>\n",
       "      <td>first</td>\n",
       "      <td>6857</td>\n",
       "      <td>1218</td>\n",
       "      <td>0.177629</td>\n",
       "    </tr>\n",
       "    <tr>\n",
       "      <th>1</th>\n",
       "      <td>Trump</td>\n",
       "      <td>first</td>\n",
       "      <td>7583</td>\n",
       "      <td>1134</td>\n",
       "      <td>0.149545</td>\n",
       "    </tr>\n",
       "    <tr>\n",
       "      <th>2</th>\n",
       "      <td>Biden</td>\n",
       "      <td>second</td>\n",
       "      <td>7497</td>\n",
       "      <td>1347</td>\n",
       "      <td>0.179672</td>\n",
       "    </tr>\n",
       "    <tr>\n",
       "      <th>3</th>\n",
       "      <td>Trump</td>\n",
       "      <td>second</td>\n",
       "      <td>7935</td>\n",
       "      <td>1183</td>\n",
       "      <td>0.149086</td>\n",
       "    </tr>\n",
       "  </tbody>\n",
       "</table>\n",
       "</div>"
      ],
      "text/plain": [
       "  Candidate  debate token_count type_count     ratio\n",
       "0     Biden   first        6857       1218  0.177629\n",
       "1     Trump   first        7583       1134  0.149545\n",
       "2     Biden  second        7497       1347  0.179672\n",
       "3     Trump  second        7935       1183  0.149086"
      ]
     },
     "execution_count": 104,
     "metadata": {},
     "output_type": "execute_result"
    }
   ],
   "source": [
    "type_token['ratio'] = type_token['type_count'].astype(int) / type_token['token_count'].astype(int)\n",
    "type_token"
   ]
  },
  {
   "cell_type": "markdown",
   "metadata": {},
   "source": [
    "Biden has a higher type-token ratio (about 3% in each debate), implying that Trump reuses words more frequently than Biden. "
   ]
  },
  {
   "cell_type": "markdown",
   "metadata": {},
   "source": [
    "## 5. Compare the use of named entities by the candidates (Trump & Biden) in their town hall meetings.  What patterns, if any, do you see?  \n",
    "\n",
    "spaCy supports the following Named Entity types:\n",
    "PERSON, NORP (nationalities, religious and political groups), FAC (buildings, airports etc.), ORG (organizations), GPE (countries, cities etc.), LOC (mountain ranges, water bodies etc.), PRODUCT (products), EVENT (event names), WORK_OF_ART (books, song titles), LAW (legal document titles), LANGUAGE (named languages), DATE, TIME, PERCENT, MONEY, QUANTITY, ORDINAL and CARDINAL.\n",
    "\n",
    "You might want to use some visualization techniques to support your claims."
   ]
  },
  {
   "cell_type": "code",
   "execution_count": 105,
   "metadata": {},
   "outputs": [],
   "source": [
    "trump_th = pd.read_csv(base + 'us_election_2020_trump_town_hall.csv')\n",
    "biden_th = pd.read_csv(base + 'us_election_2020_biden_town_hall.csv')"
   ]
  },
  {
   "cell_type": "code",
   "execution_count": 106,
   "metadata": {},
   "outputs": [
    {
     "name": "stdout",
     "output_type": "stream",
     "text": [
      "['George Stephanopoulos' 'Joe Biden' 'Nicholas Fed' 'Kelly Lee'\n",
      " 'Anthony Archer' 'Voice Over' 'Cedric Humphrey' 'George Stephanopoulus'\n",
      " 'Angelia Politarhos' 'Speaker 1' 'Nathan Osburn' 'Andrew Lewis'\n",
      " 'Speaker 2' 'Michele Ellison' 'Mark Hoffman' 'Mieke Haeck' 'Speaker 3'\n",
      " 'Keenan Wilson']\n",
      "['Savannah Guthrie' 'Speaker 1' 'President Trump' 'Jacqueline Lugo'\n",
      " 'Barbara Peña' 'Isabella Peña' 'Savannah' 'Cristy Montesinos Alonso'\n",
      " 'Adam Schucher' 'Moriah Geene' 'Cindy Velez' 'Paulette Dale']\n"
     ]
    }
   ],
   "source": [
    "# speakers names look accurate\n",
    "print(biden_th.speaker.unique())\n",
    "print(trump_th.speaker.unique())"
   ]
  },
  {
   "cell_type": "code",
   "execution_count": 107,
   "metadata": {},
   "outputs": [],
   "source": [
    "biden_only = concat_text(biden_th[biden_th.speaker == 'Joe Biden'])\n",
    "trump_only = concat_text(trump_th[trump_th.speaker == 'President Trump'])"
   ]
  },
  {
   "cell_type": "code",
   "execution_count": 108,
   "metadata": {},
   "outputs": [],
   "source": [
    "# insert your code here\n",
    "def get_named_entities(text):\n",
    "    doc = nlp(text)\n",
    "    labels = [x.label_ for x in doc.ents]\n",
    "    return Counter(labels)"
   ]
  },
  {
   "cell_type": "code",
   "execution_count": 109,
   "metadata": {},
   "outputs": [
    {
     "data": {
      "text/plain": [
       "Counter({'ORDINAL': 19,\n",
       "         'CARDINAL': 119,\n",
       "         'DATE': 36,\n",
       "         'NORP': 21,\n",
       "         'MONEY': 10,\n",
       "         'TIME': 1,\n",
       "         'GPE': 2,\n",
       "         'QUANTITY': 2})"
      ]
     },
     "execution_count": 109,
     "metadata": {},
     "output_type": "execute_result"
    }
   ],
   "source": [
    "get_named_entities(biden_only)"
   ]
  },
  {
   "cell_type": "code",
   "execution_count": 110,
   "metadata": {},
   "outputs": [
    {
     "data": {
      "text/plain": [
       "Counter({'DATE': 40,\n",
       "         'TIME': 3,\n",
       "         'ORDINAL': 3,\n",
       "         'CARDINAL': 55,\n",
       "         'NORP': 11,\n",
       "         'MONEY': 1,\n",
       "         'QUANTITY': 1,\n",
       "         'GPE': 1})"
      ]
     },
     "execution_count": 110,
     "metadata": {},
     "output_type": "execute_result"
    }
   ],
   "source": [
    "get_named_entities(trump_only)"
   ]
  },
  {
   "cell_type": "markdown",
   "metadata": {},
   "source": [
    "Biden uses more named entities. Specifically, he uses more ordinal and cardinal nouns meaning that he was likely more quantitative. This is supported by the fact that Biden used 10 'MONEY' entities to Trump's 1 (surprisingly).\n",
    "\n",
    "He also used more NORP, implying that he is either more familiar or interested in speaking about nationalities, religious or political groups. "
   ]
  },
  {
   "cell_type": "markdown",
   "metadata": {},
   "source": [
    "## 6. Generate a word cloud for Trump's town hall (use only Trump's words) and one for Biden's town hall (again, use only Biden's words).  Compare and contrast the two word clouds.\n",
    "\n",
    "Install a word cloud generating package like the one from https://github.com/amueller/word_cloud"
   ]
  },
  {
   "cell_type": "code",
   "execution_count": 111,
   "metadata": {},
   "outputs": [],
   "source": [
    "import os\n",
    "\n",
    "from os import path\n",
    "from wordcloud import WordCloud\n",
    "\n",
    "def create_wordcloud(text):\n",
    "    # Generate a word cloud image\n",
    "    wordcloud = WordCloud().generate(text)\n",
    "\n",
    "    # Display the generated image:\n",
    "    # the matplotlib way:\n",
    "    import matplotlib.pyplot as plt\n",
    "    plt.imshow(wordcloud, interpolation='bilinear')\n",
    "    plt.axis(\"off\")\n",
    "\n",
    "    # lower max_font_size\n",
    "#     wordcloud = WordCloud(max_font_size=40).generate(text)\n",
    "#     plt.figure()\n",
    "#     plt.imshow(wordcloud, interpolation=\"bilinear\")\n",
    "#     plt.axis(\"off\")\n",
    "    plt.show()"
   ]
  },
  {
   "cell_type": "code",
   "execution_count": 112,
   "metadata": {},
   "outputs": [
    {
     "data": {
      "image/png": "[encoded data removed]",
      "text/plain": [
       "<Figure size 432x288 with 1 Axes>"
      ]
     },
     "metadata": {
      "needs_background": "light"
     },
     "output_type": "display_data"
    }
   ],
   "source": [
    "create_wordcloud(trump_only)"
   ]
  },
  {
   "cell_type": "code",
   "execution_count": 113,
   "metadata": {},
   "outputs": [
    {
     "data": {
      "image/png": "[encoded data removed]",
      "text/plain": [
       "<Figure size 432x288 with 1 Axes>"
      ]
     },
     "metadata": {
      "needs_background": "light"
     },
     "output_type": "display_data"
    }
   ],
   "source": [
    "create_wordcloud(biden_only)"
   ]
  },
  {
   "cell_type": "markdown",
   "metadata": {},
   "source": [
    "Trump's largest words are 'know', 'people', 'im', 'think', 'going' as in \"People I know think I'm going\" (lol). He loves to talk about himself ad promote his \"success\" quoting \"people say ...\" all the time. \n",
    "\n",
    "Biden's biggest words are 'well', 'going', 'thing', 'people', 'president'. While there is some overlap, clearly these words are looking forward to his eventual presidency."
   ]
  },
  {
   "cell_type": "markdown",
   "metadata": {},
   "source": [
    "## 7. Sentiment analysis of Trump vs. Biden in second debate\n",
    "\n",
    "Note that you will want to review the video on Sentiment Analysis with NLTK and spaCy from the pre-recorded lectures.\n",
    "\n",
    "Perform a sentiment analysis that compares the sentiment of the two candidates (Trump & Biden) in the second debate.  \n",
    "\n",
    "There are several ways to do this.  In its simplest form, you could determine the sentiment for each utterance, the perform some mathematical summary (sum, mean, etc.) A slightly more elegant solution would involve tracking how sentiment changes over the course of the debate for each of the candidates.  A further extension of your work might use the [pandas.DataFrame.rolling()](https://pandas.pydata.org/pandas-docs/stable/reference/api/pandas.DataFrame.rolling.html) method to calculate rolling averages, although using that function will probably require you to also learn about [time functions in pandas](https://pandas.pydata.org/pandas-docs/stable/user_guide/timeseries.html).\n",
    "\n",
    "No matter what approach you choose, you should be sure to use visualizations in your answer.  As always, provide an interpretation of your results, including any visualizations (i.e. don't just provide a visualization, explain what's interesting that you see in your visualizations)."
   ]
  },
  {
   "cell_type": "code",
   "execution_count": 114,
   "metadata": {},
   "outputs": [],
   "source": [
    "# insert your code here\n",
    "import nltk\n",
    "from nltk.sentiment.vader import SentimentIntensityAnalyzer\n",
    "sent_analyzer = SentimentIntensityAnalyzer()\n",
    "def sentiment_scores(docx):\n",
    "    return sent_analyzer.polarity_scores(docx.text)"
   ]
  },
  {
   "cell_type": "code",
   "execution_count": 115,
   "metadata": {},
   "outputs": [
    {
     "ename": "ValueError",
     "evalue": "[E090] Extension 'sentimenter' already exists on Doc. To overwrite the existing extension, set `force=True` on `Doc.set_extension`.",
     "output_type": "error",
     "traceback": [
      "\u001b[0;31m---------------------------------------------------------------------------\u001b[0m",
      "\u001b[0;31mValueError\u001b[0m                                Traceback (most recent call last)",
      "\u001b[0;32m<ipython-input-115-1b7d6347b94b>\u001b[0m in \u001b[0;36m<module>\u001b[0;34m\u001b[0m\n\u001b[1;32m      1\u001b[0m \u001b[0;32mfrom\u001b[0m \u001b[0mspacy\u001b[0m\u001b[0;34m.\u001b[0m\u001b[0mtokens\u001b[0m \u001b[0;32mimport\u001b[0m \u001b[0mDoc\u001b[0m\u001b[0;34m\u001b[0m\u001b[0;34m\u001b[0m\u001b[0m\n\u001b[0;32m----> 2\u001b[0;31m \u001b[0mDoc\u001b[0m\u001b[0;34m.\u001b[0m\u001b[0mset_extension\u001b[0m\u001b[0;34m(\u001b[0m\u001b[0;34m\"sentimenter\"\u001b[0m\u001b[0;34m,\u001b[0m\u001b[0mgetter\u001b[0m\u001b[0;34m=\u001b[0m\u001b[0msentiment_scores\u001b[0m\u001b[0;34m)\u001b[0m\u001b[0;34m\u001b[0m\u001b[0;34m\u001b[0m\u001b[0m\n\u001b[0m",
      "\u001b[0;32m~/opt/anaconda3/lib/python3.8/site-packages/spacy/tokens/doc.pyx\u001b[0m in \u001b[0;36mspacy.tokens.doc.Doc.set_extension\u001b[0;34m()\u001b[0m\n",
      "\u001b[0;31mValueError\u001b[0m: [E090] Extension 'sentimenter' already exists on Doc. To overwrite the existing extension, set `force=True` on `Doc.set_extension`."
     ]
    }
   ],
   "source": [
    "from spacy.tokens import Doc\n",
    "Doc.set_extension(\"sentimenter\",getter=sentiment_scores)"
   ]
  },
  {
   "cell_type": "code",
   "execution_count": null,
   "metadata": {},
   "outputs": [],
   "source": [
    "biden_second['rating'] = biden_second['text'].apply(lambda x: nlp(x)._.sentimenter['compound'])\n",
    "trump_second['rating'] = trump_second['text'].apply(lambda x: nlp(x)._.sentimenter['compound'])\n",
    "\n",
    "biden_first['rating'] = biden_first['text'].apply(lambda x: nlp(x)._.sentimenter['compound'])\n",
    "trump_first['rating'] = trump_first['text'].apply(lambda x: nlp(x)._.sentimenter['compound'])"
   ]
  },
  {
   "cell_type": "code",
   "execution_count": null,
   "metadata": {},
   "outputs": [],
   "source": [
    "sentiment = pd.DataFrame(np.array([\n",
    "    ['Biden', 'first', biden_first.rating.mean()],\n",
    "    ['Trump', 'first', trump_first.rating.mean()],\n",
    "    ['Biden', 'second', biden_second.rating.mean()],\n",
    "    ['Trump', 'second', trump_second.rating.mean()]\n",
    "]), columns=['Candidate', 'debate', 'sentiment', ])\n",
    "sentiment"
   ]
  },
  {
   "cell_type": "code",
   "execution_count": null,
   "metadata": {},
   "outputs": [],
   "source": [
    "sentiment.groupby([\"Candidate\", 'debate']).sum().astype(float).unstack().plot(kind = \"bar\");"
   ]
  },
  {
   "cell_type": "markdown",
   "metadata": {},
   "source": [
    "For the second debate, Biden scored a compound sentiment rating of 0.01, which is slightly more positive than perfectly neutral. Surprisingly, Trump scored higher at 0.03. I recall the Trump was on 'better behavior' since the first debate which was particularly vicious, especially on the part of Trump.\n",
    "\n",
    "I attempted to confirm this hypothesis by similarly evaluating the first debate, but to my surprise, Trump's sentiment was virtually the same in both debates. However, Biden seems to have taken on a much more positive sentiment in the first debate."
   ]
  },
  {
   "cell_type": "markdown",
   "metadata": {},
   "source": [
    "# Please submit your notebook in .IPYNB and .HTML formats\n",
    "\n",
    "We **strongly** suggest running all cells from top to bottom before you submit your notebook."
   ]
  }
 ],
 "metadata": {
  "kernelspec": {
   "display_name": "Python 3",
   "language": "python",
   "name": "python3"
  },
  "language_info": {
   "codemirror_mode": {
    "name": "ipython",
    "version": 3
   },
   "file_extension": ".py",
   "mimetype": "text/x-python",
   "name": "python",
   "nbconvert_exporter": "python",
   "pygments_lexer": "ipython3",
   "version": "3.8.3"
  }
 },
 "nbformat": 4,
 "nbformat_minor": 4
}
