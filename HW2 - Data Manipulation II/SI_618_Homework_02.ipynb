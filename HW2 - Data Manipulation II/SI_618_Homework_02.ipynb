{
 "cells": [
  {
   "cell_type": "markdown",
   "metadata": {},
   "source": [
    "# SI 618 - Homework #2: More Data Manipulation"
   ]
  },
  {
   "cell_type": "markdown",
   "metadata": {},
   "source": [
    "### The total score for this assignment will be 100 points, consisting of:\n",
    "- 10 pt: Overall quality of spelling, grammar, punctuation, etc. of written sentences. ([Guide](https://drive.google.com/file/d/1L0P7xJwjUGBvyb49mL3dw1Bt7hzRTiTl/view ))\n",
    "- 10 pt: Codes are written in [PEP 8](https://www.python.org/dev/peps/pep-0008/) style.\n",
    "- 80 pt: Homework questions. \n",
    "\n",
    "Version 2021.02.08.1.CT"
   ]
  },
  {
   "cell_type": "markdown",
   "metadata": {},
   "source": [
    "# Background\n",
    "You're a Data Science Consultant for an eCommerce retail company, they've asked you to analyze their sales database. Unfortunately, they did nothing to prepare or clean their data, only exporting their 3 database tables as JSON files. It's up to you to clean their data, analyze it and answer questions to help drive business value!\n",
    "\n",
    "### The below files have been provided via the URLs shown:\n",
    "- invoices.json https://github.com/umsi-data-science/data/raw/main/invoices.json\n",
    "- items.json https://github.com/umsi-data-science/data/raw/main/items.json\n",
    "- purchases.json https://github.com/umsi-data-science/data/raw/main/purchases.json\n",
    "\n",
    "### They provided this data dictionary:\n",
    "\n",
    "**InvoiceNo:** Invoice number. Nominal, a 6-digit integral number uniquely assigned to each transaction.  \n",
    "**StockCode:** Product (item) code. Nominal, a 5-digit integral number uniquely assigned to each distinct product.  \n",
    "**Description:** Product (item) name. Nominal.   \n",
    "**Quantity:** The quantities of each product (item) per transaction. Numeric.  \n",
    "**InvoiceDate:** Invoice Date and time. Numeric, the day and time when each transaction was generated.  \n",
    "**UnitPrice:** Unit price. Numeric, Product price per unit in sterling.  \n",
    "**CustomerID:** Customer number. Nominal, a 5-digit integral number uniquely assigned to each customer.  \n",
    "**Country:** Country name. Nominal, the name of the country where each customer resides.  \n",
    "\n",
    "### A few notes from the company:\n",
    "* If the InvoiceNo starts with the letter 'c', it indicates a cancellation. When conducting this analysis we only want to analyze invoices that were shipped. (ie. not canceled)\n",
    "* The datasets should be able to be merged, each row in the invoice table corresponds to multiple rows in the purchases table.\n",
    "* To find out the description or unit cost of an item in the purchase table, the StockCode should be used to match up the product in the items table. \n",
    "* They mentioned that they've been having a difficult time lately joining the items and purchases table, maybe there's something wrong with the columns?"
   ]
  },
  {
   "cell_type": "markdown",
   "metadata": {},
   "source": [
    "# Answer the questions below.\n",
    "- Write your Python code that can answer the following questions, \n",
    "- and explain **ALL** your answers in plain English. "
   ]
  },
  {
   "cell_type": "code",
   "execution_count": 112,
   "metadata": {},
   "outputs": [],
   "source": [
    "MY_UNIQNAME = 'natmay'"
   ]
  },
  {
   "cell_type": "markdown",
   "metadata": {},
   "source": [
    "### <span style=\"color:magenta\"> Q1. [5 points] Describe the dataset. </span>\n",
    "1. Load the data. \n",
    "1. How many total invoices have been placed?\n",
    "1. How many unique customers are there?\n",
    "1. What the total number of unique items?\n",
    "1. Are there any columns with null values?\n",
    "1. Thinking ahead, how do you think you would join the different tables? Please share 2-3 sentences about your approach."
   ]
  },
  {
   "cell_type": "code",
   "execution_count": 113,
   "metadata": {},
   "outputs": [],
   "source": [
    "import pandas as pd\n",
    "import numpy as np\n",
    "\n",
    "invoices = pd.read_json('https://github.com/umsi-data-science/data/raw/main/invoices.json')\n",
    "items = pd.read_json('https://github.com/umsi-data-science/data/raw/main/items.json')\n",
    "purchases = pd.read_json('https://github.com/umsi-data-science/data/raw/main/purchases.json')\n",
    "\n"
   ]
  },
  {
   "cell_type": "code",
   "execution_count": 114,
   "metadata": {},
   "outputs": [],
   "source": [
    "\n",
    "unique_invoices = invoices.drop_duplicates('InvoiceNo')\n",
    "shipped_invoices = unique_invoices[~unique_invoices.InvoiceNo.str.contains('C')]"
   ]
  },
  {
   "source": [
    "1. Load the data. \n",
    "Loaded into: invoiced, items, and purchases"
   ],
   "cell_type": "markdown",
   "metadata": {}
  },
  {
   "cell_type": "code",
   "execution_count": 115,
   "metadata": {},
   "outputs": [
    {
     "output_type": "stream",
     "name": "stdout",
     "text": [
      "2. 22064 \"shipped\" total invoices\n"
     ]
    }
   ],
   "source": [
    "# 2. How many total invoices have been placed?\n",
    "print(f'2. {len(shipped_invoices)} total (shipped) invoices')"
   ]
  },
  {
   "cell_type": "code",
   "execution_count": 116,
   "metadata": {},
   "outputs": [
    {
     "output_type": "stream",
     "name": "stdout",
     "text": [
      "3. 4340 unique customers (who did not cancel their order)\n"
     ]
    }
   ],
   "source": [
    "# 3. How many unique customers are there?\n",
    "len(shipped_invoices.CustomerID.unique())\n",
    "print(f'3. {len(shipped_invoices.CustomerID.unique())} unique customers (who did not cancel their order)')"
   ]
  },
  {
   "cell_type": "code",
   "execution_count": 117,
   "metadata": {},
   "outputs": [
    {
     "output_type": "stream",
     "name": "stdout",
     "text": [
      "4. 4070 unique items\n"
     ]
    }
   ],
   "source": [
    "# 4) What the total number of unique items?\n",
    "print(f'4. There are {len(items.StockCode.unique())} unique items.')\n"
   ]
  },
  {
   "cell_type": "code",
   "execution_count": 118,
   "metadata": {},
   "outputs": [
    {
     "output_type": "stream",
     "name": "stdout",
     "text": [
      "True\n",
      "True\n",
      "False\n",
      "5. Yes, there are null values in the \"items\" table and \"invoices\" table, but not the \"purchases\" table\n"
     ]
    }
   ],
   "source": [
    "# 5) Are there any columns with null values?\n",
    "print(items.isnull().values.any())\n",
    "print(shipped_invoices.isnull().values.any())\n",
    "print(purchases.isnull().values.any())\n",
    "print('5. Yes, there are null values in the \"items\" table and \"invoices\" table, but not the \"purchases\" table')"
   ]
  },
  {
   "cell_type": "code",
   "execution_count": 119,
   "metadata": {},
   "outputs": [
    {
     "output_type": "stream",
     "name": "stdout",
     "text": [
      "6. The \"items.StockCode\" can likely be joined on \"purchases.StockCodeSC\". Also, \"purchases.InvoiceNo\" and \"invoices.purchases\" can likely be joined.\n"
     ]
    }
   ],
   "source": [
    "# 6) Thinking ahead, how do you think you would join the different tables? Please share 2-3 sentences about your approach.\n",
    "\n",
    "print('6. The \"items.StockCode\" can likely be joined on \"purchases.StockCodeSC\". Also, \"purchases.InvoiceNo\" and \"invoices.purchases\" can likely be joined.')"
   ]
  },
  {
   "cell_type": "markdown",
   "metadata": {},
   "source": [
    "### <span style=\"color:magenta\"> Q2. [10 points] Invoice Analysis </span>\n",
    "1. For each customer calculate how many total invoices they have placed. List the top 10 customers who have placed an invoice in descending order.\n",
    "2. Perform a similar calculation but instead of the number of invoices, calculate the total quantity of items ordered for each customer. List the top 10 customers in descending order.\n",
    "3. Compare the top 10 customers, does it appear that the more invoices a customer have, the greater the total quantity of items? Explain your reasoning.\n",
    "\n",
    "_Hint: For 2.2, you may need to join two datasets together to answer the question._"
   ]
  },
  {
   "cell_type": "code",
   "execution_count": 237,
   "metadata": {},
   "outputs": [
    {
     "output_type": "execute_result",
     "data": {
      "text/plain": [
       "            TotalInvoices\n",
       "CustomerID               \n",
       "12748.0               210\n",
       "14911.0               201\n",
       "17841.0               124\n",
       "13089.0                97\n",
       "14606.0                93\n",
       "15311.0                91\n",
       "12971.0                86\n",
       "14646.0                74\n",
       "16029.0                63\n",
       "13408.0                62"
      ],
      "text/html": "<div>\n<style scoped>\n    .dataframe tbody tr th:only-of-type {\n        vertical-align: middle;\n    }\n\n    .dataframe tbody tr th {\n        vertical-align: top;\n    }\n\n    .dataframe thead th {\n        text-align: right;\n    }\n</style>\n<table border=\"1\" class=\"dataframe\">\n  <thead>\n    <tr style=\"text-align: right;\">\n      <th></th>\n      <th>TotalInvoices</th>\n    </tr>\n    <tr>\n      <th>CustomerID</th>\n      <th></th>\n    </tr>\n  </thead>\n  <tbody>\n    <tr>\n      <th>12748.0</th>\n      <td>210</td>\n    </tr>\n    <tr>\n      <th>14911.0</th>\n      <td>201</td>\n    </tr>\n    <tr>\n      <th>17841.0</th>\n      <td>124</td>\n    </tr>\n    <tr>\n      <th>13089.0</th>\n      <td>97</td>\n    </tr>\n    <tr>\n      <th>14606.0</th>\n      <td>93</td>\n    </tr>\n    <tr>\n      <th>15311.0</th>\n      <td>91</td>\n    </tr>\n    <tr>\n      <th>12971.0</th>\n      <td>86</td>\n    </tr>\n    <tr>\n      <th>14646.0</th>\n      <td>74</td>\n    </tr>\n    <tr>\n      <th>16029.0</th>\n      <td>63</td>\n    </tr>\n    <tr>\n      <th>13408.0</th>\n      <td>62</td>\n    </tr>\n  </tbody>\n</table>\n</div>"
     },
     "metadata": {},
     "execution_count": 237
    }
   ],
   "source": [
    "# 1. For each customer calculate how many total invoices they have placed. List the top 10 customers who have placed an invoice in descending order.\n",
    "most_inv = shipped_invoices.groupby(['CustomerID']).size().sort_values(ascending=False).head(10).to_frame('TotalInvoices')\n",
    "\n",
    "most_inv"
   ]
  },
  {
   "cell_type": "code",
   "execution_count": 236,
   "metadata": {},
   "outputs": [
    {
     "output_type": "execute_result",
     "data": {
      "text/plain": [
       "            Quantity\n",
       "CustomerID          \n",
       "14646.0       197491\n",
       "16446.0        80997\n",
       "14911.0        80515\n",
       "12415.0        77670\n",
       "12346.0        74215\n",
       "17450.0        69993\n",
       "17511.0        64549\n",
       "18102.0        64124\n",
       "13694.0        63312\n",
       "14298.0        58343"
      ],
      "text/html": "<div>\n<style scoped>\n    .dataframe tbody tr th:only-of-type {\n        vertical-align: middle;\n    }\n\n    .dataframe tbody tr th {\n        vertical-align: top;\n    }\n\n    .dataframe thead th {\n        text-align: right;\n    }\n</style>\n<table border=\"1\" class=\"dataframe\">\n  <thead>\n    <tr style=\"text-align: right;\">\n      <th></th>\n      <th>Quantity</th>\n    </tr>\n    <tr>\n      <th>CustomerID</th>\n      <th></th>\n    </tr>\n  </thead>\n  <tbody>\n    <tr>\n      <th>14646.0</th>\n      <td>197491</td>\n    </tr>\n    <tr>\n      <th>16446.0</th>\n      <td>80997</td>\n    </tr>\n    <tr>\n      <th>14911.0</th>\n      <td>80515</td>\n    </tr>\n    <tr>\n      <th>12415.0</th>\n      <td>77670</td>\n    </tr>\n    <tr>\n      <th>12346.0</th>\n      <td>74215</td>\n    </tr>\n    <tr>\n      <th>17450.0</th>\n      <td>69993</td>\n    </tr>\n    <tr>\n      <th>17511.0</th>\n      <td>64549</td>\n    </tr>\n    <tr>\n      <th>18102.0</th>\n      <td>64124</td>\n    </tr>\n    <tr>\n      <th>13694.0</th>\n      <td>63312</td>\n    </tr>\n    <tr>\n      <th>14298.0</th>\n      <td>58343</td>\n    </tr>\n  </tbody>\n</table>\n</div>"
     },
     "metadata": {},
     "execution_count": 236
    }
   ],
   "source": [
    "# 2. Perform a similar calculation but instead of the number of invoices, calculate the total quantity of items ordered for each customer. List the top 10 customers in descending order.\n",
    "\n",
    "c_ID_add = pd.merge(purchases, shipped_invoices, on=\"InvoiceNo\", how=\"left\")\n",
    "\n",
    "most_quant = c_ID_add.groupby('CustomerID').sum().sort_values(by=\"Quantity\", ascending=False).head(10)\n",
    "\n",
    "most_quant"
   ]
  },
  {
   "cell_type": "code",
   "execution_count": 122,
   "metadata": {},
   "outputs": [
    {
     "output_type": "execute_result",
     "data": {
      "text/plain": [
       "            Invoices  Quantity\n",
       "CustomerID                    \n",
       "12748.0        210.0       NaN\n",
       "14911.0        201.0   80515.0\n",
       "17841.0        124.0       NaN\n",
       "13089.0         97.0       NaN\n",
       "14606.0         93.0       NaN\n",
       "15311.0         91.0       NaN\n",
       "12971.0         86.0       NaN\n",
       "14646.0         74.0  197491.0\n",
       "16029.0         63.0       NaN\n",
       "13408.0         62.0       NaN\n",
       "16446.0          NaN   80997.0\n",
       "12415.0          NaN   77670.0\n",
       "12346.0          NaN   74215.0\n",
       "17450.0          NaN   69993.0\n",
       "17511.0          NaN   64549.0\n",
       "18102.0          NaN   64124.0\n",
       "13694.0          NaN   63312.0\n",
       "14298.0          NaN   58343.0"
      ],
      "text/html": "<div>\n<style scoped>\n    .dataframe tbody tr th:only-of-type {\n        vertical-align: middle;\n    }\n\n    .dataframe tbody tr th {\n        vertical-align: top;\n    }\n\n    .dataframe thead th {\n        text-align: right;\n    }\n</style>\n<table border=\"1\" class=\"dataframe\">\n  <thead>\n    <tr style=\"text-align: right;\">\n      <th></th>\n      <th>Invoices</th>\n      <th>Quantity</th>\n    </tr>\n    <tr>\n      <th>CustomerID</th>\n      <th></th>\n      <th></th>\n    </tr>\n  </thead>\n  <tbody>\n    <tr>\n      <th>12748.0</th>\n      <td>210.0</td>\n      <td>NaN</td>\n    </tr>\n    <tr>\n      <th>14911.0</th>\n      <td>201.0</td>\n      <td>80515.0</td>\n    </tr>\n    <tr>\n      <th>17841.0</th>\n      <td>124.0</td>\n      <td>NaN</td>\n    </tr>\n    <tr>\n      <th>13089.0</th>\n      <td>97.0</td>\n      <td>NaN</td>\n    </tr>\n    <tr>\n      <th>14606.0</th>\n      <td>93.0</td>\n      <td>NaN</td>\n    </tr>\n    <tr>\n      <th>15311.0</th>\n      <td>91.0</td>\n      <td>NaN</td>\n    </tr>\n    <tr>\n      <th>12971.0</th>\n      <td>86.0</td>\n      <td>NaN</td>\n    </tr>\n    <tr>\n      <th>14646.0</th>\n      <td>74.0</td>\n      <td>197491.0</td>\n    </tr>\n    <tr>\n      <th>16029.0</th>\n      <td>63.0</td>\n      <td>NaN</td>\n    </tr>\n    <tr>\n      <th>13408.0</th>\n      <td>62.0</td>\n      <td>NaN</td>\n    </tr>\n    <tr>\n      <th>16446.0</th>\n      <td>NaN</td>\n      <td>80997.0</td>\n    </tr>\n    <tr>\n      <th>12415.0</th>\n      <td>NaN</td>\n      <td>77670.0</td>\n    </tr>\n    <tr>\n      <th>12346.0</th>\n      <td>NaN</td>\n      <td>74215.0</td>\n    </tr>\n    <tr>\n      <th>17450.0</th>\n      <td>NaN</td>\n      <td>69993.0</td>\n    </tr>\n    <tr>\n      <th>17511.0</th>\n      <td>NaN</td>\n      <td>64549.0</td>\n    </tr>\n    <tr>\n      <th>18102.0</th>\n      <td>NaN</td>\n      <td>64124.0</td>\n    </tr>\n    <tr>\n      <th>13694.0</th>\n      <td>NaN</td>\n      <td>63312.0</td>\n    </tr>\n    <tr>\n      <th>14298.0</th>\n      <td>NaN</td>\n      <td>58343.0</td>\n    </tr>\n  </tbody>\n</table>\n</div>"
     },
     "metadata": {},
     "execution_count": 122
    }
   ],
   "source": [
    "# 3. Compare the top 10 customers, does it appear that the more invoices a customer have, the greater the total quantity of items? Explain your reasoning.\n",
    "pd.merge(pd.DataFrame({'Invoices': most_inv}), most_quant, on=\"CustomerID\", how=\"outer\")"
   ]
  },
  {
   "source": [
    "Having more invoices does not *necessarily* indicate a higher quantity. However, there are 2 customers (14911.0 & 14646.0) in the top 10 invoice count and quanity. Given the large number of customers, I can *predict* that there is a strong correlation. "
   ],
   "cell_type": "markdown",
   "metadata": {}
  },
  {
   "cell_type": "markdown",
   "metadata": {},
   "source": [
    "### <span style=\"color:magenta\"> Q3. [10 points] Item Analysis </span>\n",
    "1. What is the average item-unit price? \n",
    "1. What % of items are under $20?\n",
    "1. Generate a histogram of the unit prices. Select reasonable min/max values for the x-axis. Why did you pick those values? What do you notice about the histogram? "
   ]
  },
  {
   "cell_type": "code",
   "execution_count": 123,
   "metadata": {},
   "outputs": [
    {
     "output_type": "stream",
     "name": "stdout",
     "text": [
      "The average unit price is $6.91.\n"
     ]
    }
   ],
   "source": [
    "# 1. What is the average item-unit price?\n",
    "unique_items = items.drop_duplicates()\n",
    "avg_price = unique_items.mean()\n",
    "print(f'The average unit price is ${round(avg_price[0], 2)}.')"
   ]
  },
  {
   "cell_type": "code",
   "execution_count": 124,
   "metadata": {},
   "outputs": [
    {
     "output_type": "stream",
     "name": "stdout",
     "text": [
      "98.4% of items are under $20\n"
     ]
    }
   ],
   "source": [
    "# 2. What % of items are under $20?\n",
    "under_20 = len(unique_items[unique_items.UnitPrice < 20.0]) \n",
    "print(f'{round(100 * under_20 / len(unique_items), 1)}% of items are under $20.')"
   ]
  },
  {
   "cell_type": "code",
   "execution_count": 125,
   "metadata": {},
   "outputs": [
    {
     "output_type": "execute_result",
     "data": {
      "text/plain": [
       "<matplotlib.axes._subplots.AxesSubplot at 0x7fd7e3435c10>"
      ]
     },
     "metadata": {},
     "execution_count": 125
    },
    {
     "output_type": "display_data",
     "data": {
      "text/plain": "<Figure size 432x288 with 1 Axes>",
      "image/svg+xml": "<?xml version=\"1.0\" encoding=\"utf-8\" standalone=\"no\"?>\n<!DOCTYPE svg PUBLIC \"-//W3C//DTD SVG 1.1//EN\"\n  \"http://www.w3.org/Graphics/SVG/1.1/DTD/svg11.dtd\">\n<!-- Created with matplotlib (https://matplotlib.org/) -->\n<svg height=\"248.518125pt\" version=\"1.1\" viewBox=\"0 0 388.965625 248.518125\" width=\"388.965625pt\" xmlns=\"http://www.w3.org/2000/svg\" xmlns:xlink=\"http://www.w3.org/1999/xlink\">\n <defs>\n  <style type=\"text/css\">\n*{stroke-linecap:butt;stroke-linejoin:round;}\n  </style>\n </defs>\n <g id=\"figure_1\">\n  <g id=\"patch_1\">\n   <path d=\"M 0 248.518125 \nL 388.965625 248.518125 \nL 388.965625 0 \nL 0 0 \nz\n\" style=\"fill:none;\"/>\n  </g>\n  <g id=\"axes_1\">\n   <g id=\"patch_2\">\n    <path d=\"M 46.965625 224.64 \nL 381.765625 224.64 \nL 381.765625 7.2 \nL 46.965625 7.2 \nz\n\" style=\"fill:#ffffff;\"/>\n   </g>\n   <g id=\"patch_3\">\n    <path clip-path=\"url(#pb55e2c8421)\" d=\"M 62.183807 224.64 \nL 72.329261 224.64 \nL 72.329261 63.547653 \nL 62.183807 63.547653 \nz\n\" style=\"fill:#1f77b4;\"/>\n   </g>\n   <g id=\"patch_4\">\n    <path clip-path=\"url(#pb55e2c8421)\" d=\"M 72.329261 224.64 \nL 82.474716 224.64 \nL 82.474716 17.554286 \nL 72.329261 17.554286 \nz\n\" style=\"fill:#1f77b4;\"/>\n   </g>\n   <g id=\"patch_5\">\n    <path clip-path=\"url(#pb55e2c8421)\" d=\"M 82.474716 224.64 \nL 92.62017 224.64 \nL 92.62017 55.227245 \nL 82.474716 55.227245 \nz\n\" style=\"fill:#1f77b4;\"/>\n   </g>\n   <g id=\"patch_6\">\n    <path clip-path=\"url(#pb55e2c8421)\" d=\"M 92.62017 224.64 \nL 102.765625 224.64 \nL 102.765625 154.378776 \nL 92.62017 154.378776 \nz\n\" style=\"fill:#1f77b4;\"/>\n   </g>\n   <g id=\"patch_7\">\n    <path clip-path=\"url(#pb55e2c8421)\" d=\"M 102.765625 224.64 \nL 112.91108 224.64 \nL 112.91108 145.133878 \nL 102.765625 145.133878 \nz\n\" style=\"fill:#1f77b4;\"/>\n   </g>\n   <g id=\"patch_8\">\n    <path clip-path=\"url(#pb55e2c8421)\" d=\"M 112.91108 224.64 \nL 123.056534 224.64 \nL 123.056534 179.802245 \nL 112.91108 179.802245 \nz\n\" style=\"fill:#1f77b4;\"/>\n   </g>\n   <g id=\"patch_9\">\n    <path clip-path=\"url(#pb55e2c8421)\" d=\"M 123.056534 224.64 \nL 133.201989 224.64 \nL 133.201989 203.607857 \nL 123.056534 203.607857 \nz\n\" style=\"fill:#1f77b4;\"/>\n   </g>\n   <g id=\"patch_10\">\n    <path clip-path=\"url(#pb55e2c8421)\" d=\"M 133.201989 224.64 \nL 143.347443 224.64 \nL 143.347443 194.825204 \nL 133.201989 194.825204 \nz\n\" style=\"fill:#1f77b4;\"/>\n   </g>\n   <g id=\"patch_11\">\n    <path clip-path=\"url(#pb55e2c8421)\" d=\"M 143.347443 224.64 \nL 153.492898 224.64 \nL 153.492898 191.358367 \nL 143.347443 191.358367 \nz\n\" style=\"fill:#1f77b4;\"/>\n   </g>\n   <g id=\"patch_12\">\n    <path clip-path=\"url(#pb55e2c8421)\" d=\"M 153.492898 224.64 \nL 163.638352 224.64 \nL 163.638352 209.848163 \nL 153.492898 209.848163 \nz\n\" style=\"fill:#1f77b4;\"/>\n   </g>\n   <g id=\"patch_13\">\n    <path clip-path=\"url(#pb55e2c8421)\" d=\"M 163.638352 224.64 \nL 173.783807 224.64 \nL 173.783807 215.857347 \nL 163.638352 215.857347 \nz\n\" style=\"fill:#1f77b4;\"/>\n   </g>\n   <g id=\"patch_14\">\n    <path clip-path=\"url(#pb55e2c8421)\" d=\"M 173.783807 224.64 \nL 183.929261 224.64 \nL 183.929261 219.093061 \nL 173.783807 219.093061 \nz\n\" style=\"fill:#1f77b4;\"/>\n   </g>\n   <g id=\"patch_15\">\n    <path clip-path=\"url(#pb55e2c8421)\" d=\"M 183.929261 224.64 \nL 194.074716 224.64 \nL 194.074716 211.003776 \nL 183.929261 211.003776 \nz\n\" style=\"fill:#1f77b4;\"/>\n   </g>\n   <g id=\"patch_16\">\n    <path clip-path=\"url(#pb55e2c8421)\" d=\"M 194.074716 224.64 \nL 204.22017 224.64 \nL 204.22017 223.484388 \nL 194.074716 223.484388 \nz\n\" style=\"fill:#1f77b4;\"/>\n   </g>\n   <g id=\"patch_17\">\n    <path clip-path=\"url(#pb55e2c8421)\" d=\"M 204.22017 224.64 \nL 214.365625 224.64 \nL 214.365625 220.942041 \nL 204.22017 220.942041 \nz\n\" style=\"fill:#1f77b4;\"/>\n   </g>\n   <g id=\"patch_18\">\n    <path clip-path=\"url(#pb55e2c8421)\" d=\"M 214.365625 224.64 \nL 224.51108 224.64 \nL 224.51108 223.484388 \nL 214.365625 223.484388 \nz\n\" style=\"fill:#1f77b4;\"/>\n   </g>\n   <g id=\"patch_19\">\n    <path clip-path=\"url(#pb55e2c8421)\" d=\"M 224.51108 224.64 \nL 234.656534 224.64 \nL 234.656534 219.324184 \nL 224.51108 219.324184 \nz\n\" style=\"fill:#1f77b4;\"/>\n   </g>\n   <g id=\"patch_20\">\n    <path clip-path=\"url(#pb55e2c8421)\" d=\"M 234.656534 224.64 \nL 244.801989 224.64 \nL 244.801989 221.635408 \nL 234.656534 221.635408 \nz\n\" style=\"fill:#1f77b4;\"/>\n   </g>\n   <g id=\"patch_21\">\n    <path clip-path=\"url(#pb55e2c8421)\" d=\"M 244.801989 224.64 \nL 254.947443 224.64 \nL 254.947443 223.946633 \nL 244.801989 223.946633 \nz\n\" style=\"fill:#1f77b4;\"/>\n   </g>\n   <g id=\"patch_22\">\n    <path clip-path=\"url(#pb55e2c8421)\" d=\"M 254.947443 224.64 \nL 265.092898 224.64 \nL 265.092898 223.022143 \nL 254.947443 223.022143 \nz\n\" style=\"fill:#1f77b4;\"/>\n   </g>\n   <g id=\"patch_23\">\n    <path clip-path=\"url(#pb55e2c8421)\" d=\"M 265.092898 224.64 \nL 275.238352 224.64 \nL 275.238352 223.484388 \nL 265.092898 223.484388 \nz\n\" style=\"fill:#1f77b4;\"/>\n   </g>\n   <g id=\"patch_24\">\n    <path clip-path=\"url(#pb55e2c8421)\" d=\"M 275.238352 224.64 \nL 285.383807 224.64 \nL 285.383807 223.022143 \nL 275.238352 223.022143 \nz\n\" style=\"fill:#1f77b4;\"/>\n   </g>\n   <g id=\"patch_25\">\n    <path clip-path=\"url(#pb55e2c8421)\" d=\"M 285.383807 224.64 \nL 295.529261 224.64 \nL 295.529261 224.64 \nL 285.383807 224.64 \nz\n\" style=\"fill:#1f77b4;\"/>\n   </g>\n   <g id=\"patch_26\">\n    <path clip-path=\"url(#pb55e2c8421)\" d=\"M 295.529261 224.64 \nL 305.674716 224.64 \nL 305.674716 224.64 \nL 295.529261 224.64 \nz\n\" style=\"fill:#1f77b4;\"/>\n   </g>\n   <g id=\"patch_27\">\n    <path clip-path=\"url(#pb55e2c8421)\" d=\"M 305.674716 224.64 \nL 315.82017 224.64 \nL 315.82017 224.408878 \nL 305.674716 224.408878 \nz\n\" style=\"fill:#1f77b4;\"/>\n   </g>\n   <g id=\"patch_28\">\n    <path clip-path=\"url(#pb55e2c8421)\" d=\"M 315.82017 224.64 \nL 325.965625 224.64 \nL 325.965625 221.404286 \nL 315.82017 221.404286 \nz\n\" style=\"fill:#1f77b4;\"/>\n   </g>\n   <g id=\"patch_29\">\n    <path clip-path=\"url(#pb55e2c8421)\" d=\"M 325.965625 224.64 \nL 336.11108 224.64 \nL 336.11108 224.408878 \nL 325.965625 224.408878 \nz\n\" style=\"fill:#1f77b4;\"/>\n   </g>\n   <g id=\"patch_30\">\n    <path clip-path=\"url(#pb55e2c8421)\" d=\"M 336.11108 224.64 \nL 346.256534 224.64 \nL 346.256534 224.408878 \nL 336.11108 224.408878 \nz\n\" style=\"fill:#1f77b4;\"/>\n   </g>\n   <g id=\"patch_31\">\n    <path clip-path=\"url(#pb55e2c8421)\" d=\"M 346.256534 224.64 \nL 356.401989 224.64 \nL 356.401989 224.64 \nL 346.256534 224.64 \nz\n\" style=\"fill:#1f77b4;\"/>\n   </g>\n   <g id=\"patch_32\">\n    <path clip-path=\"url(#pb55e2c8421)\" d=\"M 356.401989 224.64 \nL 366.547443 224.64 \nL 366.547443 223.253265 \nL 356.401989 223.253265 \nz\n\" style=\"fill:#1f77b4;\"/>\n   </g>\n   <g id=\"matplotlib.axis_1\">\n    <g id=\"xtick_1\">\n     <g id=\"line2d_1\">\n      <defs>\n       <path d=\"M 0 0 \nL 0 3.5 \n\" id=\"m2654519d21\" style=\"stroke:#000000;stroke-width:0.8;\"/>\n      </defs>\n      <g>\n       <use style=\"stroke:#000000;stroke-width:0.8;\" x=\"62.173644\" xlink:href=\"#m2654519d21\" y=\"224.64\"/>\n      </g>\n     </g>\n     <g id=\"text_1\">\n      <!-- 0 -->\n      <defs>\n       <path d=\"M 31.78125 66.40625 \nQ 24.171875 66.40625 20.328125 58.90625 \nQ 16.5 51.421875 16.5 36.375 \nQ 16.5 21.390625 20.328125 13.890625 \nQ 24.171875 6.390625 31.78125 6.390625 \nQ 39.453125 6.390625 43.28125 13.890625 \nQ 47.125 21.390625 47.125 36.375 \nQ 47.125 51.421875 43.28125 58.90625 \nQ 39.453125 66.40625 31.78125 66.40625 \nz\nM 31.78125 74.21875 \nQ 44.046875 74.21875 50.515625 64.515625 \nQ 56.984375 54.828125 56.984375 36.375 \nQ 56.984375 17.96875 50.515625 8.265625 \nQ 44.046875 -1.421875 31.78125 -1.421875 \nQ 19.53125 -1.421875 13.0625 8.265625 \nQ 6.59375 17.96875 6.59375 36.375 \nQ 6.59375 54.828125 13.0625 64.515625 \nQ 19.53125 74.21875 31.78125 74.21875 \nz\n\" id=\"DejaVuSans-48\"/>\n      </defs>\n      <g transform=\"translate(58.992394 239.238437)scale(0.1 -0.1)\">\n       <use xlink:href=\"#DejaVuSans-48\"/>\n      </g>\n     </g>\n    </g>\n    <g id=\"xtick_2\">\n     <g id=\"line2d_2\">\n      <g>\n       <use style=\"stroke:#000000;stroke-width:0.8;\" x=\"112.9873\" xlink:href=\"#m2654519d21\" y=\"224.64\"/>\n      </g>\n     </g>\n     <g id=\"text_2\">\n      <!-- 5 -->\n      <defs>\n       <path d=\"M 10.796875 72.90625 \nL 49.515625 72.90625 \nL 49.515625 64.59375 \nL 19.828125 64.59375 \nL 19.828125 46.734375 \nQ 21.96875 47.46875 24.109375 47.828125 \nQ 26.265625 48.1875 28.421875 48.1875 \nQ 40.625 48.1875 47.75 41.5 \nQ 54.890625 34.8125 54.890625 23.390625 \nQ 54.890625 11.625 47.5625 5.09375 \nQ 40.234375 -1.421875 26.90625 -1.421875 \nQ 22.3125 -1.421875 17.546875 -0.640625 \nQ 12.796875 0.140625 7.71875 1.703125 \nL 7.71875 11.625 \nQ 12.109375 9.234375 16.796875 8.0625 \nQ 21.484375 6.890625 26.703125 6.890625 \nQ 35.15625 6.890625 40.078125 11.328125 \nQ 45.015625 15.765625 45.015625 23.390625 \nQ 45.015625 31 40.078125 35.4375 \nQ 35.15625 39.890625 26.703125 39.890625 \nQ 22.75 39.890625 18.8125 39.015625 \nQ 14.890625 38.140625 10.796875 36.28125 \nz\n\" id=\"DejaVuSans-53\"/>\n      </defs>\n      <g transform=\"translate(109.80605 239.238437)scale(0.1 -0.1)\">\n       <use xlink:href=\"#DejaVuSans-53\"/>\n      </g>\n     </g>\n    </g>\n    <g id=\"xtick_3\">\n     <g id=\"line2d_3\">\n      <g>\n       <use style=\"stroke:#000000;stroke-width:0.8;\" x=\"163.800956\" xlink:href=\"#m2654519d21\" y=\"224.64\"/>\n      </g>\n     </g>\n     <g id=\"text_3\">\n      <!-- 10 -->\n      <defs>\n       <path d=\"M 12.40625 8.296875 \nL 28.515625 8.296875 \nL 28.515625 63.921875 \nL 10.984375 60.40625 \nL 10.984375 69.390625 \nL 28.421875 72.90625 \nL 38.28125 72.90625 \nL 38.28125 8.296875 \nL 54.390625 8.296875 \nL 54.390625 0 \nL 12.40625 0 \nz\n\" id=\"DejaVuSans-49\"/>\n      </defs>\n      <g transform=\"translate(157.438456 239.238437)scale(0.1 -0.1)\">\n       <use xlink:href=\"#DejaVuSans-49\"/>\n       <use x=\"63.623047\" xlink:href=\"#DejaVuSans-48\"/>\n      </g>\n     </g>\n    </g>\n    <g id=\"xtick_4\">\n     <g id=\"line2d_4\">\n      <g>\n       <use style=\"stroke:#000000;stroke-width:0.8;\" x=\"214.614612\" xlink:href=\"#m2654519d21\" y=\"224.64\"/>\n      </g>\n     </g>\n     <g id=\"text_4\">\n      <!-- 15 -->\n      <g transform=\"translate(208.252112 239.238437)scale(0.1 -0.1)\">\n       <use xlink:href=\"#DejaVuSans-49\"/>\n       <use x=\"63.623047\" xlink:href=\"#DejaVuSans-53\"/>\n      </g>\n     </g>\n    </g>\n    <g id=\"xtick_5\">\n     <g id=\"line2d_5\">\n      <g>\n       <use style=\"stroke:#000000;stroke-width:0.8;\" x=\"265.428268\" xlink:href=\"#m2654519d21\" y=\"224.64\"/>\n      </g>\n     </g>\n     <g id=\"text_5\">\n      <!-- 20 -->\n      <defs>\n       <path d=\"M 19.1875 8.296875 \nL 53.609375 8.296875 \nL 53.609375 0 \nL 7.328125 0 \nL 7.328125 8.296875 \nQ 12.9375 14.109375 22.625 23.890625 \nQ 32.328125 33.6875 34.8125 36.53125 \nQ 39.546875 41.84375 41.421875 45.53125 \nQ 43.3125 49.21875 43.3125 52.78125 \nQ 43.3125 58.59375 39.234375 62.25 \nQ 35.15625 65.921875 28.609375 65.921875 \nQ 23.96875 65.921875 18.8125 64.3125 \nQ 13.671875 62.703125 7.8125 59.421875 \nL 7.8125 69.390625 \nQ 13.765625 71.78125 18.9375 73 \nQ 24.125 74.21875 28.421875 74.21875 \nQ 39.75 74.21875 46.484375 68.546875 \nQ 53.21875 62.890625 53.21875 53.421875 \nQ 53.21875 48.921875 51.53125 44.890625 \nQ 49.859375 40.875 45.40625 35.40625 \nQ 44.1875 33.984375 37.640625 27.21875 \nQ 31.109375 20.453125 19.1875 8.296875 \nz\n\" id=\"DejaVuSans-50\"/>\n      </defs>\n      <g transform=\"translate(259.065768 239.238437)scale(0.1 -0.1)\">\n       <use xlink:href=\"#DejaVuSans-50\"/>\n       <use x=\"63.623047\" xlink:href=\"#DejaVuSans-48\"/>\n      </g>\n     </g>\n    </g>\n    <g id=\"xtick_6\">\n     <g id=\"line2d_6\">\n      <g>\n       <use style=\"stroke:#000000;stroke-width:0.8;\" x=\"316.241924\" xlink:href=\"#m2654519d21\" y=\"224.64\"/>\n      </g>\n     </g>\n     <g id=\"text_6\">\n      <!-- 25 -->\n      <g transform=\"translate(309.879424 239.238437)scale(0.1 -0.1)\">\n       <use xlink:href=\"#DejaVuSans-50\"/>\n       <use x=\"63.623047\" xlink:href=\"#DejaVuSans-53\"/>\n      </g>\n     </g>\n    </g>\n    <g id=\"xtick_7\">\n     <g id=\"line2d_7\">\n      <g>\n       <use style=\"stroke:#000000;stroke-width:0.8;\" x=\"367.05558\" xlink:href=\"#m2654519d21\" y=\"224.64\"/>\n      </g>\n     </g>\n     <g id=\"text_7\">\n      <!-- 30 -->\n      <defs>\n       <path d=\"M 40.578125 39.3125 \nQ 47.65625 37.796875 51.625 33 \nQ 55.609375 28.21875 55.609375 21.1875 \nQ 55.609375 10.40625 48.1875 4.484375 \nQ 40.765625 -1.421875 27.09375 -1.421875 \nQ 22.515625 -1.421875 17.65625 -0.515625 \nQ 12.796875 0.390625 7.625 2.203125 \nL 7.625 11.71875 \nQ 11.71875 9.328125 16.59375 8.109375 \nQ 21.484375 6.890625 26.8125 6.890625 \nQ 36.078125 6.890625 40.9375 10.546875 \nQ 45.796875 14.203125 45.796875 21.1875 \nQ 45.796875 27.640625 41.28125 31.265625 \nQ 36.765625 34.90625 28.71875 34.90625 \nL 20.21875 34.90625 \nL 20.21875 43.015625 \nL 29.109375 43.015625 \nQ 36.375 43.015625 40.234375 45.921875 \nQ 44.09375 48.828125 44.09375 54.296875 \nQ 44.09375 59.90625 40.109375 62.90625 \nQ 36.140625 65.921875 28.71875 65.921875 \nQ 24.65625 65.921875 20.015625 65.03125 \nQ 15.375 64.15625 9.8125 62.3125 \nL 9.8125 71.09375 \nQ 15.4375 72.65625 20.34375 73.4375 \nQ 25.25 74.21875 29.59375 74.21875 \nQ 40.828125 74.21875 47.359375 69.109375 \nQ 53.90625 64.015625 53.90625 55.328125 \nQ 53.90625 49.265625 50.4375 45.09375 \nQ 46.96875 40.921875 40.578125 39.3125 \nz\n\" id=\"DejaVuSans-51\"/>\n      </defs>\n      <g transform=\"translate(360.69308 239.238437)scale(0.1 -0.1)\">\n       <use xlink:href=\"#DejaVuSans-51\"/>\n       <use x=\"63.623047\" xlink:href=\"#DejaVuSans-48\"/>\n      </g>\n     </g>\n    </g>\n   </g>\n   <g id=\"matplotlib.axis_2\">\n    <g id=\"ytick_1\">\n     <g id=\"line2d_8\">\n      <defs>\n       <path d=\"M 0 0 \nL -3.5 0 \n\" id=\"mb35abed239\" style=\"stroke:#000000;stroke-width:0.8;\"/>\n      </defs>\n      <g>\n       <use style=\"stroke:#000000;stroke-width:0.8;\" x=\"46.965625\" xlink:href=\"#mb35abed239\" y=\"224.64\"/>\n      </g>\n     </g>\n     <g id=\"text_8\">\n      <!-- 0 -->\n      <g transform=\"translate(33.603125 228.439219)scale(0.1 -0.1)\">\n       <use xlink:href=\"#DejaVuSans-48\"/>\n      </g>\n     </g>\n    </g>\n    <g id=\"ytick_2\">\n     <g id=\"line2d_9\">\n      <g>\n       <use style=\"stroke:#000000;stroke-width:0.8;\" x=\"46.965625\" xlink:href=\"#mb35abed239\" y=\"178.41551\"/>\n      </g>\n     </g>\n     <g id=\"text_9\">\n      <!-- 200 -->\n      <g transform=\"translate(20.878125 182.214729)scale(0.1 -0.1)\">\n       <use xlink:href=\"#DejaVuSans-50\"/>\n       <use x=\"63.623047\" xlink:href=\"#DejaVuSans-48\"/>\n       <use x=\"127.246094\" xlink:href=\"#DejaVuSans-48\"/>\n      </g>\n     </g>\n    </g>\n    <g id=\"ytick_3\">\n     <g id=\"line2d_10\">\n      <g>\n       <use style=\"stroke:#000000;stroke-width:0.8;\" x=\"46.965625\" xlink:href=\"#mb35abed239\" y=\"132.19102\"/>\n      </g>\n     </g>\n     <g id=\"text_10\">\n      <!-- 400 -->\n      <defs>\n       <path d=\"M 37.796875 64.3125 \nL 12.890625 25.390625 \nL 37.796875 25.390625 \nz\nM 35.203125 72.90625 \nL 47.609375 72.90625 \nL 47.609375 25.390625 \nL 58.015625 25.390625 \nL 58.015625 17.1875 \nL 47.609375 17.1875 \nL 47.609375 0 \nL 37.796875 0 \nL 37.796875 17.1875 \nL 4.890625 17.1875 \nL 4.890625 26.703125 \nz\n\" id=\"DejaVuSans-52\"/>\n      </defs>\n      <g transform=\"translate(20.878125 135.990239)scale(0.1 -0.1)\">\n       <use xlink:href=\"#DejaVuSans-52\"/>\n       <use x=\"63.623047\" xlink:href=\"#DejaVuSans-48\"/>\n       <use x=\"127.246094\" xlink:href=\"#DejaVuSans-48\"/>\n      </g>\n     </g>\n    </g>\n    <g id=\"ytick_4\">\n     <g id=\"line2d_11\">\n      <g>\n       <use style=\"stroke:#000000;stroke-width:0.8;\" x=\"46.965625\" xlink:href=\"#mb35abed239\" y=\"85.966531\"/>\n      </g>\n     </g>\n     <g id=\"text_11\">\n      <!-- 600 -->\n      <defs>\n       <path d=\"M 33.015625 40.375 \nQ 26.375 40.375 22.484375 35.828125 \nQ 18.609375 31.296875 18.609375 23.390625 \nQ 18.609375 15.53125 22.484375 10.953125 \nQ 26.375 6.390625 33.015625 6.390625 \nQ 39.65625 6.390625 43.53125 10.953125 \nQ 47.40625 15.53125 47.40625 23.390625 \nQ 47.40625 31.296875 43.53125 35.828125 \nQ 39.65625 40.375 33.015625 40.375 \nz\nM 52.59375 71.296875 \nL 52.59375 62.3125 \nQ 48.875 64.0625 45.09375 64.984375 \nQ 41.3125 65.921875 37.59375 65.921875 \nQ 27.828125 65.921875 22.671875 59.328125 \nQ 17.53125 52.734375 16.796875 39.40625 \nQ 19.671875 43.65625 24.015625 45.921875 \nQ 28.375 48.1875 33.59375 48.1875 \nQ 44.578125 48.1875 50.953125 41.515625 \nQ 57.328125 34.859375 57.328125 23.390625 \nQ 57.328125 12.15625 50.6875 5.359375 \nQ 44.046875 -1.421875 33.015625 -1.421875 \nQ 20.359375 -1.421875 13.671875 8.265625 \nQ 6.984375 17.96875 6.984375 36.375 \nQ 6.984375 53.65625 15.1875 63.9375 \nQ 23.390625 74.21875 37.203125 74.21875 \nQ 40.921875 74.21875 44.703125 73.484375 \nQ 48.484375 72.75 52.59375 71.296875 \nz\n\" id=\"DejaVuSans-54\"/>\n      </defs>\n      <g transform=\"translate(20.878125 89.765749)scale(0.1 -0.1)\">\n       <use xlink:href=\"#DejaVuSans-54\"/>\n       <use x=\"63.623047\" xlink:href=\"#DejaVuSans-48\"/>\n       <use x=\"127.246094\" xlink:href=\"#DejaVuSans-48\"/>\n      </g>\n     </g>\n    </g>\n    <g id=\"ytick_5\">\n     <g id=\"line2d_12\">\n      <g>\n       <use style=\"stroke:#000000;stroke-width:0.8;\" x=\"46.965625\" xlink:href=\"#mb35abed239\" y=\"39.742041\"/>\n      </g>\n     </g>\n     <g id=\"text_12\">\n      <!-- 800 -->\n      <defs>\n       <path d=\"M 31.78125 34.625 \nQ 24.75 34.625 20.71875 30.859375 \nQ 16.703125 27.09375 16.703125 20.515625 \nQ 16.703125 13.921875 20.71875 10.15625 \nQ 24.75 6.390625 31.78125 6.390625 \nQ 38.8125 6.390625 42.859375 10.171875 \nQ 46.921875 13.96875 46.921875 20.515625 \nQ 46.921875 27.09375 42.890625 30.859375 \nQ 38.875 34.625 31.78125 34.625 \nz\nM 21.921875 38.8125 \nQ 15.578125 40.375 12.03125 44.71875 \nQ 8.5 49.078125 8.5 55.328125 \nQ 8.5 64.0625 14.71875 69.140625 \nQ 20.953125 74.21875 31.78125 74.21875 \nQ 42.671875 74.21875 48.875 69.140625 \nQ 55.078125 64.0625 55.078125 55.328125 \nQ 55.078125 49.078125 51.53125 44.71875 \nQ 48 40.375 41.703125 38.8125 \nQ 48.828125 37.15625 52.796875 32.3125 \nQ 56.78125 27.484375 56.78125 20.515625 \nQ 56.78125 9.90625 50.3125 4.234375 \nQ 43.84375 -1.421875 31.78125 -1.421875 \nQ 19.734375 -1.421875 13.25 4.234375 \nQ 6.78125 9.90625 6.78125 20.515625 \nQ 6.78125 27.484375 10.78125 32.3125 \nQ 14.796875 37.15625 21.921875 38.8125 \nz\nM 18.3125 54.390625 \nQ 18.3125 48.734375 21.84375 45.5625 \nQ 25.390625 42.390625 31.78125 42.390625 \nQ 38.140625 42.390625 41.71875 45.5625 \nQ 45.3125 48.734375 45.3125 54.390625 \nQ 45.3125 60.0625 41.71875 63.234375 \nQ 38.140625 66.40625 31.78125 66.40625 \nQ 25.390625 66.40625 21.84375 63.234375 \nQ 18.3125 60.0625 18.3125 54.390625 \nz\n\" id=\"DejaVuSans-56\"/>\n      </defs>\n      <g transform=\"translate(20.878125 43.54126)scale(0.1 -0.1)\">\n       <use xlink:href=\"#DejaVuSans-56\"/>\n       <use x=\"63.623047\" xlink:href=\"#DejaVuSans-48\"/>\n       <use x=\"127.246094\" xlink:href=\"#DejaVuSans-48\"/>\n      </g>\n     </g>\n    </g>\n    <g id=\"text_13\">\n     <!-- Frequency -->\n     <defs>\n      <path d=\"M 9.8125 72.90625 \nL 51.703125 72.90625 \nL 51.703125 64.59375 \nL 19.671875 64.59375 \nL 19.671875 43.109375 \nL 48.578125 43.109375 \nL 48.578125 34.8125 \nL 19.671875 34.8125 \nL 19.671875 0 \nL 9.8125 0 \nz\n\" id=\"DejaVuSans-70\"/>\n      <path d=\"M 41.109375 46.296875 \nQ 39.59375 47.171875 37.8125 47.578125 \nQ 36.03125 48 33.890625 48 \nQ 26.265625 48 22.1875 43.046875 \nQ 18.109375 38.09375 18.109375 28.8125 \nL 18.109375 0 \nL 9.078125 0 \nL 9.078125 54.6875 \nL 18.109375 54.6875 \nL 18.109375 46.1875 \nQ 20.953125 51.171875 25.484375 53.578125 \nQ 30.03125 56 36.53125 56 \nQ 37.453125 56 38.578125 55.875 \nQ 39.703125 55.765625 41.0625 55.515625 \nz\n\" id=\"DejaVuSans-114\"/>\n      <path d=\"M 56.203125 29.59375 \nL 56.203125 25.203125 \nL 14.890625 25.203125 \nQ 15.484375 15.921875 20.484375 11.0625 \nQ 25.484375 6.203125 34.421875 6.203125 \nQ 39.59375 6.203125 44.453125 7.46875 \nQ 49.3125 8.734375 54.109375 11.28125 \nL 54.109375 2.78125 \nQ 49.265625 0.734375 44.1875 -0.34375 \nQ 39.109375 -1.421875 33.890625 -1.421875 \nQ 20.796875 -1.421875 13.15625 6.1875 \nQ 5.515625 13.8125 5.515625 26.8125 \nQ 5.515625 40.234375 12.765625 48.109375 \nQ 20.015625 56 32.328125 56 \nQ 43.359375 56 49.78125 48.890625 \nQ 56.203125 41.796875 56.203125 29.59375 \nz\nM 47.21875 32.234375 \nQ 47.125 39.59375 43.09375 43.984375 \nQ 39.0625 48.390625 32.421875 48.390625 \nQ 24.90625 48.390625 20.390625 44.140625 \nQ 15.875 39.890625 15.1875 32.171875 \nz\n\" id=\"DejaVuSans-101\"/>\n      <path d=\"M 14.796875 27.296875 \nQ 14.796875 17.390625 18.875 11.75 \nQ 22.953125 6.109375 30.078125 6.109375 \nQ 37.203125 6.109375 41.296875 11.75 \nQ 45.40625 17.390625 45.40625 27.296875 \nQ 45.40625 37.203125 41.296875 42.84375 \nQ 37.203125 48.484375 30.078125 48.484375 \nQ 22.953125 48.484375 18.875 42.84375 \nQ 14.796875 37.203125 14.796875 27.296875 \nz\nM 45.40625 8.203125 \nQ 42.578125 3.328125 38.25 0.953125 \nQ 33.9375 -1.421875 27.875 -1.421875 \nQ 17.96875 -1.421875 11.734375 6.484375 \nQ 5.515625 14.40625 5.515625 27.296875 \nQ 5.515625 40.1875 11.734375 48.09375 \nQ 17.96875 56 27.875 56 \nQ 33.9375 56 38.25 53.625 \nQ 42.578125 51.265625 45.40625 46.390625 \nL 45.40625 54.6875 \nL 54.390625 54.6875 \nL 54.390625 -20.796875 \nL 45.40625 -20.796875 \nz\n\" id=\"DejaVuSans-113\"/>\n      <path d=\"M 8.5 21.578125 \nL 8.5 54.6875 \nL 17.484375 54.6875 \nL 17.484375 21.921875 \nQ 17.484375 14.15625 20.5 10.265625 \nQ 23.53125 6.390625 29.59375 6.390625 \nQ 36.859375 6.390625 41.078125 11.03125 \nQ 45.3125 15.671875 45.3125 23.6875 \nL 45.3125 54.6875 \nL 54.296875 54.6875 \nL 54.296875 0 \nL 45.3125 0 \nL 45.3125 8.40625 \nQ 42.046875 3.421875 37.71875 1 \nQ 33.40625 -1.421875 27.6875 -1.421875 \nQ 18.265625 -1.421875 13.375 4.4375 \nQ 8.5 10.296875 8.5 21.578125 \nz\nM 31.109375 56 \nz\n\" id=\"DejaVuSans-117\"/>\n      <path d=\"M 54.890625 33.015625 \nL 54.890625 0 \nL 45.90625 0 \nL 45.90625 32.71875 \nQ 45.90625 40.484375 42.875 44.328125 \nQ 39.84375 48.1875 33.796875 48.1875 \nQ 26.515625 48.1875 22.3125 43.546875 \nQ 18.109375 38.921875 18.109375 30.90625 \nL 18.109375 0 \nL 9.078125 0 \nL 9.078125 54.6875 \nL 18.109375 54.6875 \nL 18.109375 46.1875 \nQ 21.34375 51.125 25.703125 53.5625 \nQ 30.078125 56 35.796875 56 \nQ 45.21875 56 50.046875 50.171875 \nQ 54.890625 44.34375 54.890625 33.015625 \nz\n\" id=\"DejaVuSans-110\"/>\n      <path d=\"M 48.78125 52.59375 \nL 48.78125 44.1875 \nQ 44.96875 46.296875 41.140625 47.34375 \nQ 37.3125 48.390625 33.40625 48.390625 \nQ 24.65625 48.390625 19.8125 42.84375 \nQ 14.984375 37.3125 14.984375 27.296875 \nQ 14.984375 17.28125 19.8125 11.734375 \nQ 24.65625 6.203125 33.40625 6.203125 \nQ 37.3125 6.203125 41.140625 7.25 \nQ 44.96875 8.296875 48.78125 10.40625 \nL 48.78125 2.09375 \nQ 45.015625 0.34375 40.984375 -0.53125 \nQ 36.96875 -1.421875 32.421875 -1.421875 \nQ 20.0625 -1.421875 12.78125 6.34375 \nQ 5.515625 14.109375 5.515625 27.296875 \nQ 5.515625 40.671875 12.859375 48.328125 \nQ 20.21875 56 33.015625 56 \nQ 37.15625 56 41.109375 55.140625 \nQ 45.0625 54.296875 48.78125 52.59375 \nz\n\" id=\"DejaVuSans-99\"/>\n      <path d=\"M 32.171875 -5.078125 \nQ 28.375 -14.84375 24.75 -17.8125 \nQ 21.140625 -20.796875 15.09375 -20.796875 \nL 7.90625 -20.796875 \nL 7.90625 -13.28125 \nL 13.1875 -13.28125 \nQ 16.890625 -13.28125 18.9375 -11.515625 \nQ 21 -9.765625 23.484375 -3.21875 \nL 25.09375 0.875 \nL 2.984375 54.6875 \nL 12.5 54.6875 \nL 29.59375 11.921875 \nL 46.6875 54.6875 \nL 56.203125 54.6875 \nz\n\" id=\"DejaVuSans-121\"/>\n     </defs>\n     <g transform=\"translate(14.798438 141.749687)rotate(-90)scale(0.1 -0.1)\">\n      <use xlink:href=\"#DejaVuSans-70\"/>\n      <use x=\"50.269531\" xlink:href=\"#DejaVuSans-114\"/>\n      <use x=\"89.132812\" xlink:href=\"#DejaVuSans-101\"/>\n      <use x=\"150.65625\" xlink:href=\"#DejaVuSans-113\"/>\n      <use x=\"214.132812\" xlink:href=\"#DejaVuSans-117\"/>\n      <use x=\"277.511719\" xlink:href=\"#DejaVuSans-101\"/>\n      <use x=\"339.035156\" xlink:href=\"#DejaVuSans-110\"/>\n      <use x=\"402.414062\" xlink:href=\"#DejaVuSans-99\"/>\n      <use x=\"457.394531\" xlink:href=\"#DejaVuSans-121\"/>\n     </g>\n    </g>\n   </g>\n   <g id=\"patch_33\">\n    <path d=\"M 46.965625 224.64 \nL 46.965625 7.2 \n\" style=\"fill:none;stroke:#000000;stroke-linecap:square;stroke-linejoin:miter;stroke-width:0.8;\"/>\n   </g>\n   <g id=\"patch_34\">\n    <path d=\"M 381.765625 224.64 \nL 381.765625 7.2 \n\" style=\"fill:none;stroke:#000000;stroke-linecap:square;stroke-linejoin:miter;stroke-width:0.8;\"/>\n   </g>\n   <g id=\"patch_35\">\n    <path d=\"M 46.965625 224.64 \nL 381.765625 224.64 \n\" style=\"fill:none;stroke:#000000;stroke-linecap:square;stroke-linejoin:miter;stroke-width:0.8;\"/>\n   </g>\n   <g id=\"patch_36\">\n    <path d=\"M 46.965625 7.2 \nL 381.765625 7.2 \n\" style=\"fill:none;stroke:#000000;stroke-linecap:square;stroke-linejoin:miter;stroke-width:0.8;\"/>\n   </g>\n  </g>\n </g>\n <defs>\n  <clipPath id=\"pb55e2c8421\">\n   <rect height=\"217.44\" width=\"334.8\" x=\"46.965625\" y=\"7.2\"/>\n  </clipPath>\n </defs>\n</svg>\n",
      "image/png": "[encoded data removed]"
     },
     "metadata": {
      "needs_background": "light"
     }
    }
   ],
   "source": [
    "# 3. Generate a histogram of the unit prices. Select reasonable min/max values for the x-axis. Why did you pick those values? What do you notice about the histogram?\n",
    "\n",
    "unique_items.describe()\n",
    "unique_items[(unique_items.UnitPrice < 30) & (unique_items.UnitPrice > 0)].UnitPrice.plot.hist(bins=30)\n"
   ]
  },
  {
   "cell_type": "markdown",
   "metadata": {},
   "source": [
    "I chose prices greater than 0 and less than 30. The min of greater than 0 was to eliminate free products for which the meaning of unit price is irrelavant. I capped it at \\$30 simply to remove the long tail of the graph and extreme outlier. \n",
    "\n",
    "I noticed that prices tend to be lower than \\$13 and *mostly* less than \\$5."
   ]
  },
  {
   "source": [
    "### <span style=\"color:magenta\"> Q4. [25 points] Order Trends </span>\n",
    "1. What are the top 10 most ordered items? Describe them, do you see any trends?  \n",
    "1. What are the top 5 invoices that generated the most revenue? (Revenue is calculated by marking up the unit price by 25%.) \n",
    "1. Do the top invoices contain any of the top 10 most ordered items?\n",
    "\n",
    "_Hint: When calculating the revenue we suggest adding a new column on the dataframe._"
   ],
   "cell_type": "markdown",
   "metadata": {}
  },
  {
   "cell_type": "code",
   "execution_count": 126,
   "metadata": {},
   "outputs": [
    {
     "output_type": "execute_result",
     "data": {
      "text/plain": [
       "  StockCode  purchases                         Description  UnitPrice\n",
       "0    85123A       2313  WHITE HANGING HEART T-LIGHT HOLDER       2.55\n",
       "1     22423       2203            REGENCY CAKESTAND 3 TIER      10.95\n",
       "2    85099B       2159             JUMBO BAG RED RETROSPOT       1.65\n",
       "3     47566       1727                       PARTY BUNTING       9.32\n",
       "4     20725       1639             LUNCH BAG RED RETROSPOT       1.65\n",
       "5     84879       1502       ASSORTED COLOUR BIRD ORNAMENT       1.69\n",
       "6     22720       1477   SET OF 3 CAKE TINS PANTRY DESIGN        4.95\n",
       "7     22197       1476                SMALL POPCORN HOLDER       0.72\n",
       "8     21212       1385     PACK OF 72 RETROSPOT CAKE CASES       0.42\n",
       "9     20727       1350             LUNCH BAG  BLACK SKULL.       1.65"
      ],
      "text/html": "<div>\n<style scoped>\n    .dataframe tbody tr th:only-of-type {\n        vertical-align: middle;\n    }\n\n    .dataframe tbody tr th {\n        vertical-align: top;\n    }\n\n    .dataframe thead th {\n        text-align: right;\n    }\n</style>\n<table border=\"1\" class=\"dataframe\">\n  <thead>\n    <tr style=\"text-align: right;\">\n      <th></th>\n      <th>StockCode</th>\n      <th>purchases</th>\n      <th>Description</th>\n      <th>UnitPrice</th>\n    </tr>\n  </thead>\n  <tbody>\n    <tr>\n      <th>0</th>\n      <td>85123A</td>\n      <td>2313</td>\n      <td>WHITE HANGING HEART T-LIGHT HOLDER</td>\n      <td>2.55</td>\n    </tr>\n    <tr>\n      <th>1</th>\n      <td>22423</td>\n      <td>2203</td>\n      <td>REGENCY CAKESTAND 3 TIER</td>\n      <td>10.95</td>\n    </tr>\n    <tr>\n      <th>2</th>\n      <td>85099B</td>\n      <td>2159</td>\n      <td>JUMBO BAG RED RETROSPOT</td>\n      <td>1.65</td>\n    </tr>\n    <tr>\n      <th>3</th>\n      <td>47566</td>\n      <td>1727</td>\n      <td>PARTY BUNTING</td>\n      <td>9.32</td>\n    </tr>\n    <tr>\n      <th>4</th>\n      <td>20725</td>\n      <td>1639</td>\n      <td>LUNCH BAG RED RETROSPOT</td>\n      <td>1.65</td>\n    </tr>\n    <tr>\n      <th>5</th>\n      <td>84879</td>\n      <td>1502</td>\n      <td>ASSORTED COLOUR BIRD ORNAMENT</td>\n      <td>1.69</td>\n    </tr>\n    <tr>\n      <th>6</th>\n      <td>22720</td>\n      <td>1477</td>\n      <td>SET OF 3 CAKE TINS PANTRY DESIGN</td>\n      <td>4.95</td>\n    </tr>\n    <tr>\n      <th>7</th>\n      <td>22197</td>\n      <td>1476</td>\n      <td>SMALL POPCORN HOLDER</td>\n      <td>0.72</td>\n    </tr>\n    <tr>\n      <th>8</th>\n      <td>21212</td>\n      <td>1385</td>\n      <td>PACK OF 72 RETROSPOT CAKE CASES</td>\n      <td>0.42</td>\n    </tr>\n    <tr>\n      <th>9</th>\n      <td>20727</td>\n      <td>1350</td>\n      <td>LUNCH BAG  BLACK SKULL.</td>\n      <td>1.65</td>\n    </tr>\n  </tbody>\n</table>\n</div>"
     },
     "metadata": {},
     "execution_count": 126
    }
   ],
   "source": [
    "# 1. What are the top 10 most ordered items? Describe them, do you see any trends?\n",
    "\n",
    "purchases['StockCode'] = purchases.StockCodeSC.str[2:]\n",
    "\n",
    "most_ordered = purchases.groupby(['StockCode']).size().sort_values(ascending=False).head(10)\n",
    "\n",
    "pd.merge(most_ordered.to_frame('purchases'), items, on=\"StockCode\", how=\"left\")\n"
   ]
  },
  {
   "source": [
    "You can see the 10 most ordered item above. There are 3 cake accessories, a party bunting, a popcorn holder, and a skull product (halloween), so I think this store sells party and holiday supplies and decorations. "
   ],
   "cell_type": "markdown",
   "metadata": {}
  },
  {
   "cell_type": "code",
   "execution_count": 127,
   "metadata": {},
   "outputs": [
    {
     "output_type": "execute_result",
     "data": {
      "text/plain": [
       "           Quantity  UnitPrice     Profit\n",
       "InvoiceNo                                \n",
       "547966         1000     569.77  142442.50\n",
       "581483        80995       2.08   42117.40\n",
       "541431        74215       1.04   19295.90\n",
       "556255         3600      99.48    7461.00\n",
       "556917        15049     356.45    6909.18"
      ],
      "text/html": "<div>\n<style scoped>\n    .dataframe tbody tr th:only-of-type {\n        vertical-align: middle;\n    }\n\n    .dataframe tbody tr th {\n        vertical-align: top;\n    }\n\n    .dataframe thead th {\n        text-align: right;\n    }\n</style>\n<table border=\"1\" class=\"dataframe\">\n  <thead>\n    <tr style=\"text-align: right;\">\n      <th></th>\n      <th>Quantity</th>\n      <th>UnitPrice</th>\n      <th>Profit</th>\n    </tr>\n    <tr>\n      <th>InvoiceNo</th>\n      <th></th>\n      <th></th>\n      <th></th>\n    </tr>\n  </thead>\n  <tbody>\n    <tr>\n      <th>547966</th>\n      <td>1000</td>\n      <td>569.77</td>\n      <td>142442.50</td>\n    </tr>\n    <tr>\n      <th>581483</th>\n      <td>80995</td>\n      <td>2.08</td>\n      <td>42117.40</td>\n    </tr>\n    <tr>\n      <th>541431</th>\n      <td>74215</td>\n      <td>1.04</td>\n      <td>19295.90</td>\n    </tr>\n    <tr>\n      <th>556255</th>\n      <td>3600</td>\n      <td>99.48</td>\n      <td>7461.00</td>\n    </tr>\n    <tr>\n      <th>556917</th>\n      <td>15049</td>\n      <td>356.45</td>\n      <td>6909.18</td>\n    </tr>\n  </tbody>\n</table>\n</div>"
     },
     "metadata": {},
     "execution_count": 127
    }
   ],
   "source": [
    "# 2. What are the top 5 invoices that generated the most revenue? (Revenue is calculated by marking up the unit price by 25%.)\n",
    "\n",
    "joined = pd.merge(purchases, items, on=\"StockCode\", how=\"left\")\n",
    "\n",
    "joined['Profit'] = round(joined.Quantity * joined.UnitPrice * 0.25, 2)\n",
    "\n",
    "most_profitable = joined.groupby(['InvoiceNo']).sum().sort_values(by=\"Profit\", ascending=False).head(5)\n",
    "\n",
    "most_profitable"
   ]
  },
  {
   "source": [
    "Invoice numbers 547966, 581483, 541431, 556255, & 556917 have the highest profit."
   ],
   "cell_type": "markdown",
   "metadata": {}
  },
  {
   "cell_type": "code",
   "execution_count": 128,
   "metadata": {},
   "outputs": [
    {
     "output_type": "execute_result",
     "data": {
      "text/plain": [
       "       InvoiceNo StockCodeSC  Quantity StockCode\n",
       "228201    556917     SC20725       100     20725\n",
       "228229    556917    SC85099B       100    85099B\n",
       "228240    556917     SC22423        32     22423\n",
       "228247    556917     SC21212       240     21212\n",
       "228250    556917     SC22720        96     22720"
      ],
      "text/html": "<div>\n<style scoped>\n    .dataframe tbody tr th:only-of-type {\n        vertical-align: middle;\n    }\n\n    .dataframe tbody tr th {\n        vertical-align: top;\n    }\n\n    .dataframe thead th {\n        text-align: right;\n    }\n</style>\n<table border=\"1\" class=\"dataframe\">\n  <thead>\n    <tr style=\"text-align: right;\">\n      <th></th>\n      <th>InvoiceNo</th>\n      <th>StockCodeSC</th>\n      <th>Quantity</th>\n      <th>StockCode</th>\n    </tr>\n  </thead>\n  <tbody>\n    <tr>\n      <th>228201</th>\n      <td>556917</td>\n      <td>SC20725</td>\n      <td>100</td>\n      <td>20725</td>\n    </tr>\n    <tr>\n      <th>228229</th>\n      <td>556917</td>\n      <td>SC85099B</td>\n      <td>100</td>\n      <td>85099B</td>\n    </tr>\n    <tr>\n      <th>228240</th>\n      <td>556917</td>\n      <td>SC22423</td>\n      <td>32</td>\n      <td>22423</td>\n    </tr>\n    <tr>\n      <th>228247</th>\n      <td>556917</td>\n      <td>SC21212</td>\n      <td>240</td>\n      <td>21212</td>\n    </tr>\n    <tr>\n      <th>228250</th>\n      <td>556917</td>\n      <td>SC22720</td>\n      <td>96</td>\n      <td>22720</td>\n    </tr>\n  </tbody>\n</table>\n</div>"
     },
     "metadata": {},
     "execution_count": 128
    }
   ],
   "source": [
    "# 3. Do the top invoices contain any of the top 10 most ordered items?\n",
    "\n",
    "profitable_invoices = purchases[purchases['InvoiceNo'].isin(profitable_invoice_nos)]\n",
    "\n",
    "profitable_invoices[profitable_invoices['StockCode'].isin(most_ordered.index.tolist())]"
   ]
  },
  {
   "source": [
    "Yes. the most profitable invoices include the items, 20725, 85099B, 22423, 21212, & 22720."
   ],
   "cell_type": "markdown",
   "metadata": {}
  },
  {
   "source": [
    "### <span style=\"color:magenta\"> Q5. [30 points] Customer Analysis </span>\n",
    "1. Classify customers into segments based on the total revenue they have generated for the company.\n",
    " * low value: less than \\$1000  \n",
    " * medium value: greater than 1000 less than \\$8000\n",
    " * high value: greater than \\$8000\n",
    "1. How many customers are in each segment? \n",
    "1. Using the pivot table function, create a table that displays the average order quantity of each stock code for a given segment.\n",
    "1. Are the items with the highest average order quantity generally the same across segments? Explain your reasoning. \n",
    "1. Select three items and discuss any trends/differences you notice across the three segments.\n",
    "\n",
    "_Hint: When calculating the segment, we suggest constructing a new dataframe as an intermediary step with the columns: CustomerID, Revenue, Segment._"
   ],
   "cell_type": "markdown",
   "metadata": {}
  },
  {
   "cell_type": "code",
   "execution_count": 153,
   "metadata": {},
   "outputs": [
    {
     "output_type": "execute_result",
     "data": {
      "text/plain": [
       "ProfitGroup\n",
       "low value       3869\n",
       "medium value     434\n",
       "high value        36\n",
       "dtype: int64"
      ]
     },
     "metadata": {},
     "execution_count": 153
    }
   ],
   "source": [
    "# 1. Classify customers into segments based on the total revenue they have generated for the company.\n",
    "# - low value: less than $1000\n",
    "# - medium value: greater than 1000 less than $8000\n",
    "# - high value: greater than $8000\n",
    "# How many customers are in each segment?\n",
    "\n",
    "items # StockCode, Description, UnitPrice\n",
    "purchases #InvoiceNo, StockCodeSC, Quantity\n",
    "shipped_invoices #InvoiceNo, InvoiceDate, CustomerID, Country\n",
    "\n",
    "# \n",
    "all_joined = pd.merge(joined, shipped_invoices, on=\"InvoiceNo\", how=\"left\")[['Profit', 'InvoiceNo', 'CustomerID', 'StockCode', 'Quantity']]\n",
    "\n",
    "customer_profit = all_joined.groupby('CustomerID').sum()\n",
    "\n",
    "customer_profit['ProfitGroup'] = pd.cut(customer_profit.Profit, bins=[0, 1000, 8000, np.inf], labels=['low value','medium value','high value'], right=False)\n",
    "\n",
    "customer_profit.groupby('ProfitGroup').size()"
   ]
  },
  {
   "source": [
    "There are 36 high-value customers, 434 medium-value customers, and 3869 low-value customers."
   ],
   "cell_type": "markdown",
   "metadata": {}
  },
  {
   "cell_type": "code",
   "execution_count": 232,
   "metadata": {},
   "outputs": [
    {
     "output_type": "execute_result",
     "data": {
      "text/plain": [
       "ProfitGroup  low value  medium value  high value\n",
       "StockCode                                       \n",
       "10002             1.68          4.66        1.38\n",
       "10080             2.53          2.63         NaN\n",
       "10120             0.34          0.35        0.16\n",
       "10123C            0.27           NaN         NaN\n",
       "10124A            0.34           NaN         NaN\n",
       "...                ...           ...         ...\n",
       "C2               13.07         12.50       12.50\n",
       "DOT                NaN           NaN      142.44\n",
       "M                 1.80          1.71       43.92\n",
       "PADS              0.00          0.00         NaN\n",
       "POST             11.33         15.81        8.04\n",
       "\n",
       "[3665 rows x 3 columns]"
      ],
      "text/html": "<div>\n<style scoped>\n    .dataframe tbody tr th:only-of-type {\n        vertical-align: middle;\n    }\n\n    .dataframe tbody tr th {\n        vertical-align: top;\n    }\n\n    .dataframe thead th {\n        text-align: right;\n    }\n</style>\n<table border=\"1\" class=\"dataframe\">\n  <thead>\n    <tr style=\"text-align: right;\">\n      <th>ProfitGroup</th>\n      <th>low value</th>\n      <th>medium value</th>\n      <th>high value</th>\n    </tr>\n    <tr>\n      <th>StockCode</th>\n      <th></th>\n      <th></th>\n      <th></th>\n    </tr>\n  </thead>\n  <tbody>\n    <tr>\n      <th>10002</th>\n      <td>1.68</td>\n      <td>4.66</td>\n      <td>1.38</td>\n    </tr>\n    <tr>\n      <th>10080</th>\n      <td>2.53</td>\n      <td>2.63</td>\n      <td>NaN</td>\n    </tr>\n    <tr>\n      <th>10120</th>\n      <td>0.34</td>\n      <td>0.35</td>\n      <td>0.16</td>\n    </tr>\n    <tr>\n      <th>10123C</th>\n      <td>0.27</td>\n      <td>NaN</td>\n      <td>NaN</td>\n    </tr>\n    <tr>\n      <th>10124A</th>\n      <td>0.34</td>\n      <td>NaN</td>\n      <td>NaN</td>\n    </tr>\n    <tr>\n      <th>...</th>\n      <td>...</td>\n      <td>...</td>\n      <td>...</td>\n    </tr>\n    <tr>\n      <th>C2</th>\n      <td>13.07</td>\n      <td>12.50</td>\n      <td>12.50</td>\n    </tr>\n    <tr>\n      <th>DOT</th>\n      <td>NaN</td>\n      <td>NaN</td>\n      <td>142.44</td>\n    </tr>\n    <tr>\n      <th>M</th>\n      <td>1.80</td>\n      <td>1.71</td>\n      <td>43.92</td>\n    </tr>\n    <tr>\n      <th>PADS</th>\n      <td>0.00</td>\n      <td>0.00</td>\n      <td>NaN</td>\n    </tr>\n    <tr>\n      <th>POST</th>\n      <td>11.33</td>\n      <td>15.81</td>\n      <td>8.04</td>\n    </tr>\n  </tbody>\n</table>\n<p>3665 rows × 3 columns</p>\n</div>"
     },
     "metadata": {},
     "execution_count": 232
    }
   ],
   "source": [
    "# 2. Using the pivot table function, create a table that displays the average order quantity of each stock code for a given segment.\n",
    "\n",
    "customer_products = all_joined.groupby(['CustomerID', 'StockCode']).mean().sort_values(ascending=False, by=\"Quantity\")\n",
    "\n",
    "reset = customer_products.reset_index()\n",
    "\n",
    "customer_product_groups = pd.merge(reset, customer_profit[['ProfitGroup']], on=\"CustomerID\", how=\"left\")\n",
    "\n",
    "item_quant_pivot = customer_product_groups.pivot_table(index='StockCode', columns='ProfitGroup', values='Profit', aggfunc=np.mean).round(2)\n",
    "\n",
    "item_quant_pivot"
   ]
  },
  {
   "cell_type": "code",
   "execution_count": 233,
   "metadata": {},
   "outputs": [
    {
     "output_type": "stream",
     "name": "stdout",
     "text": [
      "21\n1\n4\n1\n"
     ]
    }
   ],
   "source": [
    "# 3. Are the items with the highest average order quantity generally the same across segments? Explain your reasoning.\n",
    "\n",
    "top_50_low = item_quant_pivot.sort_values(('low value'), ascending=False).head(50).index\n",
    "top_50_medium = item_quant_pivot.sort_values(('medium value'), ascending=False).head(50).index\n",
    "top_50_high = item_quant_pivot.sort_values(('high value'), ascending=False).head(50).index\n",
    "\n",
    "print(len(top_50_low.intersection(top_50_medium)))\n",
    "print(len(top_50_low.intersection(top_50_high)))\n",
    "print(len(top_50_medium.intersection(top_50_high)))\n",
    "print(len(top_50_low.intersection(top_50_medium).intersection(top_50_high)))"
   ]
  },
  {
   "source": [
    "Of the top 50 items in each profiablility segment, low and medium share 21 items. I would say that this is a strong correlation considering the population of 4070 items. However, the high profiablility segment shares only 1 and 4 items with the low and medium segments respectively. More broadly then, no; order quantity is not generally the same across segments. "
   ],
   "cell_type": "markdown",
   "metadata": {}
  },
  {
   "cell_type": "code",
   "execution_count": 234,
   "metadata": {},
   "outputs": [
    {
     "output_type": "execute_result",
     "data": {
      "text/plain": [
       "ProfitGroup  low value  medium value  high value\n",
       "StockCode                                       \n",
       "22301             8.07         17.40      185.53\n",
       "23458             6.03          6.73        7.48\n",
       "22276             6.65          6.70        2.71"
      ],
      "text/html": "<div>\n<style scoped>\n    .dataframe tbody tr th:only-of-type {\n        vertical-align: middle;\n    }\n\n    .dataframe tbody tr th {\n        vertical-align: top;\n    }\n\n    .dataframe thead th {\n        text-align: right;\n    }\n</style>\n<table border=\"1\" class=\"dataframe\">\n  <thead>\n    <tr style=\"text-align: right;\">\n      <th>ProfitGroup</th>\n      <th>low value</th>\n      <th>medium value</th>\n      <th>high value</th>\n    </tr>\n    <tr>\n      <th>StockCode</th>\n      <th></th>\n      <th></th>\n      <th></th>\n    </tr>\n  </thead>\n  <tbody>\n    <tr>\n      <th>22301</th>\n      <td>8.07</td>\n      <td>17.40</td>\n      <td>185.53</td>\n    </tr>\n    <tr>\n      <th>23458</th>\n      <td>6.03</td>\n      <td>6.73</td>\n      <td>7.48</td>\n    </tr>\n    <tr>\n      <th>22276</th>\n      <td>6.65</td>\n      <td>6.70</td>\n      <td>2.71</td>\n    </tr>\n  </tbody>\n</table>\n</div>"
     },
     "metadata": {},
     "execution_count": 234
    }
   ],
   "source": [
    "# 4. Select three items and discuss any trends/differences you notice across the three segments.\n",
    "np.random.seed(seed=99)\n",
    "item_quant_pivot.sample(n=3)"
   ]
  },
  {
   "source": [
    "I choose a random sample of 3 rows from my pivot table. \n",
    "\n",
    "StockCode 22301 had a large range relative to the other 2 items. Both it and StockCode 22276 conform to my answer in the previous question. Interestingly, StockCode 22276 had a lower average order quatity in the high value segment while 22301 had a much higher average. \n",
    "\n",
    "StockCode 23458 was fairly consistent across the segments, increasing slightly in each. "
   ],
   "cell_type": "markdown",
   "metadata": {}
  },
  {
   "cell_type": "markdown",
   "metadata": {},
   "source": [
    "# Please submit your completed notebook in .IPYNB and .HTML formats via Canvas"
   ]
  },
  {
   "cell_type": "code",
   "execution_count": null,
   "metadata": {},
   "outputs": [],
   "source": []
  }
 ],
 "metadata": {
  "kernelspec": {
   "display_name": "Python 3",
   "language": "python",
   "name": "python3"
  },
  "language_info": {
   "codemirror_mode": {
    "name": "ipython",
    "version": 3
   },
   "file_extension": ".py",
   "mimetype": "text/x-python",
   "name": "python",
   "nbconvert_exporter": "python",
   "pygments_lexer": "ipython3",
   "version": "3.8.3-final"
  }
 },
 "nbformat": 4,
 "nbformat_minor": 4
}