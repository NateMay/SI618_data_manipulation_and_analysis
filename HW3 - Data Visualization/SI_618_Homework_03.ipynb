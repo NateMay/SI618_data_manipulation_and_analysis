{
 "cells": [
  {
   "cell_type": "markdown",
   "metadata": {
    "colab_type": "text",
    "id": "UGqk3SzXsMR3"
   },
   "source": [
    "# SI 618 - Homework #3: Data Visualization\n",
    "\n",
    "Version 2021.04.16.1.CT"
   ]
  },
  {
   "cell_type": "markdown",
   "metadata": {
    "colab_type": "text",
    "id": "UiAKCrOR2gYt"
   },
   "source": [
    "## Background"
   ]
  },
  {
   "cell_type": "markdown",
   "metadata": {
    "colab_type": "text",
    "id": "5_xhHLHr2gYu"
   },
   "source": [
    "This homework assignment focuses on the visual analysis of the COVID-19 data avaiable here: https://covid19datahub.io/articles/api/python.html. A description of the dataset can be found at https://covid19datahub.io/articles/doc/data.html\n",
    "\n",
    "Your main task in this assignment is to explore the data *using the data manipulation, analysis, and visualization methods we covered in class* as well as those in the assigned readings.  You may need to consult pandas, matplotlib and seaborn documentation, as well as Stack Overflow, or other online resources.  "
   ]
  },
  {
   "cell_type": "markdown",
   "metadata": {
    "colab_type": "text",
    "id": "d5D_nveM2gYv"
   },
   "source": [
    "## Total Points and Rubric\n",
    "\n",
    "Each question is worth the same number of points.  Points will be allocated according to the following rubric:\n",
    "\n",
    "- 90-100%: Question is correctly and completely answered.  Answer consists of well-written code that conforms to [PEP 8](https://www.python.org/dev/peps/pep-0008/) guidelines and is \n",
    "accompanied by a written interpretation in a Markdown block.  Written interpretation does not contain spelling, grammar or stylistic errors (see https://faculty.washington.edu/heagerty/Courses/b572/public/StrunkWhite.pdf for a detailed specifications).  Minor problems, such as formatting, incorrect submissions, missing names, etc. will result in less than 100%.\n",
    "- 75-85% : Answer is mostly complete and correct; two or fewer noticeable omissions or errors.  Minor stylistic flaws, either in code or in \n",
    "written interpretation.\n",
    "- 50-70%: Answer has significant omissions or errors; Noticeable departure from PEP-8 guildelines and/or moderate spelling, grammar, or style issues\n",
    "in written interpretations.\n",
    "- 25-45%: Question is perfunctorily attempted.  Substantial parts are missing or incorrect.\n",
    "- 0 points: Question not attempted."
   ]
  },
  {
   "cell_type": "markdown",
   "metadata": {
    "colab_type": "text",
    "id": "mZBwJn1J2gYv"
   },
   "source": [
    "## Getting the data\n",
    "\n",
    "We used the COVID-19 datahub via R in SI 544 last semester and we will be using the python equivalent in this homework assignment.\n",
    "\n",
    "The following cell should install the most up-to-date version of the \n",
    "COVID-19 datahub:"
   ]
  },
  {
   "cell_type": "code",
   "execution_count": 1,
   "metadata": {
    "colab": {
     "base_uri": "https://localhost:8080/",
     "height": 272
    },
    "colab_type": "code",
    "id": "evStchCv2gYw",
    "outputId": "db9bb133-58be-481a-f12e-5077489bb275"
   },
   "outputs": [
    {
     "name": "stdout",
     "output_type": "stream",
     "text": [
      "\u001b[33mWARNING: The directory '/Users/nathanielmay/Library/Caches/pip' or its parent directory is not owned or is not writable by the current user. The cache has been disabled. Check the permissions and owner of that directory. If executing pip with sudo, you may want sudo's -H flag.\u001b[0m\n",
      "Requirement already up-to-date: covid19dh in /Users/nathanielmay/opt/anaconda3/lib/python3.8/site-packages (2.3.0)\n",
      "Requirement already satisfied, skipping upgrade: pandas in /Users/nathanielmay/opt/anaconda3/lib/python3.8/site-packages (from covid19dh) (1.0.5)\n",
      "Requirement already satisfied, skipping upgrade: requests in /Users/nathanielmay/opt/anaconda3/lib/python3.8/site-packages (from covid19dh) (2.24.0)\n",
      "Requirement already satisfied, skipping upgrade: pytz>=2017.2 in /Users/nathanielmay/opt/anaconda3/lib/python3.8/site-packages (from pandas->covid19dh) (2020.1)\n",
      "Requirement already satisfied, skipping upgrade: python-dateutil>=2.6.1 in /Users/nathanielmay/opt/anaconda3/lib/python3.8/site-packages (from pandas->covid19dh) (2.8.1)\n",
      "Requirement already satisfied, skipping upgrade: numpy>=1.13.3 in /Users/nathanielmay/opt/anaconda3/lib/python3.8/site-packages (from pandas->covid19dh) (1.18.5)\n",
      "Requirement already satisfied, skipping upgrade: certifi>=2017.4.17 in /Users/nathanielmay/opt/anaconda3/lib/python3.8/site-packages (from requests->covid19dh) (2020.6.20)\n",
      "Requirement already satisfied, skipping upgrade: chardet<4,>=3.0.2 in /Users/nathanielmay/opt/anaconda3/lib/python3.8/site-packages (from requests->covid19dh) (3.0.4)\n",
      "Requirement already satisfied, skipping upgrade: idna<3,>=2.5 in /Users/nathanielmay/opt/anaconda3/lib/python3.8/site-packages (from requests->covid19dh) (2.10)\n",
      "Requirement already satisfied, skipping upgrade: urllib3!=1.25.0,!=1.25.1,<1.26,>=1.21.1 in /Users/nathanielmay/opt/anaconda3/lib/python3.8/site-packages (from requests->covid19dh) (1.25.9)\n",
      "Requirement already satisfied, skipping upgrade: six>=1.5 in /Users/nathanielmay/opt/anaconda3/lib/python3.8/site-packages (from python-dateutil>=2.6.1->pandas->covid19dh) (1.15.0)\n",
      "Note: you may need to restart the kernel to use updated packages.\n"
     ]
    }
   ],
   "source": [
    "pip install --upgrade covid19dh"
   ]
  },
  {
   "cell_type": "code",
   "execution_count": 2,
   "metadata": {},
   "outputs": [],
   "source": [
    "%matplotlib inline"
   ]
  },
  {
   "cell_type": "markdown",
   "metadata": {
    "colab_type": "text",
    "id": "NYWBjZGA2gY0"
   },
   "source": [
    "### Restart the kernel to import the module and access the data"
   ]
  },
  {
   "cell_type": "code",
   "execution_count": 3,
   "metadata": {
    "colab": {},
    "colab_type": "code",
    "id": "wDXh1Odt2gY1"
   },
   "outputs": [
    {
     "name": "stdout",
     "output_type": "stream",
     "text": [
      "We have invested a lot of time and effort in creating COVID-19 Data Hub, please cite the following when using it:\n",
      "\n",
      "\t\u001b[1mGuidotti, E., Ardia, D., (2020), \"COVID-19 Data Hub\", Journal of Open Source Software 5(51):2376, doi: 10.21105/joss.02376.\u001b[0m\n",
      "\n",
      "A BibTeX entry for LaTeX users is\n",
      "\n",
      "\t@Article{,\n",
      "\t\ttitle = {COVID-19 Data Hub},\n",
      "\t\tyear = {2020},\n",
      "\t\tdoi = {10.21105/joss.02376},\n",
      "\t\tauthor = {Emanuele Guidotti and David Ardia},\n",
      "\t\tjournal = {Journal of Open Source Software},\n",
      "\t\tvolume = {5},\n",
      "\t\tnumber = {51},\n",
      "\t\tpages = {2376},\n",
      "\t}\n",
      "\n",
      "\u001b[33mTo hide this message use 'verbose = False'.\u001b[0m\n"
     ]
    }
   ],
   "source": [
    "from covid19dh import covid19\n",
    "data, src = covid19()"
   ]
  },
  {
   "cell_type": "code",
   "execution_count": 4,
   "metadata": {},
   "outputs": [
    {
     "data": {
      "text/html": [
       "<div>\n",
       "<style scoped>\n",
       "    .dataframe tbody tr th:only-of-type {\n",
       "        vertical-align: middle;\n",
       "    }\n",
       "\n",
       "    .dataframe tbody tr th {\n",
       "        vertical-align: top;\n",
       "    }\n",
       "\n",
       "    .dataframe thead th {\n",
       "        text-align: right;\n",
       "    }\n",
       "</style>\n",
       "<table border=\"1\" class=\"dataframe\">\n",
       "  <thead>\n",
       "    <tr style=\"text-align: right;\">\n",
       "      <th></th>\n",
       "      <th>id</th>\n",
       "      <th>date</th>\n",
       "      <th>vaccines</th>\n",
       "      <th>tests</th>\n",
       "      <th>confirmed</th>\n",
       "      <th>recovered</th>\n",
       "      <th>deaths</th>\n",
       "      <th>hosp</th>\n",
       "      <th>vent</th>\n",
       "      <th>icu</th>\n",
       "      <th>...</th>\n",
       "      <th>currency</th>\n",
       "      <th>administrative_area_level</th>\n",
       "      <th>administrative_area_level_1</th>\n",
       "      <th>administrative_area_level_2</th>\n",
       "      <th>administrative_area_level_3</th>\n",
       "      <th>latitude</th>\n",
       "      <th>longitude</th>\n",
       "      <th>key</th>\n",
       "      <th>key_apple_mobility</th>\n",
       "      <th>key_google_mobility</th>\n",
       "    </tr>\n",
       "  </thead>\n",
       "  <tbody>\n",
       "    <tr>\n",
       "      <th>0</th>\n",
       "      <td>AFG</td>\n",
       "      <td>2020-01-22</td>\n",
       "      <td>NaN</td>\n",
       "      <td>NaN</td>\n",
       "      <td>NaN</td>\n",
       "      <td>NaN</td>\n",
       "      <td>NaN</td>\n",
       "      <td>NaN</td>\n",
       "      <td>NaN</td>\n",
       "      <td>NaN</td>\n",
       "      <td>...</td>\n",
       "      <td>AFN</td>\n",
       "      <td>1</td>\n",
       "      <td>Afghanistan</td>\n",
       "      <td>NaN</td>\n",
       "      <td>NaN</td>\n",
       "      <td>33.0</td>\n",
       "      <td>65.0</td>\n",
       "      <td>NaN</td>\n",
       "      <td>NaN</td>\n",
       "      <td>AF</td>\n",
       "    </tr>\n",
       "    <tr>\n",
       "      <th>1</th>\n",
       "      <td>AFG</td>\n",
       "      <td>2020-01-23</td>\n",
       "      <td>NaN</td>\n",
       "      <td>NaN</td>\n",
       "      <td>NaN</td>\n",
       "      <td>NaN</td>\n",
       "      <td>NaN</td>\n",
       "      <td>NaN</td>\n",
       "      <td>NaN</td>\n",
       "      <td>NaN</td>\n",
       "      <td>...</td>\n",
       "      <td>AFN</td>\n",
       "      <td>1</td>\n",
       "      <td>Afghanistan</td>\n",
       "      <td>NaN</td>\n",
       "      <td>NaN</td>\n",
       "      <td>33.0</td>\n",
       "      <td>65.0</td>\n",
       "      <td>NaN</td>\n",
       "      <td>NaN</td>\n",
       "      <td>AF</td>\n",
       "    </tr>\n",
       "    <tr>\n",
       "      <th>2</th>\n",
       "      <td>AFG</td>\n",
       "      <td>2020-01-24</td>\n",
       "      <td>NaN</td>\n",
       "      <td>NaN</td>\n",
       "      <td>NaN</td>\n",
       "      <td>NaN</td>\n",
       "      <td>NaN</td>\n",
       "      <td>NaN</td>\n",
       "      <td>NaN</td>\n",
       "      <td>NaN</td>\n",
       "      <td>...</td>\n",
       "      <td>AFN</td>\n",
       "      <td>1</td>\n",
       "      <td>Afghanistan</td>\n",
       "      <td>NaN</td>\n",
       "      <td>NaN</td>\n",
       "      <td>33.0</td>\n",
       "      <td>65.0</td>\n",
       "      <td>NaN</td>\n",
       "      <td>NaN</td>\n",
       "      <td>AF</td>\n",
       "    </tr>\n",
       "    <tr>\n",
       "      <th>3</th>\n",
       "      <td>AFG</td>\n",
       "      <td>2020-01-25</td>\n",
       "      <td>NaN</td>\n",
       "      <td>NaN</td>\n",
       "      <td>NaN</td>\n",
       "      <td>NaN</td>\n",
       "      <td>NaN</td>\n",
       "      <td>NaN</td>\n",
       "      <td>NaN</td>\n",
       "      <td>NaN</td>\n",
       "      <td>...</td>\n",
       "      <td>AFN</td>\n",
       "      <td>1</td>\n",
       "      <td>Afghanistan</td>\n",
       "      <td>NaN</td>\n",
       "      <td>NaN</td>\n",
       "      <td>33.0</td>\n",
       "      <td>65.0</td>\n",
       "      <td>NaN</td>\n",
       "      <td>NaN</td>\n",
       "      <td>AF</td>\n",
       "    </tr>\n",
       "    <tr>\n",
       "      <th>4</th>\n",
       "      <td>AFG</td>\n",
       "      <td>2020-01-26</td>\n",
       "      <td>NaN</td>\n",
       "      <td>NaN</td>\n",
       "      <td>NaN</td>\n",
       "      <td>NaN</td>\n",
       "      <td>NaN</td>\n",
       "      <td>NaN</td>\n",
       "      <td>NaN</td>\n",
       "      <td>NaN</td>\n",
       "      <td>...</td>\n",
       "      <td>AFN</td>\n",
       "      <td>1</td>\n",
       "      <td>Afghanistan</td>\n",
       "      <td>NaN</td>\n",
       "      <td>NaN</td>\n",
       "      <td>33.0</td>\n",
       "      <td>65.0</td>\n",
       "      <td>NaN</td>\n",
       "      <td>NaN</td>\n",
       "      <td>AF</td>\n",
       "    </tr>\n",
       "  </tbody>\n",
       "</table>\n",
       "<p>5 rows × 36 columns</p>\n",
       "</div>"
      ],
      "text/plain": [
       "    id       date  vaccines  tests  confirmed  recovered  deaths  hosp  vent  \\\n",
       "0  AFG 2020-01-22       NaN    NaN        NaN        NaN     NaN   NaN   NaN   \n",
       "1  AFG 2020-01-23       NaN    NaN        NaN        NaN     NaN   NaN   NaN   \n",
       "2  AFG 2020-01-24       NaN    NaN        NaN        NaN     NaN   NaN   NaN   \n",
       "3  AFG 2020-01-25       NaN    NaN        NaN        NaN     NaN   NaN   NaN   \n",
       "4  AFG 2020-01-26       NaN    NaN        NaN        NaN     NaN   NaN   NaN   \n",
       "\n",
       "   icu  ...  currency  administrative_area_level  administrative_area_level_1  \\\n",
       "0  NaN  ...       AFN                          1                  Afghanistan   \n",
       "1  NaN  ...       AFN                          1                  Afghanistan   \n",
       "2  NaN  ...       AFN                          1                  Afghanistan   \n",
       "3  NaN  ...       AFN                          1                  Afghanistan   \n",
       "4  NaN  ...       AFN                          1                  Afghanistan   \n",
       "\n",
       "   administrative_area_level_2  administrative_area_level_3  latitude  \\\n",
       "0                          NaN                          NaN      33.0   \n",
       "1                          NaN                          NaN      33.0   \n",
       "2                          NaN                          NaN      33.0   \n",
       "3                          NaN                          NaN      33.0   \n",
       "4                          NaN                          NaN      33.0   \n",
       "\n",
       "   longitude  key  key_apple_mobility  key_google_mobility  \n",
       "0       65.0  NaN                 NaN                   AF  \n",
       "1       65.0  NaN                 NaN                   AF  \n",
       "2       65.0  NaN                 NaN                   AF  \n",
       "3       65.0  NaN                 NaN                   AF  \n",
       "4       65.0  NaN                 NaN                   AF  \n",
       "\n",
       "[5 rows x 36 columns]"
      ]
     },
     "execution_count": 4,
     "metadata": {},
     "output_type": "execute_result"
    }
   ],
   "source": [
    "data.head()"
   ]
  },
  {
   "cell_type": "markdown",
   "metadata": {
    "colab_type": "text",
    "id": "8EV1PilWtl0Z"
   },
   "source": [
    "## Answer the questions below. \n",
    "For each question, you should\n",
    "1. Write code that can help you answer the following questions, and\n",
    "2. Explain your answers in plain English. You should use complete sentences that would be understood by an educated professional who is not necessarily a data scientist (like a product manager)."
   ]
  },
  {
   "cell_type": "code",
   "execution_count": 5,
   "metadata": {
    "colab": {
     "base_uri": "https://localhost:8080/",
     "height": 70
    },
    "colab_type": "code",
    "id": "vjY0Nbka2gY4",
    "outputId": "d208de70-5f05-4b13-8ed2-cce106469c84"
   },
   "outputs": [],
   "source": [
    "# Load all the modules\n",
    "import pandas as pd\n",
    "import numpy as np\n",
    "import matplotlib.pyplot as plt\n",
    "import seaborn as sns\n",
    "%matplotlib inline"
   ]
  },
  {
   "cell_type": "markdown",
   "metadata": {
    "colab_type": "text",
    "id": "PfjXDtHoabcS"
   },
   "source": [
    "### <font color='#8B0000'> Q1 How many different countries are represented in the country-level data set?</font>\n",
    "- Refer to the documentation to call the covid19() function with appropriate parameters (https://covid19datahub.io/articles/api/python.html)"
   ]
  },
  {
   "cell_type": "code",
   "execution_count": 6,
   "metadata": {
    "colab": {},
    "colab_type": "code",
    "id": "ttHwVC8ot5Ur"
   },
   "outputs": [
    {
     "name": "stdout",
     "output_type": "stream",
     "text": [
      "199\n",
      "199\n"
     ]
    },
    {
     "data": {
      "text/plain": [
       "0.9843659712014595"
      ]
     },
     "execution_count": 6,
     "metadata": {},
     "output_type": "execute_result"
    }
   ],
   "source": [
    "# insert your code here\n",
    "print(len(data.id.unique()))\n",
    "print(len(set(data['id'])))\n",
    "data.id.unique()\n",
    "sum(data.groupby('id').max()['population']) / 7674000000\n"
   ]
  },
  {
   "cell_type": "markdown",
   "metadata": {
    "colab_type": "text",
    "id": "g1RAXO76uN-A"
   },
   "source": [
    "While there is some debate around the number of coutries in the world, the consensus falls near 200. This dataset has **199** unique ISO codes which would represent almost the entire world. North Korea is notably missing. \n",
    "\n",
    "I also found the maximum population value for each country, and summed them to find the total population of all represented countries. I divided this by the current world population of 7.674 Billion and found taat 98.4% of the world population is represented. "
   ]
  },
  {
   "cell_type": "markdown",
   "metadata": {
    "colab_type": "text",
    "id": "tbmL9-kta0o4"
   },
   "source": [
    "### <font color='#8B0000'> Q2 Create a line chart that shows the total number of cases over time.</font>"
   ]
  },
  {
   "cell_type": "code",
   "execution_count": 7,
   "metadata": {
    "colab": {},
    "colab_type": "code",
    "id": "33LcHThyt5_N"
   },
   "outputs": [
    {
     "data": {
      "text/plain": [
       "[<matplotlib.lines.Line2D at 0x7faa8fa56700>]"
      ]
     },
     "execution_count": 7,
     "metadata": {},
     "output_type": "execute_result"
    },
    {
     "data": {
      "image/png": "[encoded data removed]",
      "text/plain": [
       "<Figure size 432x288 with 1 Axes>"
      ]
     },
     "metadata": {
      "needs_background": "light"
     },
     "output_type": "display_data"
    }
   ],
   "source": [
    "# just in case there are multiple rows per date\n",
    "sum_by_date = data.groupby('date').sum().sort_values(by=\"date\")\n",
    "\n",
    "x = sum_by_date.index.values\n",
    "y = sum_by_date['confirmed'].cumsum()\n",
    "\n",
    "plt.plot(x,y)"
   ]
  },
  {
   "cell_type": "code",
   "execution_count": 23,
   "metadata": {},
   "outputs": [
    {
     "data": {
      "text/plain": [
       "[<matplotlib.lines.Line2D at 0x7faa8f3ffeb0>,\n",
       " <matplotlib.lines.Line2D at 0x7faa7cf6b700>,\n",
       " <matplotlib.lines.Line2D at 0x7faa7cf6bf40>,\n",
       " <matplotlib.lines.Line2D at 0x7faa7cf6be20>,\n",
       " <matplotlib.lines.Line2D at 0x7faa7cf6b5b0>,\n",
       " <matplotlib.lines.Line2D at 0x7faa7cf6b790>,\n",
       " <matplotlib.lines.Line2D at 0x7faa7cf62100>,\n",
       " <matplotlib.lines.Line2D at 0x7faa7cf62400>,\n",
       " <matplotlib.lines.Line2D at 0x7faa7cf624f0>,\n",
       " <matplotlib.lines.Line2D at 0x7faa7cf62670>,\n",
       " <matplotlib.lines.Line2D at 0x7faa7cf62940>,\n",
       " <matplotlib.lines.Line2D at 0x7faa7cf621f0>,\n",
       " <matplotlib.lines.Line2D at 0x7faa7cf62a30>,\n",
       " <matplotlib.lines.Line2D at 0x7faa7cf62df0>,\n",
       " <matplotlib.lines.Line2D at 0x7faa7cf62040>,\n",
       " <matplotlib.lines.Line2D at 0x7faa7cf62460>,\n",
       " <matplotlib.lines.Line2D at 0x7faa7cf62700>,\n",
       " <matplotlib.lines.Line2D at 0x7faa7cf62970>,\n",
       " <matplotlib.lines.Line2D at 0x7faa7cf62cd0>,\n",
       " <matplotlib.lines.Line2D at 0x7faa8f30ca90>,\n",
       " <matplotlib.lines.Line2D at 0x7faa8f30cd00>,\n",
       " <matplotlib.lines.Line2D at 0x7faa8f30c760>,\n",
       " <matplotlib.lines.Line2D at 0x7faa8f30ca60>,\n",
       " <matplotlib.lines.Line2D at 0x7faa8f30c130>,\n",
       " <matplotlib.lines.Line2D at 0x7faa8f30cdf0>,\n",
       " <matplotlib.lines.Line2D at 0x7faa7f76afa0>,\n",
       " <matplotlib.lines.Line2D at 0x7faa7cf24b80>,\n",
       " <matplotlib.lines.Line2D at 0x7faa7cf242b0>]"
      ]
     },
     "execution_count": 23,
     "metadata": {},
     "output_type": "execute_result"
    },
    {
     "data": {
      "image/png": "[encoded data removed]",
      "text/plain": [
       "<Figure size 432x288 with 1 Axes>"
      ]
     },
     "metadata": {
      "needs_background": "light"
     },
     "output_type": "display_data"
    }
   ],
   "source": [
    "x2 = x[:30]\n",
    "y2 = y[:30]\n",
    "sum_by_date2 = sum_by_date[:30]\n",
    "\n",
    "\n",
    "plt.plot(sum_by_date2, 'k-', drawstyle='steps-post', label='steps-post')"
   ]
  },
  {
   "cell_type": "markdown",
   "metadata": {
    "colab_type": "text",
    "id": "FD6-7-D-uWmX"
   },
   "source": [
    "The number of cases has been increasing at an increasing rate. Case were low through the first half of 2020, but by July cases really started to accumlate rapidly. This rapid accelation lasted through the end of 2020. Since then the number of cases has continued to climb, but at a constant rate. "
   ]
  },
  {
   "cell_type": "markdown",
   "metadata": {
    "colab_type": "text",
    "id": "0u5VM5ksbCTm"
   },
   "source": [
    "### <font color='#8B0000'>Q3 Use the country-level data set to create a histogram to:</font>\n",
    "- Show the distribution of values for the number of hospitalizations per 1000 people.  \n",
    "- Draw a red vertical line that shows the median value on the histogram."
   ]
  },
  {
   "cell_type": "code",
   "execution_count": 8,
   "metadata": {},
   "outputs": [
    {
     "data": {
      "text/html": [
       "<div>\n",
       "<style scoped>\n",
       "    .dataframe tbody tr th:only-of-type {\n",
       "        vertical-align: middle;\n",
       "    }\n",
       "\n",
       "    .dataframe tbody tr th {\n",
       "        vertical-align: top;\n",
       "    }\n",
       "\n",
       "    .dataframe thead th {\n",
       "        text-align: right;\n",
       "    }\n",
       "</style>\n",
       "<table border=\"1\" class=\"dataframe\">\n",
       "  <thead>\n",
       "    <tr style=\"text-align: right;\">\n",
       "      <th></th>\n",
       "      <th>id</th>\n",
       "      <th>date</th>\n",
       "      <th>vaccines</th>\n",
       "      <th>tests</th>\n",
       "      <th>confirmed</th>\n",
       "      <th>recovered</th>\n",
       "      <th>deaths</th>\n",
       "      <th>hosp</th>\n",
       "      <th>vent</th>\n",
       "      <th>icu</th>\n",
       "      <th>...</th>\n",
       "      <th>currency</th>\n",
       "      <th>administrative_area_level</th>\n",
       "      <th>administrative_area_level_1</th>\n",
       "      <th>administrative_area_level_2</th>\n",
       "      <th>administrative_area_level_3</th>\n",
       "      <th>latitude</th>\n",
       "      <th>longitude</th>\n",
       "      <th>key</th>\n",
       "      <th>key_apple_mobility</th>\n",
       "      <th>key_google_mobility</th>\n",
       "    </tr>\n",
       "  </thead>\n",
       "  <tbody>\n",
       "    <tr>\n",
       "      <th>13625</th>\n",
       "      <td>CAC</td>\n",
       "      <td>2020-04-20</td>\n",
       "      <td>NaN</td>\n",
       "      <td>4.0</td>\n",
       "      <td>0.0</td>\n",
       "      <td>0.0</td>\n",
       "      <td>0.0</td>\n",
       "      <td>1.0</td>\n",
       "      <td>NaN</td>\n",
       "      <td>NaN</td>\n",
       "      <td>...</td>\n",
       "      <td>NaN</td>\n",
       "      <td>1</td>\n",
       "      <td>Costa Atlantica</td>\n",
       "      <td>NaN</td>\n",
       "      <td>NaN</td>\n",
       "      <td>NaN</td>\n",
       "      <td>NaN</td>\n",
       "      <td>NaN</td>\n",
       "      <td>NaN</td>\n",
       "      <td>NaN</td>\n",
       "    </tr>\n",
       "    <tr>\n",
       "      <th>13626</th>\n",
       "      <td>CAC</td>\n",
       "      <td>2020-04-21</td>\n",
       "      <td>NaN</td>\n",
       "      <td>4.0</td>\n",
       "      <td>1.0</td>\n",
       "      <td>0.0</td>\n",
       "      <td>0.0</td>\n",
       "      <td>1.0</td>\n",
       "      <td>NaN</td>\n",
       "      <td>NaN</td>\n",
       "      <td>...</td>\n",
       "      <td>NaN</td>\n",
       "      <td>1</td>\n",
       "      <td>Costa Atlantica</td>\n",
       "      <td>NaN</td>\n",
       "      <td>NaN</td>\n",
       "      <td>NaN</td>\n",
       "      <td>NaN</td>\n",
       "      <td>NaN</td>\n",
       "      <td>NaN</td>\n",
       "      <td>NaN</td>\n",
       "    </tr>\n",
       "    <tr>\n",
       "      <th>13628</th>\n",
       "      <td>CAC</td>\n",
       "      <td>2020-04-23</td>\n",
       "      <td>NaN</td>\n",
       "      <td>61.0</td>\n",
       "      <td>48.0</td>\n",
       "      <td>0.0</td>\n",
       "      <td>0.0</td>\n",
       "      <td>34.0</td>\n",
       "      <td>NaN</td>\n",
       "      <td>NaN</td>\n",
       "      <td>...</td>\n",
       "      <td>NaN</td>\n",
       "      <td>1</td>\n",
       "      <td>Costa Atlantica</td>\n",
       "      <td>NaN</td>\n",
       "      <td>NaN</td>\n",
       "      <td>NaN</td>\n",
       "      <td>NaN</td>\n",
       "      <td>NaN</td>\n",
       "      <td>NaN</td>\n",
       "      <td>NaN</td>\n",
       "    </tr>\n",
       "    <tr>\n",
       "      <th>13629</th>\n",
       "      <td>CAC</td>\n",
       "      <td>2020-04-24</td>\n",
       "      <td>NaN</td>\n",
       "      <td>127.0</td>\n",
       "      <td>91.0</td>\n",
       "      <td>0.0</td>\n",
       "      <td>0.0</td>\n",
       "      <td>48.0</td>\n",
       "      <td>NaN</td>\n",
       "      <td>NaN</td>\n",
       "      <td>...</td>\n",
       "      <td>NaN</td>\n",
       "      <td>1</td>\n",
       "      <td>Costa Atlantica</td>\n",
       "      <td>NaN</td>\n",
       "      <td>NaN</td>\n",
       "      <td>NaN</td>\n",
       "      <td>NaN</td>\n",
       "      <td>NaN</td>\n",
       "      <td>NaN</td>\n",
       "      <td>NaN</td>\n",
       "    </tr>\n",
       "    <tr>\n",
       "      <th>13630</th>\n",
       "      <td>CAC</td>\n",
       "      <td>2020-04-25</td>\n",
       "      <td>NaN</td>\n",
       "      <td>335.0</td>\n",
       "      <td>148.0</td>\n",
       "      <td>0.0</td>\n",
       "      <td>0.0</td>\n",
       "      <td>91.0</td>\n",
       "      <td>NaN</td>\n",
       "      <td>NaN</td>\n",
       "      <td>...</td>\n",
       "      <td>NaN</td>\n",
       "      <td>1</td>\n",
       "      <td>Costa Atlantica</td>\n",
       "      <td>NaN</td>\n",
       "      <td>NaN</td>\n",
       "      <td>NaN</td>\n",
       "      <td>NaN</td>\n",
       "      <td>NaN</td>\n",
       "      <td>NaN</td>\n",
       "      <td>NaN</td>\n",
       "    </tr>\n",
       "    <tr>\n",
       "      <th>...</th>\n",
       "      <td>...</td>\n",
       "      <td>...</td>\n",
       "      <td>...</td>\n",
       "      <td>...</td>\n",
       "      <td>...</td>\n",
       "      <td>...</td>\n",
       "      <td>...</td>\n",
       "      <td>...</td>\n",
       "      <td>...</td>\n",
       "      <td>...</td>\n",
       "      <td>...</td>\n",
       "      <td>...</td>\n",
       "      <td>...</td>\n",
       "      <td>...</td>\n",
       "      <td>...</td>\n",
       "      <td>...</td>\n",
       "      <td>...</td>\n",
       "      <td>...</td>\n",
       "      <td>...</td>\n",
       "      <td>...</td>\n",
       "      <td>...</td>\n",
       "    </tr>\n",
       "    <tr>\n",
       "      <th>13701</th>\n",
       "      <td>CAC</td>\n",
       "      <td>2020-07-05</td>\n",
       "      <td>NaN</td>\n",
       "      <td>NaN</td>\n",
       "      <td>149.0</td>\n",
       "      <td>148.0</td>\n",
       "      <td>0.0</td>\n",
       "      <td>1.0</td>\n",
       "      <td>NaN</td>\n",
       "      <td>NaN</td>\n",
       "      <td>...</td>\n",
       "      <td>NaN</td>\n",
       "      <td>1</td>\n",
       "      <td>Costa Atlantica</td>\n",
       "      <td>NaN</td>\n",
       "      <td>NaN</td>\n",
       "      <td>NaN</td>\n",
       "      <td>NaN</td>\n",
       "      <td>NaN</td>\n",
       "      <td>NaN</td>\n",
       "      <td>NaN</td>\n",
       "    </tr>\n",
       "    <tr>\n",
       "      <th>13702</th>\n",
       "      <td>CAC</td>\n",
       "      <td>2020-07-06</td>\n",
       "      <td>NaN</td>\n",
       "      <td>NaN</td>\n",
       "      <td>149.0</td>\n",
       "      <td>148.0</td>\n",
       "      <td>0.0</td>\n",
       "      <td>1.0</td>\n",
       "      <td>NaN</td>\n",
       "      <td>NaN</td>\n",
       "      <td>...</td>\n",
       "      <td>NaN</td>\n",
       "      <td>1</td>\n",
       "      <td>Costa Atlantica</td>\n",
       "      <td>NaN</td>\n",
       "      <td>NaN</td>\n",
       "      <td>NaN</td>\n",
       "      <td>NaN</td>\n",
       "      <td>NaN</td>\n",
       "      <td>NaN</td>\n",
       "      <td>NaN</td>\n",
       "    </tr>\n",
       "    <tr>\n",
       "      <th>13703</th>\n",
       "      <td>CAC</td>\n",
       "      <td>2020-07-07</td>\n",
       "      <td>NaN</td>\n",
       "      <td>NaN</td>\n",
       "      <td>149.0</td>\n",
       "      <td>148.0</td>\n",
       "      <td>0.0</td>\n",
       "      <td>1.0</td>\n",
       "      <td>NaN</td>\n",
       "      <td>NaN</td>\n",
       "      <td>...</td>\n",
       "      <td>NaN</td>\n",
       "      <td>1</td>\n",
       "      <td>Costa Atlantica</td>\n",
       "      <td>NaN</td>\n",
       "      <td>NaN</td>\n",
       "      <td>NaN</td>\n",
       "      <td>NaN</td>\n",
       "      <td>NaN</td>\n",
       "      <td>NaN</td>\n",
       "      <td>NaN</td>\n",
       "    </tr>\n",
       "    <tr>\n",
       "      <th>13704</th>\n",
       "      <td>CAC</td>\n",
       "      <td>2020-07-08</td>\n",
       "      <td>NaN</td>\n",
       "      <td>NaN</td>\n",
       "      <td>149.0</td>\n",
       "      <td>148.0</td>\n",
       "      <td>0.0</td>\n",
       "      <td>1.0</td>\n",
       "      <td>NaN</td>\n",
       "      <td>NaN</td>\n",
       "      <td>...</td>\n",
       "      <td>NaN</td>\n",
       "      <td>1</td>\n",
       "      <td>Costa Atlantica</td>\n",
       "      <td>NaN</td>\n",
       "      <td>NaN</td>\n",
       "      <td>NaN</td>\n",
       "      <td>NaN</td>\n",
       "      <td>NaN</td>\n",
       "      <td>NaN</td>\n",
       "      <td>NaN</td>\n",
       "    </tr>\n",
       "    <tr>\n",
       "      <th>13705</th>\n",
       "      <td>CAC</td>\n",
       "      <td>2020-07-09</td>\n",
       "      <td>NaN</td>\n",
       "      <td>NaN</td>\n",
       "      <td>149.0</td>\n",
       "      <td>148.0</td>\n",
       "      <td>0.0</td>\n",
       "      <td>1.0</td>\n",
       "      <td>NaN</td>\n",
       "      <td>NaN</td>\n",
       "      <td>...</td>\n",
       "      <td>NaN</td>\n",
       "      <td>1</td>\n",
       "      <td>Costa Atlantica</td>\n",
       "      <td>NaN</td>\n",
       "      <td>NaN</td>\n",
       "      <td>NaN</td>\n",
       "      <td>NaN</td>\n",
       "      <td>NaN</td>\n",
       "      <td>NaN</td>\n",
       "      <td>NaN</td>\n",
       "    </tr>\n",
       "  </tbody>\n",
       "</table>\n",
       "<p>78 rows × 36 columns</p>\n",
       "</div>"
      ],
      "text/plain": [
       "        id       date  vaccines  tests  confirmed  recovered  deaths  hosp  \\\n",
       "13625  CAC 2020-04-20       NaN    4.0        0.0        0.0     0.0   1.0   \n",
       "13626  CAC 2020-04-21       NaN    4.0        1.0        0.0     0.0   1.0   \n",
       "13628  CAC 2020-04-23       NaN   61.0       48.0        0.0     0.0  34.0   \n",
       "13629  CAC 2020-04-24       NaN  127.0       91.0        0.0     0.0  48.0   \n",
       "13630  CAC 2020-04-25       NaN  335.0      148.0        0.0     0.0  91.0   \n",
       "...    ...        ...       ...    ...        ...        ...     ...   ...   \n",
       "13701  CAC 2020-07-05       NaN    NaN      149.0      148.0     0.0   1.0   \n",
       "13702  CAC 2020-07-06       NaN    NaN      149.0      148.0     0.0   1.0   \n",
       "13703  CAC 2020-07-07       NaN    NaN      149.0      148.0     0.0   1.0   \n",
       "13704  CAC 2020-07-08       NaN    NaN      149.0      148.0     0.0   1.0   \n",
       "13705  CAC 2020-07-09       NaN    NaN      149.0      148.0     0.0   1.0   \n",
       "\n",
       "       vent  icu  ...  currency  administrative_area_level  \\\n",
       "13625   NaN  NaN  ...       NaN                          1   \n",
       "13626   NaN  NaN  ...       NaN                          1   \n",
       "13628   NaN  NaN  ...       NaN                          1   \n",
       "13629   NaN  NaN  ...       NaN                          1   \n",
       "13630   NaN  NaN  ...       NaN                          1   \n",
       "...     ...  ...  ...       ...                        ...   \n",
       "13701   NaN  NaN  ...       NaN                          1   \n",
       "13702   NaN  NaN  ...       NaN                          1   \n",
       "13703   NaN  NaN  ...       NaN                          1   \n",
       "13704   NaN  NaN  ...       NaN                          1   \n",
       "13705   NaN  NaN  ...       NaN                          1   \n",
       "\n",
       "       administrative_area_level_1  administrative_area_level_2  \\\n",
       "13625              Costa Atlantica                          NaN   \n",
       "13626              Costa Atlantica                          NaN   \n",
       "13628              Costa Atlantica                          NaN   \n",
       "13629              Costa Atlantica                          NaN   \n",
       "13630              Costa Atlantica                          NaN   \n",
       "...                            ...                          ...   \n",
       "13701              Costa Atlantica                          NaN   \n",
       "13702              Costa Atlantica                          NaN   \n",
       "13703              Costa Atlantica                          NaN   \n",
       "13704              Costa Atlantica                          NaN   \n",
       "13705              Costa Atlantica                          NaN   \n",
       "\n",
       "       administrative_area_level_3  latitude  longitude  key  \\\n",
       "13625                          NaN       NaN        NaN  NaN   \n",
       "13626                          NaN       NaN        NaN  NaN   \n",
       "13628                          NaN       NaN        NaN  NaN   \n",
       "13629                          NaN       NaN        NaN  NaN   \n",
       "13630                          NaN       NaN        NaN  NaN   \n",
       "...                            ...       ...        ...  ...   \n",
       "13701                          NaN       NaN        NaN  NaN   \n",
       "13702                          NaN       NaN        NaN  NaN   \n",
       "13703                          NaN       NaN        NaN  NaN   \n",
       "13704                          NaN       NaN        NaN  NaN   \n",
       "13705                          NaN       NaN        NaN  NaN   \n",
       "\n",
       "       key_apple_mobility  key_google_mobility  \n",
       "13625                 NaN                  NaN  \n",
       "13626                 NaN                  NaN  \n",
       "13628                 NaN                  NaN  \n",
       "13629                 NaN                  NaN  \n",
       "13630                 NaN                  NaN  \n",
       "...                   ...                  ...  \n",
       "13701                 NaN                  NaN  \n",
       "13702                 NaN                  NaN  \n",
       "13703                 NaN                  NaN  \n",
       "13704                 NaN                  NaN  \n",
       "13705                 NaN                  NaN  \n",
       "\n",
       "[78 rows x 36 columns]"
      ]
     },
     "execution_count": 8,
     "metadata": {},
     "output_type": "execute_result"
    }
   ],
   "source": [
    "data[data.id == 'CAC'].dropna(subset=['hosp'])"
   ]
  },
  {
   "cell_type": "code",
   "execution_count": 9,
   "metadata": {
    "colab": {},
    "colab_type": "code",
    "id": "JtI8ru2at6ZU"
   },
   "outputs": [
    {
     "data": {
      "text/plain": [
       "<matplotlib.lines.Line2D at 0x7faa9f6e88b0>"
      ]
     },
     "execution_count": 9,
     "metadata": {},
     "output_type": "execute_result"
    },
    {
     "data": {
      "image/png": "[encoded data removed]",
      "text/plain": [
       "<Figure size 432x288 with 1 Axes>"
      ]
     },
     "metadata": {
      "needs_background": "light"
     },
     "output_type": "display_data"
    }
   ],
   "source": [
    "\n",
    "# ditch the nulls, sum by country\n",
    "hosp_by_ISO = data.dropna(subset=['hosp']).groupby('id').sum()\n",
    "\n",
    "# get the population by finding the max (presumes populations all grow) \n",
    "pops = data.groupby('id').max()[['population']]\n",
    "\n",
    "# merge the population onto the sum of hopitalizations \n",
    "hosps_and_pops = hosp_by_ISO[['hosp']].merge(pops, how=\"left\", left_index=True, right_index=True)\n",
    "\n",
    "# calculate hospitalizations per 1000\n",
    "hosps_and_pops['per_cap'] = 1000 * hosps_and_pops['hosp'] / hosps_and_pops['population']\n",
    "\n",
    "# remove outlier from cruise ship\n",
    "hosps_and_pops = hosps_and_pops[hosps_and_pops.per_cap < 500]\n",
    "\n",
    "median = hosps_and_pops.per_cap.median()\n",
    "\n",
    "result = plt.hist(hosps_and_pops.per_cap, bins=40, color='g', edgecolor='k')\n",
    "plt.axvline(median, color='r', linestyle='dashed', linewidth=1)"
   ]
  },
  {
   "cell_type": "code",
   "execution_count": 10,
   "metadata": {},
   "outputs": [
    {
     "data": {
      "text/plain": [
       "36"
      ]
     },
     "execution_count": 10,
     "metadata": {},
     "output_type": "execute_result"
    }
   ],
   "source": [
    "# check number of coutries which provided hosp data\n",
    "len(hosps_and_pops)"
   ]
  },
  {
   "cell_type": "markdown",
   "metadata": {
    "colab_type": "text",
    "id": "CCuxztg3uYPQ"
   },
   "source": [
    "To create this histogram I had to remove 'Costa Atlantica', a cruise ship that resulted in an abnormally high hospitalizations per 1000 people. \n",
    "\n",
    "Of the remaining countries, only 36 countries provided hospitalization data. \n",
    "\n",
    "I was surpised that there was not a normal distribution. Instead, there is a roughly equal distribution of between 0 to 90 hospitalizations per 1000 people with a median near 40."
   ]
  },
  {
   "cell_type": "markdown",
   "metadata": {
    "colab_type": "text",
    "id": "2wH5ikUcbb16"
   },
   "source": [
    "### <font color='#8B0000'> Q4 Create a visualization that shows the  number of tests per day in the United States and indicate the median value on your visualization.</font>"
   ]
  },
  {
   "cell_type": "code",
   "execution_count": 11,
   "metadata": {
    "colab": {},
    "colab_type": "code",
    "id": "EFwU7diL2gZI"
   },
   "outputs": [
    {
     "name": "stdout",
     "output_type": "stream",
     "text": [
      "961371.5\n"
     ]
    },
    {
     "data": {
      "text/plain": [
       "<matplotlib.lines.Line2D at 0x7faa8a2f00a0>"
      ]
     },
     "execution_count": 11,
     "metadata": {},
     "output_type": "execute_result"
    },
    {
     "data": {
      "image/png": "[encoded data removed]",
      "text/plain": [
       "<Figure size 432x288 with 1 Axes>"
      ]
     },
     "metadata": {
      "needs_background": "light"
     },
     "output_type": "display_data"
    }
   ],
   "source": [
    "# USA data only, drop rows with no test data\n",
    "usa = data[data.id == 'USA'].dropna(subset=['tests']).sort_values(by=\"date\")\n",
    "\n",
    "# Since tests were cumulative, a diff() from teh previous date was required\n",
    "plt.plot(usa.date, usa['tests'].diff(), color='green')\n",
    "\n",
    "median = usa['tests'].diff().median()\n",
    "print(median)\n",
    "\n",
    "plt.axhline(median, color='r', linestyle='dashed', linewidth=1)"
   ]
  },
  {
   "cell_type": "markdown",
   "metadata": {
    "colab_type": "text",
    "id": "WlWYu2_5uY7K"
   },
   "source": [
    "Only the cumulative test count was given in the dataset, so I had to diff the daily total to the previous days. \n",
    "\n",
    "The median daily tests in this period is 879,856.\n",
    "\n",
    "We can see that that testing was low in the first half of 2020. By the end of 2020, testing had grown well beyond its median, peaking in November, December 2020, and January 2021. Since then testing has dropped back below the median. "
   ]
  },
  {
   "cell_type": "markdown",
   "metadata": {
    "colab_type": "text",
    "id": "CVnHVSV12gZL"
   },
   "source": [
    "## For questions below:\n",
    "- You will have to call the covid19() function again **with parameters specific to Canada**. \n",
    "- Set the parameter <code>level = 2</code> in the call to covid19()."
   ]
  },
  {
   "cell_type": "code",
   "execution_count": 12,
   "metadata": {},
   "outputs": [
    {
     "name": "stdout",
     "output_type": "stream",
     "text": [
      "We have invested a lot of time and effort in creating COVID-19 Data Hub, please cite the following when using it:\n",
      "\n",
      "\t\u001b[1mGuidotti, E., Ardia, D., (2020), \"COVID-19 Data Hub\", Journal of Open Source Software 5(51):2376, doi: 10.21105/joss.02376.\u001b[0m\n",
      "\n",
      "A BibTeX entry for LaTeX users is\n",
      "\n",
      "\t@Article{,\n",
      "\t\ttitle = {COVID-19 Data Hub},\n",
      "\t\tyear = {2020},\n",
      "\t\tdoi = {10.21105/joss.02376},\n",
      "\t\tauthor = {Emanuele Guidotti and David Ardia},\n",
      "\t\tjournal = {Journal of Open Source Software},\n",
      "\t\tvolume = {5},\n",
      "\t\tnumber = {51},\n",
      "\t\tpages = {2376},\n",
      "\t}\n",
      "\n",
      "\u001b[33mTo hide this message use 'verbose = False'.\u001b[0m\n"
     ]
    }
   ],
   "source": [
    "canada = covid19(\"CAN\",level = 2)"
   ]
  },
  {
   "cell_type": "markdown",
   "metadata": {
    "colab_type": "text",
    "id": "ggXQN25h2gZM"
   },
   "source": [
    "### <font color='#8B0000'> Q5 Create a bar plot to show the number of tests conducted in each province.  </font>\n",
    "Order the provinces from west to east (use your best judgement for cases where the order is unclear).  Which Canadian province that has conducted the most tests?"
   ]
  },
  {
   "cell_type": "code",
   "execution_count": 13,
   "metadata": {
    "colab": {},
    "colab_type": "code",
    "id": "AtRQgtZL2gZM"
   },
   "outputs": [
    {
     "data": {
      "text/plain": [
       "<BarContainer object of 13 artists>"
      ]
     },
     "execution_count": 13,
     "metadata": {},
     "output_type": "execute_result"
    },
    {
     "data": {
      "image/png": "[encoded data removed]",
      "text/plain": [
       "<Figure size 432x288 with 1 Axes>"
      ]
     },
     "metadata": {
      "needs_background": "light"
     },
     "output_type": "display_data"
    }
   ],
   "source": [
    "# sinces tests are cumulative, I just want the max\n",
    "tests_and_pops = canada[0].groupby('administrative_area_level_2').max()[['tests']]\n",
    "\n",
    "# manually reorder from east to west\n",
    "eastbound = tests_and_pops.reindex(['Yukon',\n",
    "'British Columbia',\n",
    "'Northwest Territories',\n",
    "'Nunavut',\n",
    "'Alberta',\n",
    "'Saskatchewan',\n",
    "'Manitoba',\n",
    "'Ontario',\n",
    "'Quebec',\n",
    "'New Brunswick',\n",
    "'Nova Scotia',\n",
    "'Newfoundland and Labrador',\n",
    "'Prince Edward Island'])\n",
    "\n",
    "ax = plt.gca()\n",
    "plt.xticks(rotation = 90)\n",
    "plt.bar(eastbound.index, eastbound.tests, color='green')\n"
   ]
  },
  {
   "cell_type": "markdown",
   "metadata": {
    "colab_type": "text",
    "id": "YEfyfQtu2gZQ"
   },
   "source": [
    "Ontario has conducted the most tests by more than double the next province or territory. "
   ]
  },
  {
   "cell_type": "markdown",
   "metadata": {
    "colab_type": "text",
    "id": "Skkue0wv2gZQ"
   },
   "source": [
    "### <font color='#8B0000'> Q6 Create a bar plot that shows the number of tests conducted per 1000 people for each province in Canada.</font>\n",
    "How would you interpret the results of this bar plot given the results of bar plot in question 5. "
   ]
  },
  {
   "cell_type": "code",
   "execution_count": 14,
   "metadata": {
    "colab": {},
    "colab_type": "code",
    "id": "J3sgn95f2gZQ"
   },
   "outputs": [
    {
     "data": {
      "text/plain": [
       "<BarContainer object of 13 artists>"
      ]
     },
     "execution_count": 14,
     "metadata": {},
     "output_type": "execute_result"
    },
    {
     "data": {
      "image/png": "[encoded data removed]",
      "text/plain": [
       "<Figure size 432x288 with 1 Axes>"
      ]
     },
     "metadata": {
      "needs_background": "light"
     },
     "output_type": "display_data"
    }
   ],
   "source": [
    "# sinces tests are cumulative, I just want the max\n",
    "tests_and_pops = canada[0].groupby('administrative_area_level_2').max()[['tests', 'population']]\n",
    "\n",
    "# Calculate tests per 1000 (unlike before I choose the population corresponding to the max tests)\n",
    "tests_and_pops['per_cap'] = tests_and_pops['tests'] * 1000 / tests_and_pops['population']\n",
    "\n",
    "# manually reorder from east to west\n",
    "eastbound = tests_and_pops.reindex(['Yukon',\n",
    "'British Columbia',\n",
    "'Northwest Territories',\n",
    "'Nunavut',\n",
    "'Alberta',\n",
    "'Saskatchewan',\n",
    "'Manitoba',\n",
    "'Ontario',\n",
    "'Quebec',\n",
    "'New Brunswick',\n",
    "'Nova Scotia',\n",
    "'Newfoundland and Labrador',\n",
    "'Prince Edward Island'])\n",
    "\n",
    "\n",
    "ax = plt.gca()\n",
    "plt.xticks(rotation = 90)\n",
    "plt.bar(eastbound.index, eastbound.per_cap, color='green')\n"
   ]
  },
  {
   "cell_type": "markdown",
   "metadata": {
    "colab_type": "text",
    "id": "OeTYYDMO2gZT"
   },
   "source": [
    "Although Ontario had the highest number of tests overall, their testing per capita was on par with Alberta and Prince Edward Island. This implies that their population is much higher than the other provinces and territoties. "
   ]
  },
  {
   "cell_type": "markdown",
   "metadata": {
    "colab_type": "text",
    "id": "kF2a-RsJ2gZU"
   },
   "source": [
    "### <font color='#8B0000'> Q7 Create a visualization that shows which Canadian province has the highest recovery rate. </font>\n",
    "Recovery rate is calculated as the number of recovered cases divided by the number of confirmed cases."
   ]
  },
  {
   "cell_type": "code",
   "execution_count": 15,
   "metadata": {
    "colab": {},
    "colab_type": "code",
    "id": "JpzjGH8S5gIy"
   },
   "outputs": [
    {
     "data": {
      "text/plain": [
       "<BarContainer object of 13 artists>"
      ]
     },
     "execution_count": 15,
     "metadata": {},
     "output_type": "execute_result"
    },
    {
     "data": {
      "image/png": "[encoded data removed]",
      "text/plain": [
       "<Figure size 432x288 with 1 Axes>"
      ]
     },
     "metadata": {
      "needs_background": "light"
     },
     "output_type": "display_data"
    }
   ],
   "source": [
    "# both confirmed and recovered are cumulative so I think it's safe to extract the max for both\n",
    "recovered = canada[0].dropna(subset=['recovered', 'confirmed']).groupby('administrative_area_level_2').max()\n",
    "\n",
    "# calculate the recovery rate\n",
    "recovered['recovery_rate'] = recovered['recovered'] * 100 / recovered['confirmed']\n",
    "\n",
    "ax = plt.gca()\n",
    "plt.xticks(rotation = 90)\n",
    "plt.bar(recovered.index, recovered.recovery_rate, color='green')"
   ]
  },
  {
   "cell_type": "markdown",
   "metadata": {
    "colab_type": "text",
    "id": "Au4YdEij2gZU"
   },
   "source": [
    "Prince Edward Island has the highest recovery rate but most provinces and territories are in the ballpack. Newfoundland and Labrador sticks out with the lowerst recovery rate at about 55%."
   ]
  },
  {
   "cell_type": "markdown",
   "metadata": {
    "colab_type": "text",
    "id": "1ypeZjWN2gZV"
   },
   "source": [
    "### <font color='#8B0000'> Q8 Create visualizations that show the impacts of _at least_ three policy measures on mortality or infection rates.</font>\n",
    "\n",
    "\n",
    "See https://covid19datahub.io/articles/doc/data.html for descriptions of the available policy measures.  You are not limited to histograms and bar charts.  Remember that you can use subplots!\n"
   ]
  },
  {
   "cell_type": "code",
   "execution_count": 16,
   "metadata": {},
   "outputs": [
    {
     "name": "stdout",
     "output_type": "stream",
     "text": [
      "1\n",
      "2\n",
      "1\n",
      "1\n",
      "1\n",
      "1\n",
      "1\n",
      "1\n",
      "1\n",
      "1\n",
      "1\n",
      "1\n"
     ]
    }
   ],
   "source": [
    "# Canada data only\n",
    "print(len(recovered.school_closing.unique()))\n",
    "print(len(recovered.workplace_closing.unique()))\n",
    "print(len(recovered.cancel_events.unique()))\n",
    "print(len(recovered.gatherings_restrictions.unique()))\n",
    "print(len(recovered.transport_closing.unique()))\n",
    "print(len(recovered.stay_home_restrictions.unique()))\n",
    "print(len(recovered.internal_movement_restrictions.unique()))\n",
    "print(len(recovered.international_movement_restrictions.unique()))\n",
    "print(len(recovered.information_campaigns.unique()))\n",
    "print(len(recovered.testing_policy.unique()))\n",
    "print(len(recovered.contact_tracing.unique()))\n",
    "print(len(recovered.stringency_index.unique()))"
   ]
  },
  {
   "cell_type": "markdown",
   "metadata": {},
   "source": [
    "Since Canada almost uniformly applies its policies I assume that this question wants me to investigate policy measures across all coutries"
   ]
  },
  {
   "cell_type": "code",
   "execution_count": 17,
   "metadata": {
    "colab": {},
    "colab_type": "code",
    "id": "-7-V1pJ52gZW"
   },
   "outputs": [
    {
     "data": {
      "text/plain": [
       "<matplotlib.axes._subplots.AxesSubplot at 0x7faa7cd28f40>"
      ]
     },
     "execution_count": 17,
     "metadata": {},
     "output_type": "execute_result"
    },
    {
     "data": {
      "image/png": "[encoded data removed]",
      "text/plain": [
       "<Figure size 432x288 with 9 Axes>"
      ]
     },
     "metadata": {
      "needs_background": "light"
     },
     "output_type": "display_data"
    }
   ],
   "source": [
    "# both confirmed and recovered are cumulative so I think it's safe to extract the max for both\n",
    "cases = data.dropna(subset=['population', 'confirmed']).groupby('id').max()\n",
    "\n",
    "# calculate the recovery rate\n",
    "cases['infection_rate'] = cases['confirmed'] * 1000 / cases['population']\n",
    "\n",
    "cases\n",
    "\n",
    "fig = plt.figure()\n",
    "plt.subplots_adjust(left=2, bottom=2, right=4, top=4, wspace=None, hspace=None)\n",
    "ax1 = fig.add_subplot(3, 3, 1)\n",
    "sns.boxplot(x=\"school_closing\",y=\"infection_rate\",data=cases)\n",
    "ax2 = fig.add_subplot(3, 3, 2)\n",
    "sns.boxplot(x=\"workplace_closing\",y=\"infection_rate\",data=cases)\n",
    "ax3 = fig.add_subplot(3, 3, 3)\n",
    "sns.boxplot(x=\"gatherings_restrictions\",y=\"infection_rate\",data=cases)\n",
    "ax4 = fig.add_subplot(3, 3, 4)\n",
    "sns.boxplot(x=\"transport_closing\",y=\"infection_rate\",data=cases)\n",
    "ax5 = fig.add_subplot(3, 3, 5)\n",
    "sns.boxplot(x=\"stay_home_restrictions\",y=\"infection_rate\",data=cases)\n",
    "ax6 = fig.add_subplot(3, 3, 6)\n",
    "sns.boxplot(x=\"international_movement_restrictions\",y=\"infection_rate\",data=cases)\n",
    "ax7 = fig.add_subplot(3, 3, 7)\n",
    "sns.boxplot(x=\"testing_policy\",y=\"infection_rate\",data=cases)\n",
    "ax8 = fig.add_subplot(3, 3, 8)\n",
    "sns.boxplot(x=\"contact_tracing\",y=\"infection_rate\",data=cases)\n",
    "ax9 = fig.add_subplot(3, 3, 9)\n",
    "sns.boxplot(x=\"information_campaigns\",y=\"infection_rate\",data=cases)\n"
   ]
  },
  {
   "cell_type": "markdown",
   "metadata": {
    "colab_type": "text",
    "id": "83mPoFFx2gZY"
   },
   "source": [
    "Note: Some policies likely had low representation resulting in small boxes, so I will only address thos with a sufficient range to support their representation and thus effectiveness. \n",
    "\n",
    "My expectation was that the stricter the policy the lower the infecation rate. This was not purely the case.\n",
    "\n",
    "School closings, transport closings, & international travel restrictions seem to be beneficial when implementing the strictest policies. \n",
    "\n",
    "Counterintuitively, workplace closings, gathering restrictions, contract tracing, and information campaigns seem to have an undesirable impact on infection rates. \n",
    "\n",
    "Testing and stay at home restrictions don't appear to have a mateial impact on infection rates.\n",
    "\n",
    "What I take from this is that policies can not be applies across the board. Each country should choose a custom policy set that it appropriate for itself. "
   ]
  },
  {
   "cell_type": "markdown",
   "metadata": {
    "colab_type": "text",
    "id": "ezPjmQTU2gZY"
   },
   "source": [
    "## <font color='green'> Please submit your completed notebook in .IPYNB and .HTML formats via Canvas </font>"
   ]
  },
  {
   "cell_type": "code",
   "execution_count": null,
   "metadata": {},
   "outputs": [],
   "source": []
  }
 ],
 "metadata": {
  "colab": {
   "collapsed_sections": [],
   "name": "370_Homework_2.ipynb",
   "provenance": []
  },
  "kernelspec": {
   "display_name": "Python 3",
   "language": "python",
   "name": "python3"
  },
  "language_info": {
   "codemirror_mode": {
    "name": "ipython",
    "version": 3
   },
   "file_extension": ".py",
   "mimetype": "text/x-python",
   "name": "python",
   "nbconvert_exporter": "python",
   "pygments_lexer": "ipython3",
   "version": "3.8.3"
  }
 },
 "nbformat": 4,
 "nbformat_minor": 4
}
